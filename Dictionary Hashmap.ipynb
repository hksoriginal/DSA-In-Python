{
 "cells": [
  {
   "cell_type": "code",
   "execution_count": 4,
   "id": "327d321a",
   "metadata": {},
   "outputs": [],
   "source": [
    "from collections import Counter"
   ]
  },
  {
   "cell_type": "code",
   "execution_count": 2,
   "id": "a27c546b",
   "metadata": {},
   "outputs": [],
   "source": [
    "def checkMagazine(magazine,note):\n",
    "    flag = True\n",
    "    c1 = Counter(magazine)\n",
    "    c2 = Counter(note)\n",
    "    for k,v in c2.items():\n",
    "        if k in c1 and c1[k] >= v:\n",
    "            continue\n",
    "        else:\n",
    "            flag = False\n",
    "            break\n",
    "    if flag:\n",
    "        print('Yes')\n",
    "    else:\n",
    "        print('No')"
   ]
  },
  {
   "cell_type": "code",
   "execution_count": null,
   "id": "aef50086",
   "metadata": {},
   "outputs": [],
   "source": []
  },
  {
   "cell_type": "code",
   "execution_count": 3,
   "id": "56882bc9",
   "metadata": {},
   "outputs": [],
   "source": [
    "def checkMagazine(magazine,note):\n",
    "    flag = True\n",
    "    c1 = Counter(magazine)\n",
    "    c2 = Counter(note)\n",
    "    if c2 - c1 == {}:\n",
    "        print('Yes')\n",
    "    else:\n",
    "        print('No')\n",
    "    "
   ]
  },
  {
   "cell_type": "code",
   "execution_count": 4,
   "id": "38aa4cd7",
   "metadata": {},
   "outputs": [],
   "source": [
    "#two strings\n",
    "def twoString(s1,s2):\n",
    "    flag = False\n",
    "    for c in s1:\n",
    "        if c in s2:\n",
    "            flag = True\n",
    "            break\n",
    "    if flag:\n",
    "        return 'YES'\n",
    "    else:\n",
    "        return 'NO'"
   ]
  },
  {
   "cell_type": "code",
   "execution_count": 5,
   "id": "0a02decf",
   "metadata": {},
   "outputs": [],
   "source": [
    "def twoStrings(s1,s2):\n",
    "    a = Counter(s1)\n",
    "    flag = False\n",
    "    for c in s1:\n",
    "        if c in s2.keys():\n",
    "            break\n",
    "    if flag:\n",
    "        return 'YES'\n",
    "    else:\n",
    "        return 'NO'\n",
    "            "
   ]
  },
  {
   "cell_type": "code",
   "execution_count": 5,
   "id": "c2bb3fa8",
   "metadata": {},
   "outputs": [],
   "source": [
    "# sherlock and anagram\n",
    "def sherlockAndAnagrams(s):\n",
    "    count = 0\n",
    "    dic  = Counter(s)\n",
    "    print(dic)\n",
    "    for i in range(2,len(s)):\n",
    "        sub = s[0:i]\n",
    "        print(sub)\n",
    "        l = len(sub)\n",
    "        dic[\"\".join(sorted(sub))]+=1\n",
    "        print(dic)\n",
    "   \n",
    "        for j in range(1,len(s)):\n",
    "            if j + l <= len(s):\n",
    "                dic[\"\".join(sorted(s[j:j+l]))]+=1\n",
    "        print(dic)\n",
    "    for k,v in dic.items():\n",
    "        count+=v*(v-1)//2\n",
    "    return count"
   ]
  },
  {
   "cell_type": "code",
   "execution_count": 6,
   "id": "7a71892b",
   "metadata": {},
   "outputs": [
    {
     "name": "stdout",
     "output_type": "stream",
     "text": [
      "Counter({'m': 1, 'e': 1, 'o': 1, 'w': 1})\n",
      "me\n",
      "Counter({'m': 1, 'e': 1, 'o': 1, 'w': 1, 'em': 1})\n",
      "Counter({'m': 1, 'e': 1, 'o': 1, 'w': 1, 'em': 1, 'eo': 1, 'ow': 1})\n",
      "meo\n",
      "Counter({'m': 1, 'e': 1, 'o': 1, 'w': 1, 'em': 1, 'eo': 1, 'ow': 1, 'emo': 1})\n",
      "Counter({'m': 1, 'e': 1, 'o': 1, 'w': 1, 'em': 1, 'eo': 1, 'ow': 1, 'emo': 1, 'eow': 1})\n"
     ]
    },
    {
     "data": {
      "text/plain": [
       "0"
      ]
     },
     "execution_count": 6,
     "metadata": {},
     "output_type": "execute_result"
    }
   ],
   "source": [
    "sherlockAndAnagrams('meow')"
   ]
  },
  {
   "cell_type": "code",
   "execution_count": 10,
   "id": "d267e98a",
   "metadata": {},
   "outputs": [],
   "source": [
    "#frequency queries\n",
    "def freqQuery(queries):\n",
    "    res = []\n",
    "    dic = Counter()\n",
    "    dic_val = Counter()\n",
    "    for op, val in queries:\n",
    "        if op == 1:\n",
    "            dic_val[dic[val]]-=1\n",
    "            dic[val]+=1\n",
    "            dic_val[dic[val]]+=1\n",
    "        elif op == 2:\n",
    "            if dic[val]>0:\n",
    "                dic_val[dic[val]]-=1\n",
    "                dic[val] -=1\n",
    "                dic_val[dic[val]]+=1\n",
    "        else:\n",
    "            res.append(1 if dic_val[val] > 0 else 0)\n",
    "                \n",
    "    return res       \n",
    "            "
   ]
  },
  {
   "cell_type": "code",
   "execution_count": 1,
   "id": "6d560d0e",
   "metadata": {},
   "outputs": [
    {
     "name": "stdout",
     "output_type": "stream",
     "text": [
      "2\n",
      "ap 5\n",
      "ap 6\n",
      "ap 11\n"
     ]
    }
   ],
   "source": [
    "#order Dictionary\n",
    "from collections import OrderedDict\n",
    "od = OrderedDict()\n",
    "for i in range(int(input())):\n",
    "    str  = input().split()\n",
    "    k = ' '.join(str[:-1])\n",
    "    v=int(str[-1])\n",
    "    if k in od:\n",
    "        od[k]+=v\n",
    "    else:\n",
    "        od[k]=v\n",
    "for k,v in od.items():\n",
    "    print(k,v)\n",
    "    \n",
    "    "
   ]
  },
  {
   "cell_type": "code",
   "execution_count": 4,
   "id": "5eaa42da",
   "metadata": {},
   "outputs": [
    {
     "name": "stdout",
     "output_type": "stream",
     "text": [
      "2\n",
      "as 45\n",
      "as 15\n",
      "as 60\n"
     ]
    }
   ],
   "source": [
    "from collections import OrderedDict\n",
    "od = OrderedDict()\n",
    "for i in range(int(input())):\n",
    "    k,v = input().rsplit(' ',1)\n",
    "    if k in od:\n",
    "        od[k]=int(od[k])+int(v)\n",
    "    else:\n",
    "        od[k]=v\n",
    "for k,v in od.items():\n",
    "    print(k,v)\n",
    "    \n",
    "    "
   ]
  },
  {
   "cell_type": "code",
   "execution_count": 5,
   "id": "bd57288a",
   "metadata": {},
   "outputs": [],
   "source": [
    "#count Triplets\n",
    "def countTriplets(arr,r):\n",
    "    count = 0\n",
    "    before = {}\n",
    "    after = {}\n",
    "    for v in arr:\n",
    "        if v in after:\n",
    "            after[v]+=1\n",
    "        else:\n",
    "            after[v] = 1\n",
    "    for v in arr:\n",
    "        after[v]-=1 # current element\n",
    "        if v//r in before and v % r == 0 and v*r in after:\n",
    "            count+=before[v//r] * after[v*r]\n",
    "        if v in before:\n",
    "            before[v]+=1\n",
    "        else:\n",
    "            before[v] = 1\n",
    "    return count\n",
    "            \n",
    "    "
   ]
  },
  {
   "cell_type": "code",
   "execution_count": 1,
   "id": "7f2068e2",
   "metadata": {},
   "outputs": [],
   "source": [
    "# icecreame parlour\n",
    "def icecreamParlor(m,arr):\n",
    "    dic = dict()\n",
    "    for i in range(len(arr)):\n",
    "        if arr[i] in dic:\n",
    "            return dic[arr[i]]+1,i+1\n",
    "        else:\n",
    "            dic[m-arr[i]] = i\n",
    "    "
   ]
  },
  {
   "cell_type": "code",
   "execution_count": 3,
   "id": "5c320853",
   "metadata": {},
   "outputs": [],
   "source": [
    "# beautiful Triplet\n",
    "def beautifulTriplets(d,arr):\n",
    "    c = 0\n",
    "    dic = dict()\n",
    "    for i in range(len(arr)):\n",
    "        dic[arr[i]] = i\n",
    "    for x in arr:\n",
    "        if x + d in dic and dic[x + d] > dic[x]:\n",
    "            if x + 2*d in dic and dic[x + 2*d] > dic[x + d]:\n",
    "                c+=1 \n",
    "    return c           \n",
    "         "
   ]
  },
  {
   "cell_type": "code",
   "execution_count": null,
   "id": "4ec80213",
   "metadata": {},
   "outputs": [],
   "source": [
    "#default dictionary\n"
   ]
  }
 ],
 "metadata": {
  "kernelspec": {
   "display_name": "Python 3 (ipykernel)",
   "language": "python",
   "name": "python3"
  },
  "language_info": {
   "codemirror_mode": {
    "name": "ipython",
    "version": 3
   },
   "file_extension": ".py",
   "mimetype": "text/x-python",
   "name": "python",
   "nbconvert_exporter": "python",
   "pygments_lexer": "ipython3",
   "version": "3.7.0"
  }
 },
 "nbformat": 4,
 "nbformat_minor": 5
}
