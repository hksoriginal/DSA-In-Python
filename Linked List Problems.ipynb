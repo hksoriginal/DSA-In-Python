{
 "cells": [
  {
   "cell_type": "code",
   "execution_count": 1,
   "id": "7003793b",
   "metadata": {},
   "outputs": [],
   "source": [
    "# reverse a linked list\n",
    "# https://leetcode.com/problems/reverse-linked-list/\n",
    "def reverseList(head):\n",
    "    prev = None\n",
    "    current = head\n",
    "    nxt = head.next\n",
    "    while current:\n",
    "        nxt = current.next\n",
    "        #change the directio of nodes\n",
    "        current.next = prev\n",
    "        # shifting the nodes\n",
    "        prev = current\n",
    "        current = nxt  \n",
    "    return prev\n",
    "        "
   ]
  },
  {
   "cell_type": "code",
   "execution_count": 2,
   "id": "3b4923f6",
   "metadata": {},
   "outputs": [],
   "source": [
    "#palindrome linkedlist\n",
    "# https://leetcode.com/problems/palindrome-linked-list/\n",
    "# 1. Array apporach\n",
    "def isPalindrome(head):\n",
    "    nums = []\n",
    "    while head:\n",
    "        nums.append(head.val)\n",
    "        head = head.next\n",
    "    l,r = 0 ,len(nums) -1\n",
    "    while l <= r:\n",
    "        if nums[l] != nums[r]:\n",
    "            return False\n",
    "        l+=1\n",
    "        r-=1\n",
    "    return True\n",
    "# 2. Two pointer approach\n",
    "def isPalindrome(head):\n",
    "    fast = head\n",
    "    slow = head\n",
    "    #find middle (slow)\n",
    "    while fast and fast.next:\n",
    "        fast = fast.next.next\n",
    "        slow = slow.next\n",
    "    \n",
    "    #reverse 2nd half\n",
    "    prev = None\n",
    "    while slow:\n",
    "        tmp = slow.next\n",
    "        slow.next = prev\n",
    "        prev = slow\n",
    "        slow = tmp\n",
    "        \n",
    "    #check palindrome\n",
    "    left,right = head,perv\n",
    "    while right:\n",
    "        if left.val != right.val:\n",
    "            return False\n",
    "        left = left.next\n",
    "        right = right.next\n",
    "    return True\n",
    "            \n",
    "        \n",
    "    "
   ]
  },
  {
   "cell_type": "code",
   "execution_count": 3,
   "id": "5a8eb3a1",
   "metadata": {},
   "outputs": [],
   "source": [
    "#cycle in a linkedlist\n",
    "# https://leetcode.com/problems/linked-list-cycle/\n",
    "# floyd's tortoise & hare\n",
    "def hasCycle(head):\n",
    "    fast, slow = head,head\n",
    "    while fast and fast.next:\n",
    "        slow = slow.next\n",
    "        fast = fast.next.next\n",
    "        if slow == fast:\n",
    "            return True\n",
    "    return False"
   ]
  },
  {
   "attachments": {
    "image.png": {
     "image/png": "[encoded data removed]"
    }
   },
   "cell_type": "markdown",
   "id": "efc5ebb7",
   "metadata": {},
   "source": [
    "![image.png](attachment:image.png)"
   ]
  },
  {
   "cell_type": "code",
   "execution_count": 4,
   "id": "2fb5163f",
   "metadata": {},
   "outputs": [],
   "source": [
    "#intesection of two linked list\n",
    "def getIntersectionNode(headA,headB):\n",
    "        l1,l2 = headA,headB\n",
    "        while l1!=l2:\n",
    "            if l1:\n",
    "                l1 = l1.next\n",
    "            else:\n",
    "                l1 = headB\n",
    "                \n",
    "            if l2:\n",
    "                l2 = l2.next\n",
    "            else:\n",
    "                l2 = headA      \n",
    "        return l1"
   ]
  },
  {
   "cell_type": "code",
   "execution_count": 5,
   "id": "a13b79d8",
   "metadata": {},
   "outputs": [],
   "source": [
    "# merge two sorted linked list\n",
    "# https://leetcode.com/problems/merge-two-sorted-lists/\n",
    "def megeTwoLists(l1,l2):\n",
    "    dummy = ListNode()\n",
    "    tail = dummy\n",
    "    \n",
    "    while l1 and l2:\n",
    "        if l1.val < l2.val:\n",
    "            tail.next = l1\n",
    "            l1 = l1.next\n",
    "        else:\n",
    "            tail.next = l2\n",
    "            l2 = l2.next\n",
    "        tail = tail.next\n",
    "    if l1:\n",
    "        tail.next = l1\n",
    "    elif l2:\n",
    "        tail.next = l2\n",
    "    return dummy.next\n",
    "        "
   ]
  },
  {
   "cell_type": "code",
   "execution_count": 6,
   "id": "e38ae351",
   "metadata": {},
   "outputs": [],
   "source": [
    "# another approach to merge two sorted linked list\n",
    "def mergeTwoList(l1,l2):\n",
    "    if not l1: return l2\n",
    "    if not l2: return l1\n",
    "    current = dummy = ListNode(0)\n",
    "    while l1 and l2:\n",
    "        if l1.val < l2.val :\n",
    "            current.next = l1\n",
    "            l1 = l1.next\n",
    "        else:\n",
    "            current.next = l2\n",
    "            l2 = l2.next\n",
    "        current = current.next\n",
    "    if l1: current.next = l1\n",
    "    if l2: current.next = l2\n",
    "    \n",
    "    return dummy.next\n",
    "        "
   ]
  },
  {
   "cell_type": "code",
   "execution_count": 7,
   "id": "c478f5c0",
   "metadata": {},
   "outputs": [],
   "source": [
    "# recursive approach\n",
    "import sys\n",
    "sys.setrecursionlimit(100000)\n",
    "\n",
    "def mergeTwoLists(head1,head2):\n",
    "    if head1 == None and head2 == None:\n",
    "        return None\n",
    "    if head1 == None:\n",
    "        return head2\n",
    "    if head2 == None:\n",
    "        return head1\n",
    "    if head1.data < head2.data :\n",
    "        temp = head1\n",
    "        temp.next = mergeTwoLists(head1.next,head2)\n",
    "    else:\n",
    "        temp = head2\n",
    "        temp.next = mergeTwoLists(head1,head2.next)\n",
    "        \n",
    "    return temp\n",
    "        \n",
    "    "
   ]
  },
  {
   "cell_type": "code",
   "execution_count": 8,
   "id": "66806b92",
   "metadata": {},
   "outputs": [],
   "source": [
    "#insert a node at a specific position\n",
    "def insertNodeAtPosition(head,data,position):\n",
    "    node = SinglyLinkedListNode(data)\n",
    "    if head == None:\n",
    "        head = node\n",
    "    else:\n",
    "        temp = head\n",
    "        index = 1\n",
    "        while temp and index < position:\n",
    "            temp = temp.next\n",
    "            index+=1\n",
    "\n",
    "        node.next = temp.next\n",
    "        temp.next = node\n",
    "    return head"
   ]
  },
  {
   "cell_type": "code",
   "execution_count": 9,
   "id": "1831d79a",
   "metadata": {},
   "outputs": [],
   "source": [
    "# delete duplicate value nodes in Linked List (sorted)\n",
    "def removeDuplicates(head):\n",
    "    temp = head\n",
    "    while temp.next != None:\n",
    "        if temp.data == temp.next.data:\n",
    "            temp.next = temp.next.next\n",
    "        else:\n",
    "            temp = temp.next\n",
    "    return head"
   ]
  },
  {
   "cell_type": "code",
   "execution_count": null,
   "id": "97792ff9",
   "metadata": {},
   "outputs": [],
   "source": []
  }
 ],
 "metadata": {
  "kernelspec": {
   "display_name": "Python 3 (ipykernel)",
   "language": "python",
   "name": "python3"
  },
  "language_info": {
   "codemirror_mode": {
    "name": "ipython",
    "version": 3
   },
   "file_extension": ".py",
   "mimetype": "text/x-python",
   "name": "python",
   "nbconvert_exporter": "python",
   "pygments_lexer": "ipython3",
   "version": "3.7.0"
  }
 },
 "nbformat": 4,
 "nbformat_minor": 5
}
