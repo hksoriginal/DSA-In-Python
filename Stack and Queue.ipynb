{
 "cells": [
  {
   "cell_type": "code",
   "execution_count": 1,
   "id": "9d787991",
   "metadata": {},
   "outputs": [
    {
     "name": "stdout",
     "output_type": "stream",
     "text": [
      "1\n",
      "{}{}{()))\n",
      "NO\n"
     ]
    }
   ],
   "source": [
    "# balanced Brackets\n",
    "def check(s):\n",
    "    lst = list()\n",
    "    for i in range(len(s)):\n",
    "        if s[i] in ('({[]})'):\n",
    "            lst.append(s[i])\n",
    "        if (len(lst) > 1 and ((lst[-2]=='[' and lst[-1]==']') or (lst[-2]=='(' and lst[-1]==')')or(lst[-2]=='{' and lst[-1]=='}'))):\n",
    "            lst.pop()\n",
    "            lst.pop()\n",
    "    if len(lst) == 0:\n",
    "        print('YES')\n",
    "    else:\n",
    "        print('NO')\n",
    "\n",
    "        \n",
    "        \n",
    "for _ in range(int(input())):\n",
    "    check(input())\n"
   ]
  },
  {
   "cell_type": "code",
   "execution_count": 39,
   "id": "203fe2b7",
   "metadata": {},
   "outputs": [],
   "source": [
    "#waiter Problem\n",
    "\n",
    "        \n",
    "        \n",
    "def waiter(number,q):\n",
    "    prime_num = []\n",
    "\n",
    "    def isprime(n):\n",
    "        for j in range(2,int(n/2)+1):\n",
    "            if n%j==0:\n",
    "                return False\n",
    "            return True\n",
    "\n",
    "    for n in range(2,10000):\n",
    "        if(isprime(n)):\n",
    "            prime_num.append(n)\n",
    "#     print(prime_num)\n",
    "    \n",
    "    A = []\n",
    "    B = []\n",
    "    answers = []\n",
    "    for i in range(q):\n",
    "        while(number):\n",
    "            value = number.pop()\n",
    "            if value % prime_num[i] == 0:\n",
    "                B.append(value)\n",
    "            else:\n",
    "                A.append(value)\n",
    "        while(B):\n",
    "            answers.append(B.pop())\n",
    "        number = A\n",
    "        A = []\n",
    "    while(number): \n",
    "        answers.append(number.pop())\n",
    "    return answers\n",
    "    \n",
    "        \n",
    "    "
   ]
  },
  {
   "cell_type": "code",
   "execution_count": 40,
   "id": "548ae988",
   "metadata": {},
   "outputs": [
    {
     "data": {
      "text/plain": [
       "[5, 3, 4, 7, 6]"
      ]
     },
     "execution_count": 40,
     "metadata": {},
     "output_type": "execute_result"
    }
   ],
   "source": [
    "waiter([3,4,7,6,5],1)"
   ]
  },
  {
   "cell_type": "code",
   "execution_count": 35,
   "id": "87e27d36",
   "metadata": {},
   "outputs": [],
   "source": [
    "prime_num_1 = []\n",
    "\n",
    "def isprime(n):\n",
    "    for j in range(2,int(n/2)+1):\n",
    "        if n%j==0:\n",
    "            return False\n",
    "        return True\n",
    "\n",
    "for n in range(2,10000):\n",
    "    if (isprime(n)):\n",
    "        prime_num_1.append(n)"
   ]
  },
  {
   "cell_type": "code",
   "execution_count": 41,
   "id": "0a1a5c92",
   "metadata": {},
   "outputs": [],
   "source": [
    "#maximum elements\n",
    "def getMax(operations):\n",
    "    stack = []\n",
    "    res = []\n",
    "    max_val = [0]\n",
    "    for val in operations:\n",
    "        val = val.split()\n",
    "        if val[0]=='1':\n",
    "            max_val.append(max(int(val[1]),max_val[-1]))\n",
    "        elif val[0]=='2':\n",
    "            max_val.pop()\n",
    "        else:\n",
    "            res.append(max_val[-1])\n",
    "    return res"
   ]
  },
  {
   "cell_type": "code",
   "execution_count": null,
   "id": "fd6c8f2a",
   "metadata": {},
   "outputs": [],
   "source": [
    "#simple text editor\n",
    "n = int(input())\n",
    "s = \"\"\n",
    "stack = []\n",
    "while n:\n",
    "    val = input().split()\n",
    "    if val[0]=='1': # '1 abc' ['1','abc']\n",
    "        s+=val[1]\n",
    "        stack.append(s)\n",
    "    elif val[0]=='2': # '2 3' ['2','3']\n",
    "        s=s[0:len(s)-int(val[1])]\n",
    "        stack.append(s)\n",
    "    elif val[0] == '3': # '3 2' ['3','2']\n",
    "        print(s[int(val[1])-1])\n",
    "    else:\n",
    "        stack.pop()\n",
    "        if len(stack) > 0:\n",
    "            s = stack[-1]\n",
    "        else:\n",
    "            s=\"\"\n",
    "    n-=1\n",
    "            \n",
    "        "
   ]
  },
  {
   "cell_type": "code",
   "execution_count": null,
   "id": "d5cd0ae8",
   "metadata": {},
   "outputs": [],
   "source": [
    "#equal stacks\n",
    " def equalStacks(s1,s2,s3):\n",
    "    sum1 = sum(s1)\n",
    "    sum2 = sum(s2)\n",
    "    sum3 = sum(s3)\n",
    "    while s1 and s2 and s2:\n",
    "        m = min(sum1,sum2,sum3)\n",
    "        while sum1 > m:\n",
    "            sum1-=s1.pop(0)\n",
    "        while sum2 > m:\n",
    "            sum2 -=s2.pop(0)\n",
    "        while sum3 > m:\n",
    "            sum3 -=s3.pop(0)\n",
    "        if sum1 == sum2 == sum3:\n",
    "            return sum1\n",
    "    return 0       "
   ]
  }
 ],
 "metadata": {
  "kernelspec": {
   "display_name": "Python 3 (ipykernel)",
   "language": "python",
   "name": "python3"
  },
  "language_info": {
   "codemirror_mode": {
    "name": "ipython",
    "version": 3
   },
   "file_extension": ".py",
   "mimetype": "text/x-python",
   "name": "python",
   "nbconvert_exporter": "python",
   "pygments_lexer": "ipython3",
   "version": "3.7.0"
  }
 },
 "nbformat": 4,
 "nbformat_minor": 5
}
