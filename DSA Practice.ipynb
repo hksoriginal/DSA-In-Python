{
 "cells": [
  {
   "cell_type": "code",
   "execution_count": 44,
   "id": "09d6e754",
   "metadata": {},
   "outputs": [],
   "source": [
    "class Node:\n",
    "    def __init__(self,data=None):\n",
    "        self.data = data\n",
    "        self.next = None\n",
    "        \n",
    "class LinkedList:\n",
    "    def __init__(self):\n",
    "        self.head = None\n",
    "        \n",
    "    def insert_at_begining(self,data):\n",
    "        pointer = Node(data)\n",
    "        pointer.next = self.head\n",
    "        self.head = pointer\n",
    "    \n",
    "    def traverse(self):\n",
    "        pointer = self.head\n",
    "        while pointer is not None:\n",
    "            print(pointer.data, end=' ')\n",
    "            pointer = pointer.next\n",
    "            \n",
    "            \n",
    "            \n",
    "        \n",
    "        \n",
    "        \n",
    "        \n",
    "    \n",
    "    "
   ]
  },
  {
   "cell_type": "code",
   "execution_count": 45,
   "id": "07415b37",
   "metadata": {},
   "outputs": [],
   "source": [
    "link = LinkedList()"
   ]
  },
  {
   "cell_type": "code",
   "execution_count": 46,
   "id": "c6994f2b",
   "metadata": {},
   "outputs": [],
   "source": [
    "elem = Node('Kitty')"
   ]
  },
  {
   "cell_type": "code",
   "execution_count": 47,
   "id": "86289d25",
   "metadata": {},
   "outputs": [],
   "source": [
    "link.head = elem"
   ]
  },
  {
   "cell_type": "code",
   "execution_count": 48,
   "id": "fff9ade2",
   "metadata": {},
   "outputs": [],
   "source": [
    "elem2 = Node('billi')"
   ]
  },
  {
   "cell_type": "code",
   "execution_count": 49,
   "id": "909484aa",
   "metadata": {},
   "outputs": [],
   "source": [
    "link.head.next = elem2"
   ]
  },
  {
   "cell_type": "code",
   "execution_count": 50,
   "id": "cf277693",
   "metadata": {},
   "outputs": [
    {
     "name": "stdout",
     "output_type": "stream",
     "text": [
      "Kitty billi "
     ]
    }
   ],
   "source": [
    "link.traverse()"
   ]
  },
  {
   "cell_type": "code",
   "execution_count": 51,
   "id": "1904122c",
   "metadata": {},
   "outputs": [],
   "source": [
    "link.insert_at_begining('begining')"
   ]
  },
  {
   "cell_type": "code",
   "execution_count": 35,
   "id": "7801ba48",
   "metadata": {},
   "outputs": [
    {
     "name": "stdout",
     "output_type": "stream",
     "text": [
      "begining Kitty billi "
     ]
    }
   ],
   "source": [
    "link.traverse()"
   ]
  },
  {
   "cell_type": "code",
   "execution_count": null,
   "id": "8cc906f5",
   "metadata": {},
   "outputs": [],
   "source": []
  }
 ],
 "metadata": {
  "kernelspec": {
   "display_name": "Python 3 (ipykernel)",
   "language": "python",
   "name": "python3"
  },
  "language_info": {
   "codemirror_mode": {
    "name": "ipython",
    "version": 3
   },
   "file_extension": ".py",
   "mimetype": "text/x-python",
   "name": "python",
   "nbconvert_exporter": "python",
   "pygments_lexer": "ipython3",
   "version": "3.7.0"
  }
 },
 "nbformat": 4,
 "nbformat_minor": 5
}
