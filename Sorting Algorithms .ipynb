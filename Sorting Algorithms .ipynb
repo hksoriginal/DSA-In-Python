{
 "cells": [
  {
   "cell_type": "markdown",
   "id": "2a5f5aec",
   "metadata": {},
   "source": [
    "# Selection Sort"
   ]
  },
  {
   "cell_type": "code",
   "execution_count": 6,
   "id": "b850bfd3",
   "metadata": {},
   "outputs": [
    {
     "name": "stdout",
     "output_type": "stream",
     "text": [
      "[48, 15, 6, 863, 48, 4]\n"
     ]
    },
    {
     "data": {
      "text/plain": [
       "[4, 15, 6, 863, 48, 48]"
      ]
     },
     "execution_count": 6,
     "metadata": {},
     "output_type": "execute_result"
    }
   ],
   "source": [
    "l = [48,15,6,863,48,4]\n",
    "print(l)\n",
    "for i in range(len(l)):\n",
    "    min_val = min(l[i:])\n",
    "    min_index = l.index(min_val)\n",
    "    l[0],l[min_index] = l[min_index],l[0]\n",
    "l"
   ]
  },
  {
   "cell_type": "markdown",
   "id": "b1d069e7",
   "metadata": {},
   "source": [
    "# Merge Sort "
   ]
  },
  {
   "cell_type": "code",
   "execution_count": 17,
   "id": "6f89248b",
   "metadata": {},
   "outputs": [],
   "source": [
    "def mergesort(list1):\n",
    "    if len(list1) > 1:\n",
    "        mid = len(list1)//2\n",
    "        left_list = list1[:mid]\n",
    "        right_list = list1[mid:]\n",
    "        mergesort(left_list)\n",
    "        mergesort(right_list)\n",
    "        i,j,k =0,0,0\n",
    "        while i<len(left_list) and j < len(right_list):\n",
    "            if left_list[i]>right_list[j]:\n",
    "                list1[k] = left_list[i]\n",
    "                i+=1\n",
    "                k+=1\n",
    "            else:\n",
    "                list1[k] = right_list[j]\n",
    "                j+=1\n",
    "                k+=1\n",
    "        while i < len(left_list):\n",
    "            list1[k] = left_list[i]\n",
    "            i+=1\n",
    "            k+=1\n",
    "        while j < len(right_list):\n",
    "            list1[k] = right_list[j]\n",
    "            j+=1\n",
    "            k+=1\n",
    "    return list1\n"
   ]
  },
  {
   "cell_type": "code",
   "execution_count": 18,
   "id": "f95c6e32",
   "metadata": {},
   "outputs": [
    {
     "data": {
      "text/plain": [
       "[863, 48, 48, 15, 6, 4]"
      ]
     },
     "execution_count": 18,
     "metadata": {},
     "output_type": "execute_result"
    }
   ],
   "source": [
    "l1 = [48,15,6,863,48,4]\n",
    "mergesort(l1)"
   ]
  },
  {
   "cell_type": "markdown",
   "id": "4a529ee0",
   "metadata": {},
   "source": [
    "# Quick Sort"
   ]
  },
  {
   "cell_type": "code",
   "execution_count": 22,
   "id": "3731231d",
   "metadata": {},
   "outputs": [],
   "source": [
    "def pivot_place(list1,first,last):\n",
    "    pivot = list1[first]\n",
    "    left = first + 1\n",
    "    right = last\n",
    "    while True:\n",
    "        while left <=right and list1[left]<=pivot :\n",
    "            left+=1\n",
    "        while left <= right and list1[right] <= pivot:\n",
    "            right-=1\n",
    "        if right < left :\n",
    "            break\n",
    "        else:\n",
    "            list1[left],list1[right] = list1[right],list1[left]\n",
    "    list1[first],list1[right] = list1[right],list1[left]\n",
    "    return right\n",
    "    \n",
    "def quicksort(list1,first,last):\n",
    "    if first < last:\n",
    "        p = pivot_place(list1,first,last)\n",
    "        quicksort(list1,first,p-1)\n",
    "        quicksort(list1,p+1,last)\n",
    "        \n",
    "        "
   ]
  },
  {
   "cell_type": "code",
   "execution_count": 25,
   "id": "5e5f06d6",
   "metadata": {},
   "outputs": [],
   "source": [
    "# list1 = [56,26,93,17,31,44]\n",
    "# n = len(list1)\n",
    "# quicksort(list1,0,n-1)\n",
    "# print(list1)"
   ]
  },
  {
   "cell_type": "code",
   "execution_count": 26,
   "id": "1d82cf14",
   "metadata": {},
   "outputs": [],
   "source": [
    "#quicksort\n",
    "def quicksort(array):\n",
    "    if len(array)<=1:\n",
    "        return array\n",
    "    else:\n",
    "        pivot = array.pop()\n",
    "    \n",
    "    greater = []\n",
    "    smaller = []\n",
    "    \n",
    "    for i in array:\n",
    "        if i > pivot:\n",
    "            greater.append(i)\n",
    "        else:\n",
    "            smaller.append(i)\n",
    "        print(smaller,\" \",pivot,\" \",greater)\n",
    "    return quicksort(smaller) + [pivot] + quicksort(greater)"
   ]
  },
  {
   "cell_type": "markdown",
   "id": "f4207d0f",
   "metadata": {},
   "source": [
    "# Radix Sort"
   ]
  },
  {
   "cell_type": "code",
   "execution_count": null,
   "id": "dfdf5140",
   "metadata": {},
   "outputs": [],
   "source": [
    "\n",
    "            \n",
    "    "
   ]
  },
  {
   "cell_type": "markdown",
   "id": "9c2b68c3",
   "metadata": {},
   "source": [
    "# Insertion Sort"
   ]
  },
  {
   "cell_type": "code",
   "execution_count": 27,
   "id": "9ef04da4",
   "metadata": {},
   "outputs": [
    {
     "data": {
      "text/plain": [
       "[2, 3, 4, 5, 7, 8]"
      ]
     },
     "execution_count": 27,
     "metadata": {},
     "output_type": "execute_result"
    }
   ],
   "source": [
    "arr = [2,3,5,7,4,8]\n",
    "def insertion_sort(arr):\n",
    "    for i in range(1,len(arr)):\n",
    "        j = i\n",
    "        while arr[j-1]>arr[j] and j>0:\n",
    "            arr[j-1],arr[j] = arr[j],arr[j-1]\n",
    "            j-=1\n",
    "    return arr\n",
    "insertion_sort(arr)"
   ]
  },
  {
   "cell_type": "code",
   "execution_count": null,
   "id": "88c36d03",
   "metadata": {},
   "outputs": [],
   "source": []
  }
 ],
 "metadata": {
  "kernelspec": {
   "display_name": "Python 3 (ipykernel)",
   "language": "python",
   "name": "python3"
  },
  "language_info": {
   "codemirror_mode": {
    "name": "ipython",
    "version": 3
   },
   "file_extension": ".py",
   "mimetype": "text/x-python",
   "name": "python",
   "nbconvert_exporter": "python",
   "pygments_lexer": "ipython3",
   "version": "3.7.0"
  }
 },
 "nbformat": 4,
 "nbformat_minor": 5
}
