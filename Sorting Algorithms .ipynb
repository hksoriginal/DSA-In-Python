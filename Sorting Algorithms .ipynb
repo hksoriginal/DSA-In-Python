{
 "cells": [
  {
   "cell_type": "markdown",
   "id": "2a5f5aec",
   "metadata": {},
   "source": [
    "# Selection Sort\n",
    "\n",
    "The selection sort algorithm sorts an array by repeatedly finding the `minimum element (considering ascending order) from the unsorted part and putting it at the beginning. `\n",
    "\n",
    "`The algorithm maintains two subarrays in a given array.`\n",
    "\n",
    "The subarray which already sorted. \n",
    "The remaining subarray was unsorted.\n",
    "In every iteration of the selection sort, the minimum element (considering ascending order) from the unsorted subarray is picked and moved to the sorted subarray. "
   ]
  },
  {
   "cell_type": "code",
   "execution_count": 11,
   "id": "b850bfd3",
   "metadata": {},
   "outputs": [
    {
     "name": "stdout",
     "output_type": "stream",
     "text": [
      "[4, 6, 15, 48, 48, 863]\n"
     ]
    }
   ],
   "source": [
    "l =[48, 15, 6, 863, 48, 4]\n",
    "for i in range(0,len(l)-1):\n",
    "    for j in range(i+1,len(l)):\n",
    "        if l[i]>l[j]:\n",
    "            l[i],l[j] = l[j],l[i]\n",
    "print(l)"
   ]
  },
  {
   "cell_type": "markdown",
   "id": "b1d069e7",
   "metadata": {},
   "source": [
    "# Merge Sort \n",
    "The Merge Sort algorithm is a sorting algorithm that is based on the `Divide and Conquer` paradigm. In this algorithm, the array is initially divided into two equal halves and then they are combined in a sorted manner."
   ]
  },
  {
   "cell_type": "code",
   "execution_count": 2,
   "id": "6f89248b",
   "metadata": {},
   "outputs": [],
   "source": [
    "def mergesort(list1):\n",
    "    if len(list1) > 1:\n",
    "        mid = len(list1)//2\n",
    "        left_list = list1[:mid]\n",
    "        right_list = list1[mid:]\n",
    "        mergesort(left_list)\n",
    "        mergesort(right_list)\n",
    "        i,j,k =0,0,0\n",
    "        while i<len(left_list) and j < len(right_list):\n",
    "            if left_list[i]>right_list[j]:\n",
    "                list1[k] = left_list[i]\n",
    "                i+=1\n",
    "                k+=1\n",
    "            else:\n",
    "                list1[k] = right_list[j]\n",
    "                j+=1\n",
    "                k+=1\n",
    "        while i < len(left_list):\n",
    "            list1[k] = left_list[i]\n",
    "            i+=1\n",
    "            k+=1\n",
    "        while j < len(right_list):\n",
    "            list1[k] = right_list[j]\n",
    "            j+=1\n",
    "            k+=1\n",
    "    return list1\n"
   ]
  },
  {
   "cell_type": "code",
   "execution_count": 3,
   "id": "f95c6e32",
   "metadata": {},
   "outputs": [
    {
     "data": {
      "text/plain": [
       "[863, 48, 48, 15, 6, 4]"
      ]
     },
     "execution_count": 3,
     "metadata": {},
     "output_type": "execute_result"
    }
   ],
   "source": [
    "l1 = [48,15,6,863,48,4]\n",
    "mergesort(l1)"
   ]
  },
  {
   "cell_type": "code",
   "execution_count": 14,
   "id": "ce8754f9",
   "metadata": {},
   "outputs": [],
   "source": [
    "def mergeFunc(left,right):\n",
    "    result = []\n",
    "    i,j=0,0\n",
    "    while i < len(left) and j < len(right):\n",
    "        if left[i] < right[j]:\n",
    "            result.append(left[i])\n",
    "            i+=1\n",
    "        else:\n",
    "            result.append(right[j])\n",
    "            j+=1\n",
    "    result += left[i:]\n",
    "    result += right[j:]\n",
    "    return result\n",
    "\n",
    "def mergeSort(arr):\n",
    "    if len(arr) <=1: return arr\n",
    "    mid = int(len(arr)/2)\n",
    "    left = mergeSort(arr[:mid])\n",
    "    right = mergeSort(arr[mid:])\n",
    "    return mergeFunc(left,right)\n"
   ]
  },
  {
   "cell_type": "code",
   "execution_count": 15,
   "id": "b4dddb7f",
   "metadata": {},
   "outputs": [
    {
     "data": {
      "text/plain": [
       "[4, 6, 15, 48, 48, 863]"
      ]
     },
     "execution_count": 15,
     "metadata": {},
     "output_type": "execute_result"
    }
   ],
   "source": [
    "mergeSort(l1)"
   ]
  },
  {
   "cell_type": "markdown",
   "id": "4a529ee0",
   "metadata": {},
   "source": [
    "# Quick Sort\n",
    "Just unlikely merge Sort, QuickSort is a divide and conquer algorithm. It picks an element as a pivot and partitions the given array around the picked pivot. There are many different versions of quickSort that pick pivot in different ways. \n",
    "\n",
    "`Always pick the first element as a pivot`\n",
    "`Always pick the last element as a pivot`\n",
    "`Pick a random element as a pivot`\n",
    "`Pick median as a pivot`\n"
   ]
  },
  {
   "cell_type": "code",
   "execution_count": 4,
   "id": "3731231d",
   "metadata": {},
   "outputs": [],
   "source": [
    "def pivot_place(list1,first,last):\n",
    "    pivot = list1[first]\n",
    "    left = first + 1\n",
    "    right = last\n",
    "    while True:\n",
    "        while left <=right and list1[left]<=pivot :\n",
    "            left+=1\n",
    "        while left <= right and list1[right] <= pivot:\n",
    "            right-=1\n",
    "        if right < left :\n",
    "            break\n",
    "        else:\n",
    "            list1[left],list1[right] = list1[right],list1[left]\n",
    "    list1[first],list1[right] = list1[right],list1[left]\n",
    "    return right\n",
    "    \n",
    "def quicksort(list1,first,last):\n",
    "    if first < last:\n",
    "        p = pivot_place(list1,first,last)\n",
    "        quicksort(list1,first,p-1)\n",
    "        quicksort(list1,p+1,last)\n",
    "        \n",
    "        "
   ]
  },
  {
   "cell_type": "code",
   "execution_count": 5,
   "id": "5e5f06d6",
   "metadata": {},
   "outputs": [],
   "source": [
    "# list1 = [56,26,93,17,31,44]\n",
    "# n = len(list1)\n",
    "# quicksort(list1,0,n-1)\n",
    "# print(list1)"
   ]
  },
  {
   "cell_type": "code",
   "execution_count": 16,
   "id": "1d82cf14",
   "metadata": {},
   "outputs": [],
   "source": [
    "#quicksort\n",
    "def quicksort(array):\n",
    "    if len(array)<=1:\n",
    "        return array\n",
    "    else:\n",
    "        pivot = array.pop()\n",
    "    \n",
    "    greater = []\n",
    "    smaller = []\n",
    "    \n",
    "    for i in array:\n",
    "        if i > pivot:\n",
    "            greater.append(i)\n",
    "        else:\n",
    "            smaller.append(i)\n",
    "        print(smaller,\" \",pivot,\" \",greater)\n",
    "    return quicksort(smaller) + [pivot] + quicksort(greater)"
   ]
  },
  {
   "cell_type": "code",
   "execution_count": 17,
   "id": "c40fa89e",
   "metadata": {},
   "outputs": [
    {
     "name": "stdout",
     "output_type": "stream",
     "text": [
      "[]   4   [863]\n",
      "[]   4   [863, 48]\n",
      "[]   4   [863, 48, 48]\n",
      "[]   4   [863, 48, 48, 15]\n",
      "[]   4   [863, 48, 48, 15, 6]\n",
      "[]   6   [863]\n",
      "[]   6   [863, 48]\n",
      "[]   6   [863, 48, 48]\n",
      "[]   6   [863, 48, 48, 15]\n",
      "[]   15   [863]\n",
      "[]   15   [863, 48]\n",
      "[]   15   [863, 48, 48]\n",
      "[]   48   [863]\n",
      "[48]   48   [863]\n"
     ]
    },
    {
     "data": {
      "text/plain": [
       "[4, 6, 15, 48, 48, 863]"
      ]
     },
     "execution_count": 17,
     "metadata": {},
     "output_type": "execute_result"
    }
   ],
   "source": [
    "quicksort(l1)"
   ]
  },
  {
   "cell_type": "markdown",
   "id": "f4207d0f",
   "metadata": {},
   "source": [
    "# Insertion Sort\n",
    "Insertion sort is a sorting algorithm that places an unsorted element at its suitable place in each iteration.\n",
    "\n",
    "Insertion sort works similarly as we sort cards in our hand in a card game.\n",
    "\n",
    "We assume that the first card is already sorted then, we select an unsorted card. If the unsorted card is greater than the card in hand, it is placed on the right otherwise, to the left. In the same way, other unsorted cards are taken and put in their right place.\n",
    "\n",
    "A similar approach is used by insertion sort."
   ]
  },
  {
   "cell_type": "code",
   "execution_count": 18,
   "id": "9ef04da4",
   "metadata": {},
   "outputs": [
    {
     "data": {
      "text/plain": [
       "[2, 3, 4, 5, 7, 8, 34, 45, 879]"
      ]
     },
     "execution_count": 18,
     "metadata": {},
     "output_type": "execute_result"
    }
   ],
   "source": [
    "arr = [2,3,34,45,879,5,7,4,8]\n",
    "def insertion_sort(arr):\n",
    "    for i in range(1,len(arr)):\n",
    "        j = i\n",
    "        while arr[j-1]>arr[j] and j>0:\n",
    "            arr[j-1],arr[j] = arr[j],arr[j-1]\n",
    "            j-=1\n",
    "    return arr\n",
    "insertion_sort(arr)"
   ]
  },
  {
   "cell_type": "code",
   "execution_count": null,
   "id": "88c36d03",
   "metadata": {},
   "outputs": [],
   "source": []
  }
 ],
 "metadata": {
  "kernelspec": {
   "display_name": "Python 3 (ipykernel)",
   "language": "python",
   "name": "python3"
  },
  "language_info": {
   "codemirror_mode": {
    "name": "ipython",
    "version": 3
   },
   "file_extension": ".py",
   "mimetype": "text/x-python",
   "name": "python",
   "nbconvert_exporter": "python",
   "pygments_lexer": "ipython3",
   "version": "3.7.0"
  }
 },
 "nbformat": 4,
 "nbformat_minor": 5
}
