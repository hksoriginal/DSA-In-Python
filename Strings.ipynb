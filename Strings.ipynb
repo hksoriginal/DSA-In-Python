{
 "cells": [
  {
   "cell_type": "code",
   "execution_count": 10,
   "id": "209c94a6",
   "metadata": {},
   "outputs": [
    {
     "name": "stdout",
     "output_type": "stream",
     "text": [
      "186131986\n",
      "(1, 1) (1, 8) (1, 6) (1, 1) (1, 3) (1, 1) (1, 9) (1, 8) (1, 6) "
     ]
    }
   ],
   "source": [
    "#compress the string\n",
    "import itertools\n",
    "s = input()\n",
    "x = itertools.groupby(s)\n",
    "# print(x)\n",
    "for key,grp in x:\n",
    "#     print(key,list(grp))\n",
    "     print((len(list(grp)),int(key)), end = ' ')"
   ]
  },
  {
   "cell_type": "code",
   "execution_count": 25,
   "id": "eae1c3ef",
   "metadata": {},
   "outputs": [
    {
     "name": "stdout",
     "output_type": "stream",
     "text": [
      "35498468556497\n",
      "(1, 3) (1, 5) (1, 4) (1, 9) (1, 8) (1, 4) (1, 6) (1, 8) (2, 5) (1, 6) (1, 4) (1, 9) (1, 7)\n"
     ]
    }
   ],
   "source": [
    "#compress the string\n",
    "s = str(input())\n",
    "count = 1\n",
    "\n",
    "for i in range(1,len(s)):\n",
    "    if s[i] == s[i-1]:\n",
    "        count+=1\n",
    "    else:\n",
    "        print((count,int(s[i-1])),end = ' ')\n",
    "        count = 1\n",
    "print((count,int(s[-1])))"
   ]
  },
  {
   "cell_type": "code",
   "execution_count": 27,
   "id": "e77245dd",
   "metadata": {},
   "outputs": [],
   "source": [
    "#hackerrank in a string\n",
    "def hackerrankInString(s):\n",
    "    j = 0\n",
    "    val = 'hackerrank'\n",
    "    for i in range(len(s)):\n",
    "        if j!=len(val) and s[i]==val[j]:\n",
    "            j+=1\n",
    "    if j == len(val):\n",
    "        return 'YES'\n",
    "    else:\n",
    "        return 'NO'\n",
    "\n",
    "        "
   ]
  },
  {
   "cell_type": "code",
   "execution_count": 28,
   "id": "0d1bfff1",
   "metadata": {},
   "outputs": [],
   "source": [
    "# find the string\n",
    "def count_subString(string,sub_string):\n",
    "    c = 0\n",
    "    l = len(sub_string)\n",
    "    for i in range(len(string)):\n",
    "        s = string[i:i+l] \n",
    "        if s == sub_string:\n",
    "            c+=1\n",
    "    return c"
   ]
  },
  {
   "cell_type": "code",
   "execution_count": 29,
   "id": "33a25a05",
   "metadata": {},
   "outputs": [],
   "source": [
    "def count_subString(string,sub_string):\n",
    "    c = 0\n",
    "    x = -1\n",
    "    while x < len(string):\n",
    "        z = string.find(sub_string,x+1)\n",
    "        if z == -1:\n",
    "            break\n",
    "        else:\n",
    "            c+=1\n",
    "            x = z\n",
    "    return c"
   ]
  },
  {
   "cell_type": "code",
   "execution_count": 30,
   "id": "c9c9f5a5",
   "metadata": {},
   "outputs": [],
   "source": [
    "#repeated string\n",
    "def repeatedString(s,n):\n",
    "    n1 = (n//len(s))\n",
    "    x = s.count('a')\n",
    "    x1 = n1 * x\n",
    "    x2=s[:n%(len(s))].count('a')\n",
    "    return x1+x2"
   ]
  },
  {
   "cell_type": "code",
   "execution_count": 31,
   "id": "afb7c95d",
   "metadata": {},
   "outputs": [],
   "source": [
    "# alternating characters\n",
    "def alternatingCharacters(s):\n",
    "    c = 0\n",
    "    for i in range(1,len(s)):\n",
    "        if s[i] == s[i-1]:\n",
    "            c+=1\n",
    "    return c"
   ]
  },
  {
   "cell_type": "code",
   "execution_count": 33,
   "id": "10a2915a",
   "metadata": {},
   "outputs": [],
   "source": [
    "#two strings\n",
    "def twoStrings(s1,s2):\n",
    "    flag = False\n",
    "    for c in s1:\n",
    "        if c in s2:\n",
    "            flag = True\n",
    "            break\n",
    "    if flag:\n",
    "        return 'YES'\n",
    "    else:\n",
    "        return 'NO'\n",
    "    "
   ]
  },
  {
   "cell_type": "code",
   "execution_count": 2,
   "id": "0f9417be",
   "metadata": {},
   "outputs": [],
   "source": [
    "# making Anagrams\n",
    "from collections import Counter\n",
    "def makingAnagram(a,b):\n",
    "    c1 = Counter(a)\n",
    "    for c in b:\n",
    "        c1[c] -= 1\n",
    "    val = c1.values()\n",
    "    s = sum(abs(i) for i in val)\n",
    "    return s\n"
   ]
  },
  {
   "cell_type": "code",
   "execution_count": 3,
   "id": "539fdc71",
   "metadata": {},
   "outputs": [],
   "source": [
    "# Sherlock and Valid String\n",
    "from collections import Counter\n",
    "def isValid(s):\n",
    "    a =Counter(s)\n",
    "    val  = list(a.values())\n",
    "    res = Counter(val)\n",
    "    v = list(res.keys())\n",
    "    if len(s) == 1 or (max(v)-min(v)) == 0:\n",
    "        return 'YES'\n",
    "    elif len(v) < 3 and ((max(v)-min(v)==1 and res.get(max(v))==1) or (min(v)==1 and res.get(min(v))==1)):\n",
    "        return 'YES'\n",
    "    else:\n",
    "        return 'NO'\n",
    "        "
   ]
  },
  {
   "cell_type": "code",
   "execution_count": 4,
   "id": "48405978",
   "metadata": {},
   "outputs": [],
   "source": [
    "#game of thrones\n",
    "from collections import Counter\n",
    "def gameOfThrones(s):\n",
    "    a = Counter(s)\n",
    "    odd = 0\n",
    "    val = list(a.values())\n",
    "    for v in val:\n",
    "        if v%2==0:\n",
    "            continue\n",
    "        else:\n",
    "            odd+=1\n",
    "    if odd == 0 or odd == 1:\n",
    "        return 'YES'\n",
    "    else:\n",
    "        return 'NO'\n",
    "    "
   ]
  },
  {
   "cell_type": "code",
   "execution_count": null,
   "id": "c3aed08d",
   "metadata": {},
   "outputs": [],
   "source": []
  }
 ],
 "metadata": {
  "kernelspec": {
   "display_name": "Python 3 (ipykernel)",
   "language": "python",
   "name": "python3"
  },
  "language_info": {
   "codemirror_mode": {
    "name": "ipython",
    "version": 3
   },
   "file_extension": ".py",
   "mimetype": "text/x-python",
   "name": "python",
   "nbconvert_exporter": "python",
   "pygments_lexer": "ipython3",
   "version": "3.7.0"
  }
 },
 "nbformat": 4,
 "nbformat_minor": 5
}
