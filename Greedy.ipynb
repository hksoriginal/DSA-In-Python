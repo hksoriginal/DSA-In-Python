{
 "cells": [
  {
   "cell_type": "code",
   "execution_count": 3,
   "id": "2638daf6",
   "metadata": {},
   "outputs": [],
   "source": [
    "#max min array  \n",
    "# two pointer problems\n",
    "def maxMin(k,arr):\n",
    "    arr = sorted(arr)\n",
    "    i = -1\n",
    "    j = k-2\n",
    "    max_val = arr[-1]\n",
    "    while(j < len(arr)-1):\n",
    "        i+=1\n",
    "        j+=1\n",
    "        max_arr = arr[j]\n",
    "        min_arr = arr[i]\n",
    "        max_val = min(max_val,max_arr-min_arr)\n",
    "    return max_val\n",
    "        "
   ]
  },
  {
   "cell_type": "code",
   "execution_count": 7,
   "id": "a282a88b",
   "metadata": {},
   "outputs": [],
   "source": [
    "# Marc's Cakewalk\n",
    "def marcsCakewalk(calorie):\n",
    "    calorie.sort(reverse =True)\n",
    "    sum = 0\n",
    "    i = 0\n",
    "    for v in calorie:\n",
    "        sum+=(2**i)*v\n",
    "        i+=1\n",
    "    return sum"
   ]
  },
  {
   "cell_type": "code",
   "execution_count": 8,
   "id": "b6b830d6",
   "metadata": {},
   "outputs": [],
   "source": [
    "# minimum absolute diffrene in an Array\n",
    "def minimumAbsoluteDifference(arr):\n",
    "    arr.sort()\n",
    "    m = 2147483648\n",
    "    for  i in range(len(arr)-1):\n",
    "        ab= abs(arr[i]-arr[i+1])\n",
    "        if ab<m:\n",
    "            m = ab\n",
    "    return m"
   ]
  },
  {
   "cell_type": "code",
   "execution_count": 11,
   "id": "2a22a110",
   "metadata": {},
   "outputs": [],
   "source": [
    "#luck balance\n",
    "def luckBalance(k, contests):\n",
    "    imp = []\n",
    "    not_imp = []\n",
    "    for val,types in contests:\n",
    "        if types == 1:\n",
    "            imp.append(val)\n",
    "        else:\n",
    "            not_imp.append(val)\n",
    "    imp.sort(reverse=True)\n",
    "    return (sum(imp[0:k])+sum(not_imp)- sum(imp[k:]))"
   ]
  },
  {
   "cell_type": "code",
   "execution_count": 14,
   "id": "7fb939c9",
   "metadata": {},
   "outputs": [],
   "source": [
    "def luckBalance(k, contests):\n",
    "    total_luck = []\n",
    "    contests.sort(reverse=True)\n",
    "    for val,types in contests:\n",
    "        if types == 0:\n",
    "            total_luck+=val\n",
    "        elif types == 1 and k >0:\n",
    "            total_luck+=val\n",
    "            k-=1\n",
    "        else:\n",
    "            total_luck-=val\n",
    "    return total_luck\n",
    "            \n",
    "            "
   ]
  },
  {
   "cell_type": "code",
   "execution_count": 4,
   "id": "0e33b15d",
   "metadata": {},
   "outputs": [],
   "source": [
    "#candies\n",
    "def candies(n, arr):\n",
    "    res= [1]*n\n",
    "    for i in range(1,len(arr)): #forward\n",
    "        if arr[i]>arr[i-1]:\n",
    "            res[i]= res[i-1] + 1\n",
    "    for i in range(len(arr)-1,0,-1): #backward\n",
    "        if (arr[i-1]>arr[i]) and (res[i-1] <=res[i]):\n",
    "            res[i-1]= res[i] + 1\n",
    "    return sum(res)\n"
   ]
  },
  {
   "cell_type": "code",
   "execution_count": null,
   "id": "a99fe39d",
   "metadata": {},
   "outputs": [],
   "source": [
    "# optimal task assignment\n"
   ]
  }
 ],
 "metadata": {
  "kernelspec": {
   "display_name": "Python 3 (ipykernel)",
   "language": "python",
   "name": "python3"
  },
  "language_info": {
   "codemirror_mode": {
    "name": "ipython",
    "version": 3
   },
   "file_extension": ".py",
   "mimetype": "text/x-python",
   "name": "python",
   "nbconvert_exporter": "python",
   "pygments_lexer": "ipython3",
   "version": "3.7.0"
  }
 },
 "nbformat": 4,
 "nbformat_minor": 5
}
