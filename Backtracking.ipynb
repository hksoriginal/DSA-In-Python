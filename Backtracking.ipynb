{
 "cells": [
  {
   "cell_type": "code",
   "execution_count": null,
   "id": "7751ca80",
   "metadata": {},
   "outputs": [],
   "source": [
    "#Word Search\n",
    " def exist(board,word):\n",
    "        ROWS,COLS = len(board),len(board[0])\n",
    "        path = set()\n",
    "        \n",
    "        def dfs(r,c,i):\n",
    "            if i ==len(word):\n",
    "                return True\n",
    "            if (r < 0 or c < 0 \n",
    "                or r>=ROWS or c>=COLS \n",
    "                or word[i]!=board[r][c]\n",
    "                or (r,c) in path):\n",
    "                return False\n",
    "            path.add((r,c))\n",
    "                \n",
    "            \n",
    "        "
   ]
  }
 ],
 "metadata": {
  "kernelspec": {
   "display_name": "Python 3 (ipykernel)",
   "language": "python",
   "name": "python3"
  },
  "language_info": {
   "codemirror_mode": {
    "name": "ipython",
    "version": 3
   },
   "file_extension": ".py",
   "mimetype": "text/x-python",
   "name": "python",
   "nbconvert_exporter": "python",
   "pygments_lexer": "ipython3",
   "version": "3.7.0"
  }
 },
 "nbformat": 4,
 "nbformat_minor": 5
}
