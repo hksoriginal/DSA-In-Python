{
 "cells": [
  {
   "cell_type": "code",
   "execution_count": 1,
   "id": "7751ca80",
   "metadata": {},
   "outputs": [],
   "source": [
    "#Word Search\n",
    "# https://leetcode.com/problems/word-search/\n",
    "def exist(board,word):\n",
    "    ROWS,COLS = len(board),len(board[0])\n",
    "    path = set()\n",
    "\n",
    "    def dfs(r,c,i):\n",
    "        if i ==len(word):\n",
    "            return True\n",
    "        if (r < 0 or c < 0 \n",
    "            or r>=ROWS or c>=COLS \n",
    "            or word[i]!=board[r][c]\n",
    "            or (r,c) in path):\n",
    "            return False\n",
    "        path.add((r,c))\n",
    "        res = (dfs(r+1,c,i+1) or\n",
    "               dfs(r,c+1,i+1) or\n",
    "               dfs(r-1,c,i+1) or\n",
    "               dfs(r,c-1,i+1))\n",
    "        path.remove((r,c))\n",
    "        return res\n",
    "    \n",
    "    for r in range(ROWS):\n",
    "        for c in range(COLS):\n",
    "            if dfs(r,c,0): return True\n",
    "            \n",
    "    return False\n",
    "                \n"
   ]
  },
  {
   "cell_type": "code",
   "execution_count": 2,
   "id": "f79b73e3",
   "metadata": {},
   "outputs": [],
   "source": [
    "# permutation\n",
    "# https://leetcode.com/problems/permutations/\n",
    "def permutation(nums):\n",
    "    res = []\n",
    "    if (len(nums) == 1):\n",
    "        return [nums[:]]\n",
    "    for i in range(len(nums)):\n",
    "        n = nums.pop(0) \n",
    "        perms = permutation(nums)\n",
    "        for perm in perms:\n",
    "            perm.append(n)\n",
    "        res.extend(perms)\n",
    "        nums.append(n)\n",
    "    return res"
   ]
  },
  {
   "cell_type": "code",
   "execution_count": 3,
   "id": "67ddb542",
   "metadata": {},
   "outputs": [
    {
     "data": {
      "text/plain": [
       "[[2, 5, 3], [5, 2, 3], [3, 2, 5], [2, 3, 5], [5, 3, 2], [3, 5, 2]]"
      ]
     },
     "execution_count": 3,
     "metadata": {},
     "output_type": "execute_result"
    }
   ],
   "source": [
    "permutation([3,5,2])"
   ]
  },
  {
   "cell_type": "code",
   "execution_count": 4,
   "id": "cef6e04d",
   "metadata": {},
   "outputs": [],
   "source": [
    "# permutation 2\n",
    "# https://leetcode.com/problems/permutations-ii/\n",
    "def permuteUnique(nums):\n",
    "    res = []\n",
    "    perm = []\n",
    "    count = {n:0 for n in nums}\n",
    "    for n in nums:\n",
    "        count[n]+=1\n",
    "    def dfs():\n",
    "        if len(perm) == len(nums):\n",
    "            res.append(perm.copy())\n",
    "            return\n",
    "        \n",
    "        for n in count:\n",
    "            if count[n] > 0:\n",
    "                perm.append(n)\n",
    "                count[n]-=1\n",
    "                dfs()\n",
    "                count[n] +=1\n",
    "                perm.pop()\n",
    "    dfs()\n",
    "    return res\n",
    "    "
   ]
  },
  {
   "cell_type": "code",
   "execution_count": 5,
   "id": "a4a43eee",
   "metadata": {},
   "outputs": [],
   "source": [
    "#subsets\n",
    "# https://leetcode.com/problems/subsets/\n",
    "def subsets(nums):\n",
    "    res = []\n",
    "    \n",
    "    subset = []\n",
    "    def dfs(i):\n",
    "        if i >=len(nums):\n",
    "            res.append(subset.copy())\n",
    "            return\n",
    "        \n",
    "        \n",
    "        # decision to include nums[i]\n",
    "        subset.append(nums[i])\n",
    "        print(f'subset:{subset} and i: {i}')\n",
    "        dfs(i+1)\n",
    "        \n",
    "        \n",
    "        # decision NOT to include nums[i]\n",
    "        subset.pop()\n",
    "        print(f'\\nAFTER POP -> subset:{subset} and i: {i}\\n')\n",
    "#         print('res:',res)\n",
    "        dfs(i+1)\n",
    "    dfs(0)\n",
    "    return res\n",
    "        \n",
    "        "
   ]
  },
  {
   "cell_type": "code",
   "execution_count": 6,
   "id": "139e6213",
   "metadata": {},
   "outputs": [
    {
     "name": "stdout",
     "output_type": "stream",
     "text": [
      "subset:[3] and i: 0\n",
      "subset:[3, 5] and i: 1\n",
      "subset:[3, 5, 2] and i: 2\n",
      "\n",
      "AFTER POP -> subset:[3, 5] and i: 2\n",
      "\n",
      "\n",
      "AFTER POP -> subset:[3] and i: 1\n",
      "\n",
      "subset:[3, 2] and i: 2\n",
      "\n",
      "AFTER POP -> subset:[3] and i: 2\n",
      "\n",
      "\n",
      "AFTER POP -> subset:[] and i: 0\n",
      "\n",
      "subset:[5] and i: 1\n",
      "subset:[5, 2] and i: 2\n",
      "\n",
      "AFTER POP -> subset:[5] and i: 2\n",
      "\n",
      "\n",
      "AFTER POP -> subset:[] and i: 1\n",
      "\n",
      "subset:[2] and i: 2\n",
      "\n",
      "AFTER POP -> subset:[] and i: 2\n",
      "\n"
     ]
    },
    {
     "data": {
      "text/plain": [
       "[[3, 5, 2], [3, 5], [3, 2], [3], [5, 2], [5], [2], []]"
      ]
     },
     "execution_count": 6,
     "metadata": {},
     "output_type": "execute_result"
    }
   ],
   "source": [
    "subsets([3,5,2])"
   ]
  },
  {
   "cell_type": "code",
   "execution_count": 7,
   "id": "fd19dc63",
   "metadata": {},
   "outputs": [],
   "source": [
    "# palindrome partitioning\n",
    "# https://leetcode.com/problems/palindrome-partitioning/\n",
    "def partition(s):\n",
    "    res = []\n",
    "    part = []\n",
    "    \n",
    "    \n",
    "    \n",
    "    def dfs(i):\n",
    "        if i >= len(s):\n",
    "            res.append(part.copy())\n",
    "            return \n",
    "        for j in range(i,len(s)):\n",
    "            if isPali(s,i,j):\n",
    "                part.append(s[i:j+1])\n",
    "                dfs(j+1)\n",
    "                part.pop()\n",
    "               \n",
    "    dfs(0)\n",
    "    return res\n",
    "    \n",
    "    \n",
    "def isPali(s,l,r):\n",
    "    while l<r:\n",
    "        if s[l] != s[r]:\n",
    "            return False\n",
    "        l,r= l+1,r-1\n",
    "    return True"
   ]
  },
  {
   "cell_type": "code",
   "execution_count": 8,
   "id": "12cec29c",
   "metadata": {},
   "outputs": [],
   "source": [
    "# letter combination\n",
    "# https://leetcode.com/problems/letter-combinations-of-a-phone-number/\n",
    "def letterCombinations(digits):\n",
    "    res = []\n",
    "    digitToChar = {'2':'abc',\n",
    "              '3':'def',\n",
    "              '4':'ghi',\n",
    "              '5':'jkl',\n",
    "              '6':'mno',\n",
    "              '7':'pqrs',\n",
    "              '8':'tuv',\n",
    "              '9':'wxyz'}\n",
    "    \n",
    "    def backtrack(i , curStr):\n",
    "        if len(curStr) == len(digits):\n",
    "            res.append(curStr)\n",
    "            return\n",
    "        print('res:',res)\n",
    "        for c in digitToChar[digits[i]]:\n",
    "            print('c:',c)\n",
    "            backtrack(i+1,curStr + c)\n",
    "        print('curStr:',curStr)\n",
    "    if digits:\n",
    "        backtrack(0,'')\n",
    "    \n",
    "    return res\n",
    "        \n",
    "            "
   ]
  },
  {
   "cell_type": "code",
   "execution_count": 9,
   "id": "33cdcc33",
   "metadata": {},
   "outputs": [
    {
     "name": "stdout",
     "output_type": "stream",
     "text": [
      "res: []\n",
      "c: a\n",
      "res: []\n",
      "c: d\n",
      "c: e\n",
      "c: f\n",
      "curStr: a\n",
      "c: b\n",
      "res: ['ad', 'ae', 'af']\n",
      "c: d\n",
      "c: e\n",
      "c: f\n",
      "curStr: b\n",
      "c: c\n",
      "res: ['ad', 'ae', 'af', 'bd', 'be', 'bf']\n",
      "c: d\n",
      "c: e\n",
      "c: f\n",
      "curStr: c\n",
      "curStr: \n"
     ]
    },
    {
     "data": {
      "text/plain": [
       "['ad', 'ae', 'af', 'bd', 'be', 'bf', 'cd', 'ce', 'cf']"
      ]
     },
     "execution_count": 9,
     "metadata": {},
     "output_type": "execute_result"
    }
   ],
   "source": [
    "letterCombinations('23')"
   ]
  },
  {
   "cell_type": "code",
   "execution_count": 14,
   "id": "767cac29",
   "metadata": {},
   "outputs": [],
   "source": [
    "#splitting a string into Descending consecutive values\n",
    "# https://leetcode.com/problems/splitting-a-string-into-descending-consecutive-values/\n",
    "def splitString(s):\n",
    "    def dfs(index,prev):\n",
    "        if index == len(s):\n",
    "            return True\n",
    "        for j in range(index,len(s)):\n",
    "            val=int(s[index:j+1])\n",
    "            if val + 1 == prev and dfs(j+1,val):\n",
    "                return True\n",
    "        return False\n",
    "        \n",
    "    for i in range(len(s)-1):\n",
    "        val = int(s[:i + 1])\n",
    "        if dfs(i+1,val): return True\n",
    "    return False\n",
    "            "
   ]
  },
  {
   "cell_type": "code",
   "execution_count": 16,
   "id": "cfecfb84",
   "metadata": {},
   "outputs": [],
   "source": [
    "#combination sum\n",
    "# https://leetcode.com/problems/combination-sum/\n",
    "def combinationSum(candidates,target):\n",
    "    res = []\n",
    "    \n",
    "    def dfs(i,cur,total):\n",
    "        if total == target:\n",
    "            res.append(cur.copy())\n",
    "            return \n",
    "        if i >= len(candidates) or total > target:\n",
    "            return\n",
    "            \n",
    "            cur.append(candidates[i])\n",
    "            dfs(i,cur,total + candidates[i])\n",
    "            cur.pop()\n",
    "            dfs(i+1,cur,total)\n",
    "    dfs(0,[],0)\n",
    "    return res\n",
    "            \n",
    "        "
   ]
  },
  {
   "cell_type": "code",
   "execution_count": 18,
   "id": "8952122c",
   "metadata": {},
   "outputs": [],
   "source": [
    "#wordsearch 2\n",
    "# https://leetcode.com/problems/word-search-ii/\n",
    "class TrieNode:\n",
    "    def __init__(self):\n",
    "        self.children = {}\n",
    "        self.endOfWord  = False\n",
    "        \n",
    "    def addWord(self,word):\n",
    "        cur = self \n",
    "        for c in word:\n",
    "            if c not in cur.children:\n",
    "                cur.children[c] =TrieNode()\n",
    "            cur = cur.children[c]\n",
    "        cur.endOfWord = True\n",
    "        \n",
    "    \n",
    "    \n",
    "\n",
    "\n",
    "def findWords(board,words):\n",
    "    root = TrieNode()\n",
    "    \n",
    "    for w in words:\n",
    "        root.addWord(w)\n",
    "        \n",
    "    ROWS,COLS = len(board),len(board[0])\n",
    "    res,visited = set(),set()\n",
    "    \n",
    "    \n",
    "    def dfs(r,c,node,word):\n",
    "        if (r < 0 or c < 0 or \n",
    "            r == ROWS or c==COLS or\n",
    "            (r,c) in visited or board[r][c] not in node.children):\n",
    "            return\n",
    "        \n",
    "        visited.add((r,c))\n",
    "        node = node.children[board[r][c]]\n",
    "        word+=board[r][c]\n",
    "        \n",
    "        if node.endOfWord:\n",
    "            res.add(word)\n",
    "            \n",
    "        dfs(r,c,node,word)\n",
    "        dfs(r+1,c,node,word)\n",
    "        dfs(r,c+1,node,word)\n",
    "        dfs(r-1,c,node,word)\n",
    "        dfs(r,c-1,node,word)\n",
    "        \n",
    "        visited.remove((r,c))\n",
    "    \n",
    "    for r in range(ROWS):\n",
    "        for c in range(COLS):\n",
    "            dfs(r,c,root,\"\")\n",
    "    return list(res)\n",
    "            \n",
    "        "
   ]
  },
  {
   "cell_type": "code",
   "execution_count": null,
   "id": "10aad9af",
   "metadata": {},
   "outputs": [],
   "source": [
    "# N-Queens\n",
    "# https://leetcode.com/problems/n-queens/\n",
    "def solveNQueens(n):\n",
    "    "
   ]
  },
  {
   "cell_type": "code",
   "execution_count": null,
   "id": "c711cd15",
   "metadata": {},
   "outputs": [],
   "source": []
  }
 ],
 "metadata": {
  "kernelspec": {
   "display_name": "Python 3 (ipykernel)",
   "language": "python",
   "name": "python3"
  },
  "language_info": {
   "codemirror_mode": {
    "name": "ipython",
    "version": 3
   },
   "file_extension": ".py",
   "mimetype": "text/x-python",
   "name": "python",
   "nbconvert_exporter": "python",
   "pygments_lexer": "ipython3",
   "version": "3.7.0"
  }
 },
 "nbformat": 4,
 "nbformat_minor": 5
}
