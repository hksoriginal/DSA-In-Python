{
 "cells": [
  {
   "cell_type": "code",
   "execution_count": 10,
   "id": "3455a7f2",
   "metadata": {},
   "outputs": [],
   "source": [
    "class A:\n",
    "    def __init__(self,name):\n",
    "        self.name = name\n",
    "    def call_name(self,name):\n",
    "        print(name)\n",
    "        \n",
    "class B(A):\n",
    "    def __init__(self,name2):\n",
    "        self.name2= name2\n",
    "    def call_name2(self,name2):\n",
    "        print(name2+'abc')"
   ]
  },
  {
   "cell_type": "code",
   "execution_count": 11,
   "id": "6550dffe",
   "metadata": {},
   "outputs": [],
   "source": [
    "obj = B('hk')"
   ]
  },
  {
   "cell_type": "code",
   "execution_count": 13,
   "id": "3e874f83",
   "metadata": {},
   "outputs": [
    {
     "name": "stdout",
     "output_type": "stream",
     "text": [
      "hkabc\n"
     ]
    }
   ],
   "source": [
    "obj.call_name2('hk')"
   ]
  },
  {
   "cell_type": "code",
   "execution_count": 15,
   "id": "990ffb68",
   "metadata": {},
   "outputs": [],
   "source": [
    "# 'apple': 'fruit', 'banana': 'fruit', 'carrot': 'vegetable'\n",
    "# {fruit:[apple, banana], vegetable:[carrot]}"
   ]
  },
  {
   "cell_type": "code",
   "execution_count": 32,
   "id": "45fbf666",
   "metadata": {},
   "outputs": [],
   "source": [
    "def transform(dic):\n",
    "    dic1 = dict(dic.copy())\n",
    "    keys = []\n",
    "    vals = []\n",
    "    dic2 = {}\n",
    "    for k,v in dic1.items():\n",
    "        \n",
    "        keys.append(k)\n",
    "        vals.append(v)\n",
    "        \n",
    "    for a,b in zip(keys,vals):\n",
    "        if a\n",
    "        \n",
    "    print(dic2)\n",
    "    print()\n",
    "    print(keys)\n",
    "    print()\n",
    "    print(vals)\n",
    "    "
   ]
  },
  {
   "cell_type": "code",
   "execution_count": 33,
   "id": "fa79dea6",
   "metadata": {},
   "outputs": [
    {
     "name": "stdout",
     "output_type": "stream",
     "text": [
      "{}\n",
      "\n",
      "['apple', 'banana', 'carrot']\n",
      "\n",
      "['fruit', 'fruit', 'vegetable']\n"
     ]
    }
   ],
   "source": [
    "transform({'apple': 'fruit', 'banana': 'fruit', 'carrot': 'vegetable'})"
   ]
  },
  {
   "cell_type": "code",
   "execution_count": 34,
   "id": "4ad5e009",
   "metadata": {},
   "outputs": [],
   "source": [
    "# 'apple': 'fruit', 'banana': 'fruit', 'carrot': 'vegetable'\n",
    "# {fruit:[apple, banana], vegetable:[carrot]}"
   ]
  },
  {
   "cell_type": "code",
   "execution_count": null,
   "id": "d1ef36b5",
   "metadata": {},
   "outputs": [],
   "source": []
  },
  {
   "cell_type": "code",
   "execution_count": null,
   "id": "0028ef83",
   "metadata": {},
   "outputs": [],
   "source": []
  },
  {
   "cell_type": "code",
   "execution_count": null,
   "id": "9855e8fd",
   "metadata": {},
   "outputs": [],
   "source": []
  },
  {
   "cell_type": "code",
   "execution_count": 59,
   "id": "571cf8ff",
   "metadata": {},
   "outputs": [],
   "source": [
    "class Node():\n",
    "    def __init__(self,data):\n",
    "        self.data = data\n",
    "        self.next = None\n",
    "        \n",
    "        \n",
    "        \n",
    "class LinkedList:\n",
    "    def __init__(self):\n",
    "        self.head = None\n",
    "    \n",
    "    def inp(self,new_data):\n",
    "#         new_node = Node(new_data)\n",
    "#         new_node.next = self.head\n",
    "#         self.head = new_node\n",
    "        new_node = Node(new_data)\n",
    "        if (self.head):\n",
    "            curr= self.head\n",
    "            while(curr.next):\n",
    "                curr = curr.next\n",
    "            curr.next = new_node\n",
    "        else: \n",
    "            self.head = new_node\n",
    "        \n",
    "    def print_list(self):\n",
    "        temp = self.head\n",
    "        while(temp):\n",
    "            print(temp.data,end = ' ')\n",
    "            temp = temp.next\n",
    "            \n",
    "    def reverse(self):\n",
    "        prev = None\n",
    "        curr = self.head\n",
    "        while(curr is not None):\n",
    "            next = curr.next\n",
    "            curr.next = prev\n",
    "            prev = curr\n",
    "            curr = next\n",
    "        self.head  = prev\n",
    "    \n",
    "    \n",
    "        "
   ]
  },
  {
   "cell_type": "code",
   "execution_count": 60,
   "id": "58f3f0c6",
   "metadata": {},
   "outputs": [],
   "source": [
    "ll = LinkedList()"
   ]
  },
  {
   "cell_type": "code",
   "execution_count": 61,
   "id": "d7840dcd",
   "metadata": {},
   "outputs": [],
   "source": [
    "ll.inp(15)\n",
    "ll.inp(45)\n",
    "ll.inp(23)"
   ]
  },
  {
   "cell_type": "code",
   "execution_count": 62,
   "id": "b12afc31",
   "metadata": {},
   "outputs": [
    {
     "name": "stdout",
     "output_type": "stream",
     "text": [
      "15 45 23 "
     ]
    }
   ],
   "source": [
    "ll.print_list()"
   ]
  },
  {
   "cell_type": "code",
   "execution_count": 63,
   "id": "5684c49b",
   "metadata": {},
   "outputs": [],
   "source": [
    "ll.reverse()"
   ]
  },
  {
   "cell_type": "code",
   "execution_count": 56,
   "id": "adaa8993",
   "metadata": {},
   "outputs": [
    {
     "name": "stdout",
     "output_type": "stream",
     "text": [
      "15 45 23 "
     ]
    }
   ],
   "source": [
    "ll.print_list()"
   ]
  },
  {
   "cell_type": "code",
   "execution_count": null,
   "id": "eb38fca9",
   "metadata": {},
   "outputs": [],
   "source": []
  }
 ],
 "metadata": {
  "kernelspec": {
   "display_name": "Python 3 (ipykernel)",
   "language": "python",
   "name": "python3"
  },
  "language_info": {
   "codemirror_mode": {
    "name": "ipython",
    "version": 3
   },
   "file_extension": ".py",
   "mimetype": "text/x-python",
   "name": "python",
   "nbconvert_exporter": "python",
   "pygments_lexer": "ipython3",
   "version": "3.7.0"
  }
 },
 "nbformat": 4,
 "nbformat_minor": 5
}
