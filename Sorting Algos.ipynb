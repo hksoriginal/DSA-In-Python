{
 "cells": [
  {
   "cell_type": "code",
   "execution_count": 1,
   "id": "70cbc9cc",
   "metadata": {},
   "outputs": [],
   "source": [
    "#comparator\n",
    "def comparator(a,b):\n",
    "    if a.score > b.score:\n",
    "        return -1\n",
    "    elif a.score < b.score:\n",
    "        return 1\n",
    "    elif a.score == b.score:\n",
    "        if a.name > b.name:\n",
    "            return 1\n",
    "        elif a.name < b.name:\n",
    "            return -1\n",
    "        else:\n",
    "            return 0"
   ]
  },
  {
   "cell_type": "code",
   "execution_count": 2,
   "id": "d12c868c",
   "metadata": {},
   "outputs": [],
   "source": [
    "#fraudulent activity notfication\n",
    "# import statistics\n",
    "# from collections import deque\n",
    "# def activityNotifications(expenditure, d):\n",
    "    \n",
    "    "
   ]
  },
  {
   "cell_type": "code",
   "execution_count": null,
   "id": "9d8c18c8",
   "metadata": {},
   "outputs": [],
   "source": [
    "def isBalanced(s):\n",
    "    "
   ]
  }
 ],
 "metadata": {
  "kernelspec": {
   "display_name": "Python 3 (ipykernel)",
   "language": "python",
   "name": "python3"
  },
  "language_info": {
   "codemirror_mode": {
    "name": "ipython",
    "version": 3
   },
   "file_extension": ".py",
   "mimetype": "text/x-python",
   "name": "python",
   "nbconvert_exporter": "python",
   "pygments_lexer": "ipython3",
   "version": "3.7.0"
  }
 },
 "nbformat": 4,
 "nbformat_minor": 5
}
