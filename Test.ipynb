{
 "cells": [
  {
   "cell_type": "code",
   "execution_count": 1,
   "id": "fb97c769",
   "metadata": {},
   "outputs": [],
   "source": [
    "#BST\n",
    "class Node:\n",
    "    def __init__(self,data):\n",
    "        self.left = None\n",
    "        self.data = data\n",
    "        self.right = None\n",
    "class Tree:\n",
    "    def createNode(self,data):\n",
    "        node = Node(data)\n",
    "    \n",
    "    def insert(self,node,data):\n",
    "        if node is None: node = self.createNode(data)\n",
    "        if data < node.data:\n",
    "            self.left = self.insert(node.left,data)\n",
    "        else:\n",
    "            self.right =self.insert(node.right,data)\n",
    "        return node\n",
    "    \n",
    "    def inorder(self,root):\n",
    "        self.inorder(root.left)\n",
    "        print(root.data,end='')\n",
    "        self.inorder(root.right)\n",
    "    \n",
    "    def preorder(self,root):\n",
    "        print(root.data,end='')\n",
    "        self.preorder(root.left)\n",
    "        self.preorder(root.right)\n",
    "    \n",
    "    def postorder(self,root):\n",
    "        self.postorder(root.left)\n",
    "        self.postorder(root.right)\n",
    "        print(root.data,end='')"
   ]
  },
  {
   "cell_type": "code",
   "execution_count": 1,
   "id": "73b31811",
   "metadata": {},
   "outputs": [],
   "source": [
    "def combination(n,k):\n",
    "    res = []\n",
    "    def backtrack(start,comb):\n",
    "        if len(comb) == k:\n",
    "            res.append(comb.copy())\n",
    "            return\n",
    "        for i in range(start, n+1):\n",
    "            comb.append(i)\n",
    "            backtrack(i+1,comb)\n",
    "            comb.pop()\n",
    "            \n",
    "    backtrack(1,[])        \n",
    "    return res        \n",
    "            "
   ]
  },
  {
   "cell_type": "code",
   "execution_count": 2,
   "id": "290e5f09",
   "metadata": {},
   "outputs": [
    {
     "name": "stdout",
     "output_type": "stream",
     "text": [
      "Reversed Number: 4321\n"
     ]
    }
   ],
   "source": [
    "num = 1234\n",
    "reversed_num = 0\n",
    "\n",
    "while num != 0:\n",
    "    digit = num % 10\n",
    "    reversed_num = reversed_num * 10 + digit\n",
    "    num //= 10\n",
    "\n",
    "print(\"Reversed Number: \" + str(reversed_num))"
   ]
  },
  {
   "cell_type": "code",
   "execution_count": null,
   "id": "e8dcea3c",
   "metadata": {},
   "outputs": [],
   "source": []
  }
 ],
 "metadata": {
  "kernelspec": {
   "display_name": "Python 3 (ipykernel)",
   "language": "python",
   "name": "python3"
  },
  "language_info": {
   "codemirror_mode": {
    "name": "ipython",
    "version": 3
   },
   "file_extension": ".py",
   "mimetype": "text/x-python",
   "name": "python",
   "nbconvert_exporter": "python",
   "pygments_lexer": "ipython3",
   "version": "3.7.0"
  }
 },
 "nbformat": 4,
 "nbformat_minor": 5
}
