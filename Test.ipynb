{
 "cells": [
  {
   "cell_type": "code",
   "execution_count": 1,
   "id": "fb97c769",
   "metadata": {},
   "outputs": [],
   "source": [
    "#BST\n",
    "class Node:\n",
    "    def __init__(self,data):\n",
    "        self.left = None\n",
    "        self.data = data\n",
    "        self.right = None\n",
    "class Tree:\n",
    "    def createNode(self,data):\n",
    "        node = Node(data)\n",
    "    \n",
    "    def insert(self,node,data):\n",
    "        if node is None: node = self.createNode(data)\n",
    "        if data < node.data:\n",
    "            self.left = self.insert(node.left,data)\n",
    "        else:\n",
    "            self.right =self.insert(node.right,data)\n",
    "        return node\n",
    "    \n",
    "    def inorder(self,root):\n",
    "        self.inorder(root.left)\n",
    "        print(root.data,end='')\n",
    "        self.inorder(root.right)\n",
    "    \n",
    "    def preorder(self,root):\n",
    "        print(root.data,end='')\n",
    "        self.preorder(root.left)\n",
    "        self.preorder(root.right)\n",
    "    \n",
    "    def postorder(self,root):\n",
    "        self.postorder(root.left)\n",
    "        self.postorder(root.right)\n",
    "        print(root.data,end='')"
   ]
  },
  {
   "cell_type": "code",
   "execution_count": null,
   "id": "73b31811",
   "metadata": {},
   "outputs": [],
   "source": []
  }
 ],
 "metadata": {
  "kernelspec": {
   "display_name": "Python 3 (ipykernel)",
   "language": "python",
   "name": "python3"
  },
  "language_info": {
   "codemirror_mode": {
    "name": "ipython",
    "version": 3
   },
   "file_extension": ".py",
   "mimetype": "text/x-python",
   "name": "python",
   "nbconvert_exporter": "python",
   "pygments_lexer": "ipython3",
   "version": "3.7.0"
  }
 },
 "nbformat": 4,
 "nbformat_minor": 5
}
