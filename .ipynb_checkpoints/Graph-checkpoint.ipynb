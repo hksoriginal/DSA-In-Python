{
 "cells": [
  {
   "cell_type": "code",
   "execution_count": 1,
   "id": "bb380c99",
   "metadata": {},
   "outputs": [],
   "source": [
    "num_nodes = 5\n",
    "edges = [(0,1),(0,4),(1,2),(1,3),(1,4),(2,3),(3,4)]"
   ]
  },
  {
   "cell_type": "code",
   "execution_count": 26,
   "id": "6dda609a",
   "metadata": {},
   "outputs": [
    {
     "name": "stdout",
     "output_type": "stream",
     "text": [
      "0 1\n",
      "0 4\n",
      "1 2\n",
      "1 3\n",
      "1 4\n",
      "2 3\n",
      "3 4\n"
     ]
    }
   ],
   "source": [
    "for n1,n2 in edges:\n",
    "    print(n1,n2)"
   ]
  },
  {
   "cell_type": "code",
   "execution_count": 13,
   "id": "9e94d65d",
   "metadata": {},
   "outputs": [],
   "source": [
    "class Graph:\n",
    "    def __init__(self,num_nodes,edges):\n",
    "        self.num_nodes = num_nodes\n",
    "        self.data = [[] for _ in range(num_nodes)]\n",
    "        for n1,n2 in edges:\n",
    "            self.data[n1].append(n2)\n",
    "            self.data[n2].append(n1)\n",
    "            \n",
    "    def __repr__(self):\n",
    "        #adjacency list\n",
    "        return \"\\n\".join([\"{}: {}\".format(n, neighbours) for n, neighbours in enumerate(self.data) ])\n",
    "    \n",
    "    def __str__(self):\n",
    "        return self.__repr__()\n",
    "            \n",
    "            "
   ]
  },
  {
   "cell_type": "code",
   "execution_count": 14,
   "id": "697883a6",
   "metadata": {},
   "outputs": [],
   "source": [
    "graph1 = Graph(num_nodes,edges)"
   ]
  },
  {
   "cell_type": "code",
   "execution_count": 15,
   "id": "4da12b11",
   "metadata": {},
   "outputs": [
    {
     "data": {
      "text/plain": [
       "[[1, 4], [0, 2, 3, 4], [1, 3], [1, 2, 4], [0, 1, 3]]"
      ]
     },
     "execution_count": 15,
     "metadata": {},
     "output_type": "execute_result"
    }
   ],
   "source": [
    "graph1.data"
   ]
  },
  {
   "cell_type": "code",
   "execution_count": 16,
   "id": "6af9df05",
   "metadata": {},
   "outputs": [
    {
     "data": {
      "text/plain": [
       "0: [1, 4]\n",
       "1: [0, 2, 3, 4]\n",
       "2: [1, 3]\n",
       "3: [1, 2, 4]\n",
       "4: [0, 1, 3]"
      ]
     },
     "execution_count": 16,
     "metadata": {},
     "output_type": "execute_result"
    }
   ],
   "source": [
    "graph1"
   ]
  },
  {
   "cell_type": "markdown",
   "id": "d3e609ff",
   "metadata": {},
   "source": [
    " # Graph Traversal\n",
    " ## BFS"
   ]
  },
  {
   "cell_type": "code",
   "execution_count": 20,
   "id": "26f68eb2",
   "metadata": {},
   "outputs": [],
   "source": [
    " def bfs(graph,root):\n",
    "        queue = []\n",
    "        visited = [False]* len(graph.data)\n",
    "        visited[root] = True\n",
    "        queue.append(root)\n",
    "        idx = 0\n",
    "        \n",
    "        while idx < len(queue):\n",
    "            # dequeue operation\n",
    "            current = queue[idx]\n",
    "            idx+=1\n",
    "            \n",
    "            # check all edges of current node\n",
    "            for node in graph.data[current]:\n",
    "                if not visited[node]:\n",
    "                    visited[node] = True\n",
    "                    queue.append(node)\n",
    "        return queue\n",
    "            \n",
    "            "
   ]
  },
  {
   "cell_type": "code",
   "execution_count": 22,
   "id": "d5253d26",
   "metadata": {},
   "outputs": [
    {
     "data": {
      "text/plain": [
       "0: [1, 4]\n",
       "1: [0, 2, 3, 4]\n",
       "2: [1, 3]\n",
       "3: [1, 2, 4]\n",
       "4: [0, 1, 3]"
      ]
     },
     "execution_count": 22,
     "metadata": {},
     "output_type": "execute_result"
    }
   ],
   "source": [
    "graph1"
   ]
  },
  {
   "cell_type": "code",
   "execution_count": 23,
   "id": "5ca13ca7",
   "metadata": {},
   "outputs": [
    {
     "data": {
      "text/plain": [
       "[3, 1, 2, 4, 0]"
      ]
     },
     "execution_count": 23,
     "metadata": {},
     "output_type": "execute_result"
    }
   ],
   "source": [
    "bfs(graph1,3)"
   ]
  },
  {
   "cell_type": "code",
   "execution_count": null,
   "id": "b267cd07",
   "metadata": {},
   "outputs": [],
   "source": []
  }
 ],
 "metadata": {
  "kernelspec": {
   "display_name": "Python 3 (ipykernel)",
   "language": "python",
   "name": "python3"
  },
  "language_info": {
   "codemirror_mode": {
    "name": "ipython",
    "version": 3
   },
   "file_extension": ".py",
   "mimetype": "text/x-python",
   "name": "python",
   "nbconvert_exporter": "python",
   "pygments_lexer": "ipython3",
   "version": "3.7.0"
  }
 },
 "nbformat": 4,
 "nbformat_minor": 5
}
