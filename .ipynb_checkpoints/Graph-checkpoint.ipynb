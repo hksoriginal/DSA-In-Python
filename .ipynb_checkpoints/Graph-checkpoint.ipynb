{
 "cells": [
  {
   "cell_type": "code",
   "execution_count": 1,
   "id": "bb380c99",
   "metadata": {},
   "outputs": [],
   "source": [
    "num_nodes = 5\n",
    "edges = [(0,1),(0,4),(1,2),(1,3),(1,4),(2,3),(3,4)]"
   ]
  },
  {
   "cell_type": "code",
   "execution_count": 2,
   "id": "237c253d",
   "metadata": {},
   "outputs": [
    {
     "name": "stdout",
     "output_type": "stream",
     "text": [
      "0 1\n",
      "0 4\n",
      "1 2\n",
      "1 3\n",
      "1 4\n",
      "2 3\n",
      "3 4\n"
     ]
    }
   ],
   "source": [
    "for n1,n2 in edges:\n",
    "    print(n1,n2)"
   ]
  },
  {
   "cell_type": "code",
   "execution_count": 3,
   "id": "cde3b465",
   "metadata": {},
   "outputs": [],
   "source": [
    "class Graph:\n",
    "    def __init__(self,num_nodes,edges):\n",
    "        self.num_nodes = num_nodes\n",
    "        self.data = [[] for _ in range(num_nodes)]\n",
    "        for n1,n2 in edges:\n",
    "            self.data[n1].append(n2)\n",
    "            self.data[n2].append(n1)\n",
    "            \n",
    "    def __repr__(self):\n",
    "        #adjacency list\n",
    "        return \"\\n\".join([\"{}: {}\".format(n, neighbours) for n, neighbours in enumerate(self.data) ])\n",
    "    \n",
    "    def __str__(self):\n",
    "        return self.__repr__()\n",
    "            \n",
    "            "
   ]
  },
  {
   "cell_type": "code",
   "execution_count": 4,
   "id": "9c017fb8",
   "metadata": {},
   "outputs": [],
   "source": [
    "graph1 = Graph(num_nodes,edges)"
   ]
  },
  {
   "cell_type": "code",
   "execution_count": 5,
   "id": "850cdc6b",
   "metadata": {},
   "outputs": [
    {
     "data": {
      "text/plain": [
       "[[1, 4], [0, 2, 3, 4], [1, 3], [1, 2, 4], [0, 1, 3]]"
      ]
     },
     "execution_count": 5,
     "metadata": {},
     "output_type": "execute_result"
    }
   ],
   "source": [
    "graph1.data"
   ]
  },
  {
   "cell_type": "code",
   "execution_count": 6,
   "id": "341ace38",
   "metadata": {},
   "outputs": [
    {
     "data": {
      "text/plain": [
       "0: [1, 4]\n",
       "1: [0, 2, 3, 4]\n",
       "2: [1, 3]\n",
       "3: [1, 2, 4]\n",
       "4: [0, 1, 3]"
      ]
     },
     "execution_count": 6,
     "metadata": {},
     "output_type": "execute_result"
    }
   ],
   "source": [
    "graph1"
   ]
  },
  {
   "cell_type": "markdown",
   "id": "7c488aab",
   "metadata": {},
   "source": [
    " # Graph Traversal\n",
    " ## BFS"
   ]
  },
  {
   "cell_type": "code",
   "execution_count": 7,
   "id": "fa633fa5",
   "metadata": {},
   "outputs": [],
   "source": [
    " def bfs(graph,root):\n",
    "        queue = []\n",
    "        visited = [False]* len(graph.data)\n",
    "        distance = [None]* len(graph.data)\n",
    "        parent = [None]* len(graph.data)\n",
    "        \n",
    "        visited[root] = True\n",
    "        queue.append(root)\n",
    "        distance[root] = 0\n",
    "        idx = 0\n",
    "        \n",
    "        while idx < len(queue):\n",
    "            # dequeue operation\n",
    "            current = queue[idx]\n",
    "            idx+=1\n",
    "            \n",
    "            # check all edges of current node\n",
    "            for node in graph.data[current]:\n",
    "                if not visited[node]:\n",
    "                    distance[node] = 1 + distance[current]\n",
    "                    parent[node] = current\n",
    "                    visited[node] = True\n",
    "                    queue.append(node)\n",
    "                    \n",
    "        return queue,distance,parent\n",
    "            \n",
    "            "
   ]
  },
  {
   "cell_type": "code",
   "execution_count": 8,
   "id": "79a3d817",
   "metadata": {},
   "outputs": [],
   "source": [
    " def bfs(graph,root):\n",
    "        queue = []\n",
    "        visited = [False]* len(graph.data)     \n",
    "        visited[root] = True\n",
    "        queue.append(root)\n",
    "        idx = 0\n",
    "        \n",
    "        while idx < len(queue):\n",
    "            current = queue[idx] # dequeue operation\n",
    "            idx+=1\n",
    "            \n",
    "            # check all edges of current node\n",
    "            for node in graph.data[current]:\n",
    "                if not visited[node]:\n",
    "                    visited[node] = True\n",
    "                    queue.append(node)\n",
    "                    \n",
    "        return queue\n",
    "            "
   ]
  },
  {
   "cell_type": "code",
   "execution_count": 9,
   "id": "5e3c06a4",
   "metadata": {},
   "outputs": [
    {
     "data": {
      "text/plain": [
       "0: [1, 4]\n",
       "1: [0, 2, 3, 4]\n",
       "2: [1, 3]\n",
       "3: [1, 2, 4]\n",
       "4: [0, 1, 3]"
      ]
     },
     "execution_count": 9,
     "metadata": {},
     "output_type": "execute_result"
    }
   ],
   "source": [
    "graph1"
   ]
  },
  {
   "cell_type": "code",
   "execution_count": 10,
   "id": "0d171e25",
   "metadata": {},
   "outputs": [
    {
     "data": {
      "text/plain": [
       "[0, 2, 3, 4]"
      ]
     },
     "execution_count": 10,
     "metadata": {},
     "output_type": "execute_result"
    }
   ],
   "source": [
    "graph1.data[1]"
   ]
  },
  {
   "cell_type": "code",
   "execution_count": 11,
   "id": "7a256cd4",
   "metadata": {},
   "outputs": [
    {
     "data": {
      "text/plain": [
       "[3, 1, 2, 4, 0]"
      ]
     },
     "execution_count": 11,
     "metadata": {},
     "output_type": "execute_result"
    }
   ],
   "source": [
    "bfs(graph1,3)"
   ]
  },
  {
   "cell_type": "code",
   "execution_count": null,
   "id": "2be8d424",
   "metadata": {},
   "outputs": [],
   "source": []
  },
  {
   "cell_type": "code",
   "execution_count": null,
   "id": "3d07c804",
   "metadata": {},
   "outputs": [],
   "source": []
  },
  {
   "cell_type": "markdown",
   "id": "e4503ca3",
   "metadata": {},
   "source": [
    "## DFS"
   ]
  },
  {
   "cell_type": "code",
   "execution_count": 12,
   "id": "e6a42a2e",
   "metadata": {},
   "outputs": [
    {
     "data": {
      "text/plain": [
       "0: [1, 4]\n",
       "1: [0, 2, 3, 4]\n",
       "2: [1, 3]\n",
       "3: [1, 2, 4]\n",
       "4: [0, 1, 3]"
      ]
     },
     "execution_count": 12,
     "metadata": {},
     "output_type": "execute_result"
    }
   ],
   "source": [
    "graph1"
   ]
  },
  {
   "cell_type": "code",
   "execution_count": 13,
   "id": "01e16e81",
   "metadata": {},
   "outputs": [],
   "source": [
    "def dfs(graph,root):\n",
    "    stack = []\n",
    "    visited = [False] * len(graph.data)\n",
    "    res = []\n",
    "    \n",
    "    stack.append(root)\n",
    "    \n",
    "    while len(stack)>0:\n",
    "        current = stack.pop()\n",
    "        if not visited[current]:\n",
    "            visited[current] = True\n",
    "            res.append(current)\n",
    "\n",
    "            for node in graph.data[current]:\n",
    "                if not visited[node]:\n",
    "                    stack.append(node)\n",
    "        \n",
    "    return res\n",
    "    "
   ]
  },
  {
   "cell_type": "code",
   "execution_count": 14,
   "id": "85504811",
   "metadata": {},
   "outputs": [
    {
     "data": {
      "text/plain": [
       "[3, 4, 1, 2, 0]"
      ]
     },
     "execution_count": 14,
     "metadata": {},
     "output_type": "execute_result"
    }
   ],
   "source": [
    "dfs(graph1,3)"
   ]
  },
  {
   "cell_type": "code",
   "execution_count": null,
   "id": "dce7181a",
   "metadata": {},
   "outputs": [],
   "source": []
  }
 ],
 "metadata": {
  "kernelspec": {
   "display_name": "Python 3 (ipykernel)",
   "language": "python",
   "name": "python3"
  },
  "language_info": {
   "codemirror_mode": {
    "name": "ipython",
    "version": 3
   },
   "file_extension": ".py",
   "mimetype": "text/x-python",
   "name": "python",
   "nbconvert_exporter": "python",
   "pygments_lexer": "ipython3",
   "version": "3.7.0"
  }
 },
 "nbformat": 4,
 "nbformat_minor": 5
}
