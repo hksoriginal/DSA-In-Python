{
 "cells": [
  {
   "cell_type": "markdown",
   "id": "115b307e",
   "metadata": {},
   "source": [
    "# Two Sum (Facebook)"
   ]
  },
  {
   "cell_type": "code",
   "execution_count": 6,
   "id": "9e427b3e",
   "metadata": {},
   "outputs": [],
   "source": [
    "\n",
    "class Solution:\n",
    "    def twoSum(self,nums,target):\n",
    "        prevMap = {}\n",
    "        for i,n in enumerate(nums):\n",
    "            diff = target - n\n",
    "            if diff in prevMap:\n",
    "                return [prevMap[diff],i]\n",
    "            prevMap[n] = i\n",
    "        return\n",
    "            "
   ]
  },
  {
   "cell_type": "code",
   "execution_count": 7,
   "id": "917b1ea0",
   "metadata": {},
   "outputs": [],
   "source": [
    "sol = Solution()"
   ]
  },
  {
   "cell_type": "code",
   "execution_count": 10,
   "id": "12d14232",
   "metadata": {},
   "outputs": [],
   "source": [
    "nums = [2,7,11,15]\n",
    "target = 9\n"
   ]
  },
  {
   "cell_type": "code",
   "execution_count": 11,
   "id": "0c46b5d3",
   "metadata": {},
   "outputs": [
    {
     "data": {
      "text/plain": [
       "[0, 1]"
      ]
     },
     "execution_count": 11,
     "metadata": {},
     "output_type": "execute_result"
    }
   ],
   "source": [
    "sol.twoSum(nums,target)"
   ]
  },
  {
   "cell_type": "code",
   "execution_count": 15,
   "id": "f5f0b8f4",
   "metadata": {},
   "outputs": [
    {
     "name": "stdout",
     "output_type": "stream",
     "text": [
      "0 2\n",
      "1 7\n",
      "2 11\n",
      "3 15\n"
     ]
    }
   ],
   "source": [
    "for i,n in enumerate(nums):\n",
    "    print(i,n)"
   ]
  },
  {
   "cell_type": "markdown",
   "id": "4b7b58c5",
   "metadata": {},
   "source": [
    "# Two Sum (Amazon)\n",
    "given array is sorted"
   ]
  },
  {
   "cell_type": "code",
   "execution_count": 17,
   "id": "243cfe98",
   "metadata": {},
   "outputs": [],
   "source": [
    "def twoSum2(nums,target):\n",
    "        l,r = 0,len(nums)-1\n",
    "        while l<r:\n",
    "            curSum = nums[l] + nums[r]\n",
    "            if curSum >target:\n",
    "                r -= 1\n",
    "            elif curSum<target:\n",
    "                l+=1\n",
    "            else:\n",
    "                return [l+1,r+1]\n",
    "        return[]"
   ]
  },
  {
   "cell_type": "code",
   "execution_count": 18,
   "id": "7a5f072a",
   "metadata": {},
   "outputs": [],
   "source": [
    "arr = [2,7,11,15]\n",
    "target = 9"
   ]
  },
  {
   "cell_type": "code",
   "execution_count": 19,
   "id": "ecf9918a",
   "metadata": {},
   "outputs": [
    {
     "data": {
      "text/plain": [
       "[1, 2]"
      ]
     },
     "execution_count": 19,
     "metadata": {},
     "output_type": "execute_result"
    }
   ],
   "source": [
    "twoSum2(arr,target)"
   ]
  },
  {
   "cell_type": "markdown",
   "id": "d4b66951",
   "metadata": {},
   "source": [
    "# 3 Sum "
   ]
  },
  {
   "cell_type": "code",
   "execution_count": 33,
   "id": "a3c4622a",
   "metadata": {},
   "outputs": [],
   "source": [
    "def threeSum(nums):\n",
    "    res = []\n",
    "    nums.sort()\n",
    "    for i , a in enumerate(nums):\n",
    "        if i > 0 and a == nums[i-1]:\n",
    "            continue\n",
    "        l,r = i+1,len(nums)-1\n",
    "        while l<r:\n",
    "            threeSum = a + nums[l] + nums[r]\n",
    "            if threeSum > 0:\n",
    "                r -=1\n",
    "            elif threeSum < 0:\n",
    "                l+=1\n",
    "            else:\n",
    "                res.append([a,nums[l],nums[r]])\n",
    "                l+=1\n",
    "                while nums[l] == nums[l-1] and l<r:\n",
    "                    l+=1\n",
    "    return res\n",
    "                    \n",
    "    "
   ]
  },
  {
   "cell_type": "code",
   "execution_count": 34,
   "id": "4e755e1d",
   "metadata": {},
   "outputs": [],
   "source": [
    "arr1 = [-1,0,1,2,-1,-4]\n"
   ]
  },
  {
   "cell_type": "code",
   "execution_count": 35,
   "id": "bb87acf6",
   "metadata": {},
   "outputs": [
    {
     "data": {
      "text/plain": [
       "[[-1, -1, 2], [-1, 0, 1]]"
      ]
     },
     "execution_count": 35,
     "metadata": {},
     "output_type": "execute_result"
    }
   ],
   "source": [
    "threeSum(arr1)"
   ]
  },
  {
   "cell_type": "markdown",
   "id": "db6a0056",
   "metadata": {},
   "source": [
    "# Sliding Window "
   ]
  },
  {
   "cell_type": "code",
   "execution_count": 1,
   "id": "5a2d93e8",
   "metadata": {},
   "outputs": [],
   "source": [
    "def maxProfit(prices):\n",
    "    l,r = 0,1\n",
    "    maxP = 0 \n",
    "    while r < len(prices):\n",
    "        if prices[l]<prices[r]:\n",
    "            profit = prices[r] - prices[l]\n",
    "            maxP = max(maxP,profit)\n",
    "        else:\n",
    "            l = r\n",
    "        r+=1\n",
    "    return maxP"
   ]
  },
  {
   "cell_type": "code",
   "execution_count": 2,
   "id": "97a819a3",
   "metadata": {},
   "outputs": [],
   "source": [
    "prices = [7,1,5,3,6,4]"
   ]
  },
  {
   "cell_type": "code",
   "execution_count": 3,
   "id": "a1897603",
   "metadata": {},
   "outputs": [
    {
     "data": {
      "text/plain": [
       "5"
      ]
     },
     "execution_count": 3,
     "metadata": {},
     "output_type": "execute_result"
    }
   ],
   "source": [
    "maxProfit(prices)"
   ]
  },
  {
   "cell_type": "markdown",
   "id": "07f9c82e",
   "metadata": {},
   "source": [
    "# Contains Duplicate"
   ]
  },
  {
   "cell_type": "code",
   "execution_count": 5,
   "id": "1bd39612",
   "metadata": {},
   "outputs": [],
   "source": [
    "def containsDuplicate(nums):\n",
    "    hashset = set()\n",
    "    for n in nums:\n",
    "        if n in hashset:\n",
    "            return True\n",
    "        hashset.add(n)\n",
    "    return False"
   ]
  },
  {
   "cell_type": "code",
   "execution_count": 6,
   "id": "df6c39dc",
   "metadata": {},
   "outputs": [],
   "source": [
    "dup = [1,2,3,1]"
   ]
  },
  {
   "cell_type": "code",
   "execution_count": 7,
   "id": "30d8269b",
   "metadata": {},
   "outputs": [
    {
     "data": {
      "text/plain": [
       "True"
      ]
     },
     "execution_count": 7,
     "metadata": {},
     "output_type": "execute_result"
    }
   ],
   "source": [
    "containsDuplicate(dup)"
   ]
  },
  {
   "cell_type": "markdown",
   "id": "65a8d570",
   "metadata": {},
   "source": [
    "# Product of Array Except Self"
   ]
  },
  {
   "cell_type": "code",
   "execution_count": 14,
   "id": "c7781d20",
   "metadata": {},
   "outputs": [],
   "source": [
    "def productExceptSelf(nums):\n",
    "    res = [1]*len(nums)\n",
    "    prefix = 1\n",
    "    for i in range(len(nums)):\n",
    "        res[i]= prefix\n",
    "        prefix *= nums[i]\n",
    "    postfix = 1\n",
    "    for i in range(len(nums)-1,-1,-1):\n",
    "        res[i] *= postfix\n",
    "        postfix *=nums[i]\n",
    "    return res\n",
    "        "
   ]
  },
  {
   "cell_type": "code",
   "execution_count": 15,
   "id": "9b0fb348",
   "metadata": {},
   "outputs": [],
   "source": [
    "mul = [1,2,3,4]"
   ]
  },
  {
   "cell_type": "code",
   "execution_count": 16,
   "id": "3578030a",
   "metadata": {},
   "outputs": [
    {
     "data": {
      "text/plain": [
       "[24, 12, 8, 6]"
      ]
     },
     "execution_count": 16,
     "metadata": {},
     "output_type": "execute_result"
    }
   ],
   "source": [
    "productExceptSelf(mul)"
   ]
  },
  {
   "cell_type": "markdown",
   "id": "8fcc8594",
   "metadata": {},
   "source": [
    "# Maximum Sum Subarray\n",
    "    "
   ]
  },
  {
   "cell_type": "code",
   "execution_count": 17,
   "id": "036d6288",
   "metadata": {},
   "outputs": [],
   "source": [
    "def maxSubArray(nums):\n",
    "    maxSub = nums[0]\n",
    "    curSum = 0\n",
    "    for n in nums:\n",
    "        if curSum < 0:\n",
    "            curSum = 0\n",
    "        curSum +=n\n",
    "        maxSub = max(maxSub,curSum)\n",
    "    return maxSub"
   ]
  },
  {
   "cell_type": "code",
   "execution_count": 18,
   "id": "539cf100",
   "metadata": {},
   "outputs": [],
   "source": [
    "maxsum = [-2,1,-3,4,-1,2,1,-5,4]"
   ]
  },
  {
   "cell_type": "code",
   "execution_count": 19,
   "id": "41421a2e",
   "metadata": {},
   "outputs": [
    {
     "data": {
      "text/plain": [
       "6"
      ]
     },
     "execution_count": 19,
     "metadata": {},
     "output_type": "execute_result"
    }
   ],
   "source": [
    "maxSubArray(maxsum)"
   ]
  },
  {
   "cell_type": "markdown",
   "id": "3b5bf83c",
   "metadata": {},
   "source": [
    "# Maximum Product Subarray (Dynamic Programming)"
   ]
  },
  {
   "cell_type": "code",
   "execution_count": 20,
   "id": "dbdcf2dc",
   "metadata": {},
   "outputs": [],
   "source": [
    "def maxProduct(nums):\n",
    "    res = max(nums)\n",
    "    curMin, curMax = 1,1\n",
    "    for n in nums:\n",
    "        if n==0:\n",
    "            curMin,curMax = 1,1\n",
    "            continue\n",
    "        temp = curMax * n    \n",
    "        curMax = max(n*curMax,n*curMin,n)\n",
    "        curMin = min(temp,n*curMin,n)\n",
    "        res = max(res,curMax)\n",
    "    return res"
   ]
  },
  {
   "cell_type": "code",
   "execution_count": 21,
   "id": "46fda6e2",
   "metadata": {},
   "outputs": [],
   "source": [
    "maxpro = [-2,1,-3,4,-1,2,1,-5,4]"
   ]
  },
  {
   "cell_type": "code",
   "execution_count": 22,
   "id": "2af43b1d",
   "metadata": {},
   "outputs": [
    {
     "data": {
      "text/plain": [
       "960"
      ]
     },
     "execution_count": 22,
     "metadata": {},
     "output_type": "execute_result"
    }
   ],
   "source": [
    "maxProduct(maxpro)"
   ]
  },
  {
   "cell_type": "markdown",
   "id": "95d41584",
   "metadata": {},
   "source": [
    "# Minimum in Rotated Sorted Array"
   ]
  },
  {
   "cell_type": "code",
   "execution_count": 1,
   "id": "34f4c711",
   "metadata": {},
   "outputs": [],
   "source": [
    "def findMin(nums):\n",
    "    res = nums[0]\n",
    "    l,r, = 0,len(nums)-1\n",
    "    while l<=r:\n",
    "        if nums[l]< nums[r]:\n",
    "            res = min(res,nums[l])\n",
    "            break\n",
    "        m = (l+r)//2\n",
    "        res = min(res,nums[m])\n",
    "        if nums[m] >= nums[l]:\n",
    "            l = m + 1\n",
    "        else:\n",
    "            r = m - 1\n",
    "    return res"
   ]
  },
  {
   "cell_type": "code",
   "execution_count": 2,
   "id": "f5cc94a3",
   "metadata": {},
   "outputs": [],
   "source": [
    "minint = [3,4,5,1,2]"
   ]
  },
  {
   "cell_type": "code",
   "execution_count": 3,
   "id": "2c4077e4",
   "metadata": {},
   "outputs": [
    {
     "data": {
      "text/plain": [
       "1"
      ]
     },
     "execution_count": 3,
     "metadata": {},
     "output_type": "execute_result"
    }
   ],
   "source": [
    "findMin(minint)"
   ]
  },
  {
   "cell_type": "code",
   "execution_count": null,
   "id": "bd5d9519",
   "metadata": {},
   "outputs": [],
   "source": []
  }
 ],
 "metadata": {
  "kernelspec": {
   "display_name": "Python 3 (ipykernel)",
   "language": "python",
   "name": "python3"
  },
  "language_info": {
   "codemirror_mode": {
    "name": "ipython",
    "version": 3
   },
   "file_extension": ".py",
   "mimetype": "text/x-python",
   "name": "python",
   "nbconvert_exporter": "python",
   "pygments_lexer": "ipython3",
   "version": "3.7.0"
  }
 },
 "nbformat": 4,
 "nbformat_minor": 5
}
