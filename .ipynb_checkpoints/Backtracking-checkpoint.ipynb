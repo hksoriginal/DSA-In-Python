{
 "cells": [
  {
   "cell_type": "code",
   "execution_count": 1,
   "id": "7751ca80",
   "metadata": {},
   "outputs": [],
   "source": [
    "#Word Search\n",
    "# https://leetcode.com/problems/word-search/\n",
    "def exist(board,word):\n",
    "    ROWS,COLS = len(board),len(board[0])\n",
    "    path = set()\n",
    "\n",
    "    def dfs(r,c,i):\n",
    "        if i ==len(word):\n",
    "            return True\n",
    "        if (r < 0 or c < 0 \n",
    "            or r>=ROWS or c>=COLS \n",
    "            or word[i]!=board[r][c]\n",
    "            or (r,c) in path):\n",
    "            return False\n",
    "        path.add((r,c))\n",
    "        res = (dfs(r+1,c,i+1) or\n",
    "               dfs(r,c+1,i+1) or\n",
    "               dfs(r-1,c,i+1) or\n",
    "               dfs(r,c-1,i+1))\n",
    "        path.remove((r,c))\n",
    "        return res\n",
    "    \n",
    "    for r in range(ROWS):\n",
    "        for c in range(COLS):\n",
    "            if dfs(r,c,0): return True\n",
    "            \n",
    "    return False\n",
    "                \n"
   ]
  },
  {
   "cell_type": "code",
   "execution_count": 2,
   "id": "f79b73e3",
   "metadata": {},
   "outputs": [],
   "source": [
    "# permutation\n",
    "# https://leetcode.com/problems/permutations/\n",
    "def permutation(nums):\n",
    "    res = []\n",
    "    if (len(nums) == 1):\n",
    "        return [nums[:]]\n",
    "    for i in range(len(nums)):\n",
    "        n = nums.pop(0) \n",
    "        perms = permutation(nums)\n",
    "        for perm in perms:\n",
    "            perm.append(n)\n",
    "        res.extend(perms)\n",
    "        nums.append(n)\n",
    "    return res"
   ]
  },
  {
   "cell_type": "code",
   "execution_count": 3,
   "id": "67ddb542",
   "metadata": {},
   "outputs": [
    {
     "data": {
      "text/plain": [
       "[[2, 5, 3], [5, 2, 3], [3, 2, 5], [2, 3, 5], [5, 3, 2], [3, 5, 2]]"
      ]
     },
     "execution_count": 3,
     "metadata": {},
     "output_type": "execute_result"
    }
   ],
   "source": [
    "permutation([3,5,2])"
   ]
  },
  {
   "cell_type": "code",
   "execution_count": 4,
   "id": "cef6e04d",
   "metadata": {},
   "outputs": [],
   "source": [
    "# permutation 2\n",
    "# https://leetcode.com/problems/permutations-ii/\n",
    "def permuteUnique(nums):\n",
    "    res = []\n",
    "    perm = []\n",
    "    count = {n:0 for n in nums}\n",
    "    for n in nums:\n",
    "        count[n]+=1\n",
    "    def dfs():\n",
    "        if len(perm) == len(nums):\n",
    "            res.append(perm.copy())\n",
    "            return\n",
    "        \n",
    "        for n in count:\n",
    "            if count[n] > 0:\n",
    "                perm.append(n)\n",
    "                count[n]-=1\n",
    "                dfs()\n",
    "                count[n] +=1\n",
    "                perm.pop()\n",
    "    dfs()\n",
    "    return res\n",
    "    "
   ]
  },
  {
   "cell_type": "code",
   "execution_count": 6,
   "id": "a4a43eee",
   "metadata": {},
   "outputs": [],
   "source": [
    "#subsets\n",
    "# https://leetcode.com/problems/subsets/\n",
    "def subsets(nums):\n",
    "    res = []\n",
    "    \n",
    "    subset = []\n",
    "    def dfs(i):\n",
    "        if i >=len(nums):\n",
    "            res.append(subset.copy())\n",
    "            return\n",
    "        subset.append(nums[i])\n",
    "        print(subset)\n",
    "        dfs(i+1)\n",
    "        \n",
    "        subset.pop()\n",
    "        dfs(i+1)\n",
    "    dfs(0)\n",
    "    return res\n",
    "        \n",
    "        "
   ]
  },
  {
   "cell_type": "code",
   "execution_count": null,
   "id": "139e6213",
   "metadata": {},
   "outputs": [],
   "source": []
  }
 ],
 "metadata": {
  "kernelspec": {
   "display_name": "Python 3 (ipykernel)",
   "language": "python",
   "name": "python3"
  },
  "language_info": {
   "codemirror_mode": {
    "name": "ipython",
    "version": 3
   },
   "file_extension": ".py",
   "mimetype": "text/x-python",
   "name": "python",
   "nbconvert_exporter": "python",
   "pygments_lexer": "ipython3",
   "version": "3.7.0"
  }
 },
 "nbformat": 4,
 "nbformat_minor": 5
}
