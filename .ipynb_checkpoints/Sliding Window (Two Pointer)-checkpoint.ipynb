{
 "cells": [
  {
   "cell_type": "code",
   "execution_count": 2,
   "id": "a53f8ee2",
   "metadata": {},
   "outputs": [],
   "source": [
    "# best time to buy and sell a Stock\n",
    "def maxProfit(prices):\n",
    "    l,r = 0,1 # left = Buy, Right =  Sell\n",
    "    maxP = 0\n",
    "    while r < len(prices):\n",
    "        if prices[l] < prices[r]:\n",
    "            profit = prices[r] - prices[l]\n",
    "            maxP = max(maxP,profit)\n",
    "        else:\n",
    "            l = r\n",
    "        r+=1\n",
    "    return maxP\n",
    "                \n",
    "            \n",
    "    "
   ]
  },
  {
   "cell_type": "code",
   "execution_count": 3,
   "id": "50fd2c90",
   "metadata": {},
   "outputs": [],
   "source": [
    "#longest substring withour repeating character\n",
    "def  lengthOfLongestSubstring(s):\n",
    "    charSet = set()\n",
    "    l = 0\n",
    "    res = 0\n",
    "    for r in range(len(s)):\n",
    "        while s[r] in charSet:\n",
    "            charSet.remove(s[l])\n",
    "            l+=1\n",
    "        charSet.add(s[r])\n",
    "        res = max(res,r-l+1)\n",
    "    return res\n"
   ]
  },
  {
   "cell_type": "code",
   "execution_count": 4,
   "id": "8690a916",
   "metadata": {},
   "outputs": [],
   "source": [
    "# minimum window substring\n",
    "def minWindow( s: str, t: str) -> str:\n",
    "    if t == \"\": return \"\"\n",
    "    countT, window = {},{}\n",
    "    for c in t:\n",
    "        countT[c] = 1+ countT.get(c,0)\n",
    "        \n",
    "    have,need = 0,len(countT)\n",
    "    res , resLen  = [-1,-1], float(\"infinity\")\n",
    "    l = 0\n",
    "    for r in range(len(s)):\n",
    "        c = s[r]\n",
    "        window[c] = 1 + window.get(c,0)\n",
    "        \n",
    "        if c in countT and window[c]==countT[c]:\n",
    "            have+=1\n",
    "        \n",
    "        while have == need:\n",
    "            if(r-l+1)< resLen:\n",
    "                res = [l,r]\n",
    "                resLen = (r-l+1)\n",
    "                window[s[l]]-=1\n",
    "                if s[l] in countT and window[s[l]]< countT[s[l]]:\n",
    "                    have-=1\n",
    "                l+=1\n",
    "    l,r = res\n",
    "    return s[l:r+1] if resLen != float(\"infinity\") else \"\"\n",
    "                \n",
    "        \n",
    "        "
   ]
  },
  {
   "cell_type": "code",
   "execution_count": null,
   "id": "8cb85d1d",
   "metadata": {},
   "outputs": [],
   "source": [
    "# Longest repeating character Replacment\n",
    "def characterReplacement(self, s: str, k: int) -> int:\n",
    "    count = {}\n",
    "    res = 0\n",
    "    l=0\n",
    "    maxF = 0\n",
    "    for r in range(len(s)):\n",
    "        count[s[r]] = 1 + count.get(s[r],0)\n",
    "        maxF = max(maxF,count[s[r]])\n",
    "        \n",
    "        while (r-l+1) - maxF >k:\n",
    "            count[s[l]]-=1\n",
    "            l+=1\n",
    "        res = max(res,r-l+1)\n",
    "        \n",
    "    return res   "
   ]
  }
 ],
 "metadata": {
  "kernelspec": {
   "display_name": "Python 3 (ipykernel)",
   "language": "python",
   "name": "python3"
  },
  "language_info": {
   "codemirror_mode": {
    "name": "ipython",
    "version": 3
   },
   "file_extension": ".py",
   "mimetype": "text/x-python",
   "name": "python",
   "nbconvert_exporter": "python",
   "pygments_lexer": "ipython3",
   "version": "3.7.0"
  }
 },
 "nbformat": 4,
 "nbformat_minor": 5
}
