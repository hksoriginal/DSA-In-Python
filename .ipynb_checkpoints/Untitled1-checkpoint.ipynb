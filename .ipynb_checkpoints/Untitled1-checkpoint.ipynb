{
 "cells": [
  {
   "cell_type": "code",
   "execution_count": 10,
   "id": "ba0fd669",
   "metadata": {},
   "outputs": [],
   "source": [
    "class A:\n",
    "    def __init__(self,name):\n",
    "        self.name = name\n",
    "    def call_name(self,name):\n",
    "        print(name)\n",
    "        \n",
    "class B(A):\n",
    "    def __init__(self,name2):\n",
    "        self.name2= name2\n",
    "    def call_name2(self,name2):\n",
    "        print(name2+'abc')"
   ]
  },
  {
   "cell_type": "code",
   "execution_count": 11,
   "id": "9d55e829",
   "metadata": {},
   "outputs": [],
   "source": [
    "obj = B('hk')"
   ]
  },
  {
   "cell_type": "code",
   "execution_count": 13,
   "id": "7bc8af84",
   "metadata": {},
   "outputs": [
    {
     "name": "stdout",
     "output_type": "stream",
     "text": [
      "hkabc\n"
     ]
    }
   ],
   "source": [
    "obj.call_name2('hk')"
   ]
  },
  {
   "cell_type": "code",
   "execution_count": 15,
   "id": "6a935f63",
   "metadata": {},
   "outputs": [],
   "source": [
    "# 'apple': 'fruit', 'banana': 'fruit', 'carrot': 'vegetable'\n",
    "# {fruit:[apple, banana], vegetable:[carrot]}"
   ]
  },
  {
   "cell_type": "code",
   "execution_count": 28,
   "id": "df286eab",
   "metadata": {},
   "outputs": [],
   "source": [
    "def transform(dic):\n",
    "    dic1 = dict(dic.copy())\n",
    "    keys = []\n",
    "    vals = []\n",
    "    dic2 = {}\n",
    "    for k,v in dic1.items():\n",
    "        \n",
    "        keys.append(k)\n",
    "        vals.append(v)\n",
    "    \n",
    "#     for i in range(len(keys)):\n",
    "#         dic2[vals[i]] = keys[i]\n",
    "        \n",
    "    for a,b in zip(keys,vals):\n",
    "        if \n",
    "        \n",
    "        \n",
    "        \n",
    "    print(dic2)\n",
    "    print()\n",
    "    print(keys)\n",
    "    print()\n",
    "    print(vals)\n",
    "    "
   ]
  },
  {
   "cell_type": "code",
   "execution_count": 29,
   "id": "ec0010f6",
   "metadata": {},
   "outputs": [
    {
     "name": "stdout",
     "output_type": "stream",
     "text": [
      "{'fruit': 'banana', 'vegetable': 'carrot'}\n",
      "\n",
      "['apple', 'banana', 'carrot']\n",
      "\n",
      "['fruit', 'fruit', 'vegetable']\n"
     ]
    }
   ],
   "source": [
    "transform({'apple': 'fruit', 'banana': 'fruit', 'carrot': 'vegetable'})"
   ]
  },
  {
   "cell_type": "code",
   "execution_count": null,
   "id": "ec55a480",
   "metadata": {},
   "outputs": [],
   "source": []
  }
 ],
 "metadata": {
  "kernelspec": {
   "display_name": "Python 3 (ipykernel)",
   "language": "python",
   "name": "python3"
  },
  "language_info": {
   "codemirror_mode": {
    "name": "ipython",
    "version": 3
   },
   "file_extension": ".py",
   "mimetype": "text/x-python",
   "name": "python",
   "nbconvert_exporter": "python",
   "pygments_lexer": "ipython3",
   "version": "3.7.0"
  }
 },
 "nbformat": 4,
 "nbformat_minor": 5
}
