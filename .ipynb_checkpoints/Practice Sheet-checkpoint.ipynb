{
 "cells": [
  {
   "cell_type": "code",
   "execution_count": 12,
   "id": "c22a7104",
   "metadata": {},
   "outputs": [],
   "source": [
    "notes = [2000,500,200,100,50,20,10,1]\n",
    "res = []"
   ]
  },
  {
   "cell_type": "code",
   "execution_count": 36,
   "id": "da55ebc7",
   "metadata": {},
   "outputs": [],
   "source": [
    "def num_notes(amount,notes):\n",
    "    notesCount = {}\n",
    "    while amount != 0:\n",
    "        for note in notes:\n",
    "            if amount >= note:\n",
    "                notesCount[note] = amount//note\n",
    "                amount-=(note*notesCount[note])\n",
    "                print(amount)\n",
    "    return notesCount\n",
    "                "
   ]
  },
  {
   "cell_type": "code",
   "execution_count": 37,
   "id": "0911fb3f",
   "metadata": {},
   "outputs": [
    {
     "name": "stdout",
     "output_type": "stream",
     "text": [
      "1021\n",
      "21\n",
      "1\n",
      "0\n"
     ]
    },
    {
     "data": {
      "text/plain": [
       "{2000: 3, 500: 2, 20: 1, 1: 1}"
      ]
     },
     "execution_count": 37,
     "metadata": {},
     "output_type": "execute_result"
    }
   ],
   "source": [
    "num_notes(7021,notes)"
   ]
  },
  {
   "cell_type": "code",
   "execution_count": null,
   "id": "9d02a47c",
   "metadata": {},
   "outputs": [],
   "source": [
    "rom collections import defaultdict, deque\n",
    "\n",
    "class Graph:\n",
    "    def init(self):\n",
    "        self.graph = defaultdict(list)\n",
    "    def addEdge(self, frm, to):\n",
    "        self.graph[frm].append(to)\n",
    "        self.graph[to].append(frm)\n",
    "\n",
    "    def checkEdge(self, frm, to):\n",
    "        if frm in self.graph[to] or to in self.graph[frm]:\n",
    "            return True\n",
    "        else:\n",
    "            return False\n",
    "\n",
    "    def getCount(self, src, dest, n):\n",
    "        q = deque([])\n",
    "        q.append([src,0])\n",
    "        count = 0\n",
    "        while(q):\n",
    "            vertex = q.popleft()\n",
    "            #print vertex\n",
    "            vertexname = vertex[0]\n",
    "            vertexdist = vertex[1]\n",
    "            for v in self.graph[vertexname]:\n",
    "                if(vertexdist+1 == n and v == dest):\n",
    "                    count += 1\n",
    "                elif (vertexdist+1 < n):\n",
    "                    q.append([v,vertexdist+1])\n",
    "            #print q\n",
    "        return count"
   ]
  },
  {
   "cell_type": "code",
   "execution_count": null,
   "id": "1e974942",
   "metadata": {},
   "outputs": [],
   "source": []
  }
 ],
 "metadata": {
  "kernelspec": {
   "display_name": "Python 3 (ipykernel)",
   "language": "python",
   "name": "python3"
  },
  "language_info": {
   "codemirror_mode": {
    "name": "ipython",
    "version": 3
   },
   "file_extension": ".py",
   "mimetype": "text/x-python",
   "name": "python",
   "nbconvert_exporter": "python",
   "pygments_lexer": "ipython3",
   "version": "3.7.0"
  }
 },
 "nbformat": 4,
 "nbformat_minor": 5
}
