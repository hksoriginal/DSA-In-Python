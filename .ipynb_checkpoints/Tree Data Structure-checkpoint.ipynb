{
 "cells": [
  {
   "cell_type": "markdown",
   "id": "38bf372c",
   "metadata": {},
   "source": [
    "# BST"
   ]
  },
  {
   "cell_type": "code",
   "execution_count": null,
   "id": "8f7bbb71",
   "metadata": {},
   "outputs": [],
   "source": [
    "class Node:\n",
    "    def __init__(self,value):\n",
    "        self.left = None\n",
    "        self.data = value\n",
    "        self.right = None\n",
    "        \n",
    "        \n",
    "class Tree:\n",
    "    def createNode(data):\n",
    "        return Node(data)\n",
    "    def insert(self,node,data):\n",
    "        if node is None:\n",
    "            return self.creatNode(data)\n",
    "        if data < node.data:\n",
    "            node.left = self.insert(node.left,data)\n",
    "        else:\n",
    "            node.right = self.insert(node.right,data)\n",
    "        return node\n",
    "    \n",
    "    \n",
    "        "
   ]
  }
 ],
 "metadata": {
  "kernelspec": {
   "display_name": "Python 3 (ipykernel)",
   "language": "python",
   "name": "python3"
  },
  "language_info": {
   "codemirror_mode": {
    "name": "ipython",
    "version": 3
   },
   "file_extension": ".py",
   "mimetype": "text/x-python",
   "name": "python",
   "nbconvert_exporter": "python",
   "pygments_lexer": "ipython3",
   "version": "3.7.0"
  }
 },
 "nbformat": 4,
 "nbformat_minor": 5
}
