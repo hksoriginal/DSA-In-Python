{
 "cells": [
  {
   "cell_type": "markdown",
   "id": "8a839839",
   "metadata": {},
   "source": [
    "# BST\n",
    "# Inorder:  L rt R\n",
    "# Preorder : rt L R\n",
    "# Postorder : L R rt"
   ]
  },
  {
   "cell_type": "code",
   "execution_count": 1,
   "id": "775f4486",
   "metadata": {},
   "outputs": [],
   "source": [
    "class Node:\n",
    "    def __init__(self,value):\n",
    "        self.left = None\n",
    "        self.data = value\n",
    "        self.right = None\n",
    "        \n",
    "class Tree:\n",
    "    def createNode(self,data):\n",
    "        return Node(data)\n",
    "    \n",
    "    \n",
    "    def insert(self,node,data):\n",
    "        if node is None:\n",
    "            return self.createNode(data)\n",
    "        if data < node.data:\n",
    "            node.left = self.insert(node.left,data)\n",
    "        else:\n",
    "            node.right = self.insert(node.right,data)\n",
    "        return node\n",
    "    \n",
    "    def inorder(self,root):\n",
    "        if root is not None:\n",
    "            self.inorder(root.left)\n",
    "            print(root.data, end = ' ')\n",
    "            self.inorder(root.right)\n",
    "            \n",
    "        "
   ]
  },
  {
   "cell_type": "code",
   "execution_count": 2,
   "id": "2db34adb",
   "metadata": {},
   "outputs": [],
   "source": [
    "tree  = Tree()"
   ]
  },
  {
   "cell_type": "code",
   "execution_count": 3,
   "id": "21aa6565",
   "metadata": {},
   "outputs": [
    {
     "name": "stdout",
     "output_type": "stream",
     "text": [
      "5\n"
     ]
    }
   ],
   "source": [
    "root = tree.createNode(5)\n",
    "print(root.data)"
   ]
  },
  {
   "cell_type": "code",
   "execution_count": 4,
   "id": "ca202b11",
   "metadata": {},
   "outputs": [
    {
     "data": {
      "text/plain": [
       "<__main__.Node at 0x2a51fb6a7b8>"
      ]
     },
     "execution_count": 4,
     "metadata": {},
     "output_type": "execute_result"
    }
   ],
   "source": [
    "tree.insert(root,2)\n",
    "tree.insert(root,10)\n",
    "tree.insert(root,7)\n",
    "tree.insert(root,15)\n",
    "tree.insert(root,12)\n",
    "tree.insert(root,20)\n",
    "tree.insert(root,30)\n",
    "tree.insert(root,6)\n",
    "tree.insert(root,8)"
   ]
  },
  {
   "cell_type": "code",
   "execution_count": 5,
   "id": "5a89cbe8",
   "metadata": {},
   "outputs": [
    {
     "name": "stdout",
     "output_type": "stream",
     "text": [
      "2 5 6 7 8 10 12 15 20 30 "
     ]
    }
   ],
   "source": [
    "tree.inorder(root)"
   ]
  },
  {
   "cell_type": "code",
   "execution_count": null,
   "id": "966e8268",
   "metadata": {},
   "outputs": [],
   "source": []
  },
  {
   "cell_type": "code",
   "execution_count": 6,
   "id": "b08b4e2b",
   "metadata": {},
   "outputs": [],
   "source": [
    "def insert(self,val):\n",
    "    if self.root is None:\n",
    "        self.root = Node(val)\n",
    "        return\n",
    "    root = self.root\n",
    "    while 1:\n",
    "        if val < root.info:\n",
    "            if root.left is not None:\n",
    "                root = root.left\n",
    "            else:\n",
    "                root.left =  Node(val)\n",
    "                break\n",
    "        elif val >= root.info:\n",
    "            if root.right is not None:\n",
    "                root = root.right\n",
    "            else:\n",
    "                root.right =  Node(val)\n",
    "                break  "
   ]
  },
  {
   "cell_type": "code",
   "execution_count": 7,
   "id": "a07297d0",
   "metadata": {},
   "outputs": [],
   "source": [
    "def inOrder(root):\n",
    "    if root is not None:\n",
    "        inOrder(root.left)\n",
    "        print(root.info , end = \" \")\n",
    "        inOrder(root.right)"
   ]
  },
  {
   "cell_type": "code",
   "execution_count": 8,
   "id": "4a1b465c",
   "metadata": {},
   "outputs": [],
   "source": [
    "def preOrder(root):\n",
    "    if root is not None:\n",
    "        print(root.info , end = \" \")\n",
    "        preOrder(root.left)\n",
    "        preOrder(root.right)"
   ]
  },
  {
   "cell_type": "code",
   "execution_count": 9,
   "id": "9511c925",
   "metadata": {},
   "outputs": [],
   "source": [
    "def postOrder(root):\n",
    "    if root is not None:\n",
    "        postOrder(root.left)\n",
    "        postOrder(root.right)\n",
    "        print(root.info , end = \" \")"
   ]
  },
  {
   "cell_type": "code",
   "execution_count": 18,
   "id": "750a1bbb",
   "metadata": {},
   "outputs": [],
   "source": [
    "def height(root):\n",
    "    if not root:return -1\n",
    "    return 1 + max(height(root.left),height(root.right))\n",
    "        "
   ]
  },
  {
   "cell_type": "code",
   "execution_count": 11,
   "id": "c6392268",
   "metadata": {},
   "outputs": [],
   "source": [
    "def levelOrder(root):\n",
    "    q = []\n",
    "    q.append(root)\n",
    "    while len(q) !=0:\n",
    "        root = q.pop(0)\n",
    "        print(root.info , end = \" \")\n",
    "        if  root.left is not None:\n",
    "            q.append(root.left)\n",
    "        if root.right is not None:\n",
    "            q.append(root.right)    "
   ]
  },
  {
   "cell_type": "code",
   "execution_count": 12,
   "id": "e93a3b6d",
   "metadata": {},
   "outputs": [],
   "source": [
    "def topView(root):\n",
    "    q =[]\n",
    "    d = dict()\n",
    "    root.level = 0\n",
    "    q.append(root)\n",
    "    while len(q) !=0:\n",
    "        root = q.pop(0)\n",
    "        if root.level not in d:\n",
    "            d[root.level] = root.info\n",
    "        if root.left is not None:\n",
    "            q.append(root.left)\n",
    "            root.left.level = root.level - 1\n",
    "        if root.right is not None:\n",
    "            q.append(root.right)\n",
    "            root.right.level = root.level + 1\n",
    "            \n",
    "    for i in sorted(d):\n",
    "        print(d[i],end =' ')\n",
    "            \n"
   ]
  },
  {
   "cell_type": "code",
   "execution_count": 13,
   "id": "faeab7af",
   "metadata": {},
   "outputs": [],
   "source": [
    "def checkBST(root):\n",
    "    def InOrder(root,values):\n",
    "        if root is None:\n",
    "            return \n",
    "        InOrder(root.left,values)\n",
    "        values.append(root.data)\n",
    "        InOrder(root.right,values)\n",
    "        \n",
    "        \n",
    "    values = []\n",
    "    InOrder(root,values)\n",
    "    for i in range(len(values)-1):\n",
    "        if values[i]>= values[i+1]:\n",
    "            return False\n",
    "    return True"
   ]
  },
  {
   "cell_type": "code",
   "execution_count": 14,
   "id": "6b44feb6",
   "metadata": {},
   "outputs": [],
   "source": [
    "# recursive approach\n",
    "left_part = -999999\n",
    "right_part = 999999\n",
    "def check(root,left_part,right_part):\n",
    "    if root is None:\n",
    "        return True\n",
    "    if root.data <= left_part or root.data >= right_part:\n",
    "        return False\n",
    "    return check(root.left,left_part,root.data) and check(root.right,root.data,right_part)\n",
    "    "
   ]
  },
  {
   "cell_type": "code",
   "execution_count": 19,
   "id": "db8b2298",
   "metadata": {},
   "outputs": [],
   "source": [
    "#diameter of BST\n",
    "# https://leetcode.com/problems/diameter-of-binary-tree/\n",
    "def diameterOfBinaryTree(root):\n",
    "    res = [0]  \n",
    "    def dfs(root):\n",
    "        if not root: return 0\n",
    "        left = dfs(root.left)\n",
    "        right = dfs(root.right)\n",
    "        res[0] = max(res[0],2+ left + right)\n",
    "        return 1 + max(left,right)\n",
    "    dfs(root)\n",
    "    return res[0]"
   ]
  },
  {
   "cell_type": "code",
   "execution_count": null,
   "id": "13a4147e",
   "metadata": {},
   "outputs": [],
   "source": []
  }
 ],
 "metadata": {
  "kernelspec": {
   "display_name": "Python 3 (ipykernel)",
   "language": "python",
   "name": "python3"
  },
  "language_info": {
   "codemirror_mode": {
    "name": "ipython",
    "version": 3
   },
   "file_extension": ".py",
   "mimetype": "text/x-python",
   "name": "python",
   "nbconvert_exporter": "python",
   "pygments_lexer": "ipython3",
   "version": "3.7.0"
  }
 },
 "nbformat": 4,
 "nbformat_minor": 5
}
