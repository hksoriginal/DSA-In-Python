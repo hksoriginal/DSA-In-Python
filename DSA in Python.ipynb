{
 "cells": [
  {
   "cell_type": "markdown",
   "id": "5c258208",
   "metadata": {},
   "source": [
    "# Array"
   ]
  },
  {
   "cell_type": "markdown",
   "id": "88d34e63",
   "metadata": {},
   "source": [
    "## 1D Array"
   ]
  },
  {
   "cell_type": "code",
   "execution_count": 1,
   "id": "e6b577fa",
   "metadata": {},
   "outputs": [
    {
     "name": "stdout",
     "output_type": "stream",
     "text": [
      "Enter Array size: \n",
      "3\n",
      "Enter array elements: \n",
      "\n",
      "1\n",
      "2\n",
      "3\n",
      "Array elements are: \n",
      "\n",
      "123"
     ]
    }
   ],
   "source": [
    "print('Enter Array size: ')\n",
    "num = int(input())\n",
    "arr= []\n",
    "print('Enter array elements: \\n')\n",
    "for i in range(num):\n",
    "    inp = input()\n",
    "    arr.append(inp)\n",
    "print('Array elements are: \\n')\n",
    "for i in range(num):\n",
    "    print(arr[i],end=\"\")"
   ]
  },
  {
   "cell_type": "markdown",
   "id": "bbf48ce1",
   "metadata": {},
   "source": [
    "## 2D Array"
   ]
  },
  {
   "cell_type": "code",
   "execution_count": 2,
   "id": "aa974c47",
   "metadata": {},
   "outputs": [
    {
     "name": "stdout",
     "output_type": "stream",
     "text": [
      "Enter number of rows: \n",
      "2\n",
      "Enter number of columns: \n",
      "3\n",
      "[[0, 0, 0], [0, 1, 2]]\n"
     ]
    }
   ],
   "source": [
    "r_num = int(input('Enter number of rows: \\n'))\n",
    "c_num = int(input('Enter number of columns: \\n'))\n",
    "twod_arr = [[0 for  col in range(c_num)] for row in range(r_num)]\n",
    "\n",
    "for row in range(r_num):\n",
    "    for col in range(c_num):\n",
    "        twod_arr[row][col] = row*col\n",
    "print(twod_arr)"
   ]
  },
  {
   "cell_type": "markdown",
   "id": "7db68182",
   "metadata": {},
   "source": [
    "## Deletion in array"
   ]
  },
  {
   "cell_type": "code",
   "execution_count": 3,
   "id": "c932dc63",
   "metadata": {},
   "outputs": [
    {
     "name": "stdout",
     "output_type": "stream",
     "text": [
      "Enter Array size: 3\n",
      "Insert Values in arrat of size:  3\n",
      "1\n",
      "2\n",
      "3\n",
      "1 2 3 \n",
      "\n",
      "Enter elemnt need to be removed:\n",
      "\n",
      "1\n",
      "Element does not exist\n",
      "\n"
     ]
    }
   ],
   "source": [
    "size = int(input(\"Enter Array size: \"))\n",
    "arr= []\n",
    "print('Insert Values in arrat of size: ',size)\n",
    "for i in range(size):\n",
    "    element = input()\n",
    "    arr.append(element)\n",
    "for i in range(len(arr)):\n",
    "    print(end=str(arr[i])+\" \")\n",
    "print('\\n')\n",
    "\n",
    "print('Enter elemnt need to be removed:\\n')\n",
    "rem = int(input())\n",
    "if rem in arr:\n",
    "    arr.remove(rem)\n",
    "    print('Array after removing :',rem)\n",
    "    for i in range(len(arr)):\n",
    "        print(arr[i],end='')\n",
    "else:\n",
    "    print('Element does not exist\\n')"
   ]
  },
  {
   "cell_type": "markdown",
   "id": "7a3940a2",
   "metadata": {},
   "source": [
    "## Sorting in array"
   ]
  },
  {
   "cell_type": "code",
   "execution_count": 4,
   "id": "2b9fca4c",
   "metadata": {},
   "outputs": [
    {
     "name": "stdout",
     "output_type": "stream",
     "text": [
      "10 22 38 45 89 11 \n",
      "\n",
      "Array after sorting: \n",
      "\n",
      "10 11 22 38 45 89 "
     ]
    }
   ],
   "source": [
    "arr = [10,22,38,45,89,11]\n",
    "temp = 0\n",
    "\n",
    "for i in range(len(arr)):\n",
    "    print(end=str(arr[i])+\" \")\n",
    "\n",
    "for i in range(0,len(arr)):\n",
    "    for j in range(i+1,len(arr)):\n",
    "        if (arr[i]>arr[j]):\n",
    "            temp = arr[i]\n",
    "            arr[i]= arr[j]\n",
    "            arr[j] = temp\n",
    "            \n",
    "print('\\n')\n",
    "print('Array after sorting: \\n')\n",
    "\n",
    "for i in range(len(arr)):\n",
    "    print(end=str(arr[i])+\" \")"
   ]
  },
  {
   "cell_type": "markdown",
   "id": "fdbbd60a",
   "metadata": {},
   "source": [
    "## Searching in Array"
   ]
  },
  {
   "cell_type": "code",
   "execution_count": 5,
   "id": "4f56e888",
   "metadata": {},
   "outputs": [
    {
     "name": "stdout",
     "output_type": "stream",
     "text": [
      "10 22 38 45 89 11 \n",
      "Enter element to be searched:\n",
      "\n",
      "45\n",
      "Element 45 is present at position 3\n",
      "\n"
     ]
    }
   ],
   "source": [
    "arr1 = [10,22,38,45,89,11]\n",
    "for i in range(len(arr)):\n",
    "    print(end=str(arr1[i])+\" \")\n",
    "print('\\nEnter element to be searched:\\n')\n",
    "elm = int(input())\n",
    "if elm in arr1:\n",
    "    print(f'Element {elm} is present at position {arr1.index(elm)}\\n')\n",
    "else:\n",
    "    print('Element is not present in the given array!')"
   ]
  },
  {
   "cell_type": "markdown",
   "id": "d8b06958",
   "metadata": {},
   "source": [
    "# Stack"
   ]
  },
  {
   "cell_type": "markdown",
   "id": "ed136d08",
   "metadata": {},
   "source": [
    "## Using List"
   ]
  },
  {
   "cell_type": "code",
   "execution_count": 6,
   "id": "a32a5aeb",
   "metadata": {},
   "outputs": [
    {
     "name": "stdout",
     "output_type": "stream",
     "text": [
      "Enter element to be inserted in stack:\n",
      "\n",
      "15\n",
      "[15]\n",
      "[]\n"
     ]
    }
   ],
   "source": [
    "stack = []\n",
    "print(\"Enter element to be inserted in stack:\\n\")\n",
    "ele = int(input())\n",
    "stack.append(ele)\n",
    "print(stack)\n",
    "stack.pop()\n",
    "print(stack)\n"
   ]
  },
  {
   "cell_type": "markdown",
   "id": "673a00f5",
   "metadata": {},
   "source": [
    "## Using Deque"
   ]
  },
  {
   "cell_type": "code",
   "execution_count": 7,
   "id": "358680fa",
   "metadata": {},
   "outputs": [],
   "source": [
    "from collections import deque"
   ]
  },
  {
   "cell_type": "code",
   "execution_count": 8,
   "id": "92fee36a",
   "metadata": {},
   "outputs": [],
   "source": [
    "deq_stack = deque()"
   ]
  },
  {
   "cell_type": "code",
   "execution_count": 9,
   "id": "280e3588",
   "metadata": {},
   "outputs": [
    {
     "name": "stdout",
     "output_type": "stream",
     "text": [
      "deque(['Hello Kitty'])\n"
     ]
    }
   ],
   "source": [
    "deq_stack.append('Hello Kitty')\n",
    "print(deq_stack)"
   ]
  },
  {
   "cell_type": "code",
   "execution_count": 10,
   "id": "21414183",
   "metadata": {},
   "outputs": [
    {
     "name": "stdout",
     "output_type": "stream",
     "text": [
      "Hello Kitty\n"
     ]
    }
   ],
   "source": [
    "print(deq_stack.pop())\n"
   ]
  },
  {
   "cell_type": "markdown",
   "id": "54218707",
   "metadata": {},
   "source": [
    "## Using Queue"
   ]
  },
  {
   "cell_type": "code",
   "execution_count": 11,
   "id": "3cae7eb4",
   "metadata": {},
   "outputs": [],
   "source": [
    "from queue import LifoQueue"
   ]
  },
  {
   "cell_type": "code",
   "execution_count": 12,
   "id": "48c4f984",
   "metadata": {},
   "outputs": [],
   "source": [
    "lifo_que = LifoQueue(maxsize=3)"
   ]
  },
  {
   "cell_type": "code",
   "execution_count": 13,
   "id": "5c7fa507",
   "metadata": {},
   "outputs": [
    {
     "name": "stdout",
     "output_type": "stream",
     "text": [
      "3\n",
      "True\n",
      "False\n"
     ]
    }
   ],
   "source": [
    "lifo_que.put(56)\n",
    "lifo_que.put(15)\n",
    "lifo_que.put(45)\n",
    "print(lifo_que.qsize())\n",
    "print(lifo_que.full())\n",
    "lifo_que.get()\n",
    "print(lifo_que.full())\n"
   ]
  },
  {
   "cell_type": "markdown",
   "id": "0ec74af2",
   "metadata": {},
   "source": [
    "# Queue"
   ]
  },
  {
   "cell_type": "code",
   "execution_count": 14,
   "id": "a41951cf",
   "metadata": {},
   "outputs": [],
   "source": [
    " class Queue:\n",
    "        def __init__(self):\n",
    "            self.queue = []\n",
    "        def enqueue(self,item):\n",
    "            self.queue.append(item)\n",
    "        def dequeue(self):\n",
    "            if len(self.queue)<1:\n",
    "                return None\n",
    "            self.queue.pop(0)\n",
    "        def display(self):\n",
    "            print(self.queue)\n",
    "        def size(self):\n",
    "            return len(self.queue)"
   ]
  },
  {
   "cell_type": "code",
   "execution_count": 15,
   "id": "fd58fddf",
   "metadata": {},
   "outputs": [],
   "source": [
    "q = Queue()"
   ]
  },
  {
   "cell_type": "code",
   "execution_count": 16,
   "id": "78916e7f",
   "metadata": {},
   "outputs": [
    {
     "name": "stdout",
     "output_type": "stream",
     "text": [
      "[2, 5, 10, 65]\n"
     ]
    }
   ],
   "source": [
    "q.enqueue(2)\n",
    "q.enqueue(5)\n",
    "q.enqueue(10)\n",
    "q.enqueue(65)\n",
    "q.display()"
   ]
  },
  {
   "cell_type": "code",
   "execution_count": 17,
   "id": "7a4f71e9",
   "metadata": {},
   "outputs": [
    {
     "name": "stdout",
     "output_type": "stream",
     "text": [
      "[5, 10, 65]\n"
     ]
    }
   ],
   "source": [
    "q.dequeue()\n",
    "q.display()\n"
   ]
  },
  {
   "cell_type": "markdown",
   "id": "5c668ee3",
   "metadata": {},
   "source": [
    "## Circular Queue"
   ]
  },
  {
   "cell_type": "code",
   "execution_count": 18,
   "id": "1864be29",
   "metadata": {},
   "outputs": [],
   "source": [
    "class circular_queue():\n",
    "    def __init__(self,k):\n",
    "        self.k = k\n",
    "        self.queue = [None]*k\n",
    "        self.head = self.tail = -1\n",
    "    \n",
    "    def enqueue(self,data):\n",
    "#         print(self.head,self.tail)\n",
    "#         print()\n",
    "        if ((self.tail + 1)% self.k == self.head):\n",
    "            print('Circular queue is Full\\n')\n",
    "        elif (self.head== -1):\n",
    "            self.head = 0\n",
    "            self.tail = 0\n",
    "            self.queue[self.tail] = data\n",
    "        else:\n",
    "            self.tail = (self.tail +1)% self.k\n",
    "            self.queue[self.tail] = data\n",
    "    def dequeue(self):\n",
    "        if (self.head == self.tail):\n",
    "            temp = self.queue[self.head]\n",
    "            self.head = -1\n",
    "            self.tail = -1\n",
    "            return temp\n",
    "        else:\n",
    "            temp = self.queue[self.head]\n",
    "            self.head = (self.head + 1)% self.k\n",
    "            return temp\n",
    "    def printQueue(self):\n",
    "        if(self.head == -1):\n",
    "            print('No elements in the cirular Queue is found')\n",
    "        elif (self.tail>= self.head): \n",
    "            for i in range(self.head,self.tail + 1):\n",
    "                print(self.queue[i],end=\" \")\n",
    "            print()\n",
    "        else:\n",
    "            for i in range(self.head,self.k):\n",
    "                print(self.queue[i],end =\" \")\n",
    "            for i in range(0,self.tail + 1):\n",
    "                print(self.queue[i],end =\" \")\n",
    "            print()\n",
    "            \n",
    "            "
   ]
  },
  {
   "cell_type": "code",
   "execution_count": 19,
   "id": "381a7e43",
   "metadata": {},
   "outputs": [],
   "source": [
    "cq = circular_queue(5)"
   ]
  },
  {
   "cell_type": "code",
   "execution_count": 20,
   "id": "8a36b08f",
   "metadata": {},
   "outputs": [
    {
     "name": "stdout",
     "output_type": "stream",
     "text": [
      "Initial Queue values\n",
      "14 8 56 11 44 \n",
      "after deleting value\n",
      "8 56 11 44 \n"
     ]
    }
   ],
   "source": [
    "cq.enqueue(14)\n",
    "cq.enqueue(8)\n",
    "cq.enqueue(56)\n",
    "cq.enqueue(11)\n",
    "cq.enqueue(44)\n",
    "print(\"Initial Queue values\")\n",
    "cq.printQueue()\n",
    "cq.dequeue()\n",
    "print(\"after deleting value\")\n",
    "cq.printQueue()"
   ]
  },
  {
   "cell_type": "markdown",
   "id": "e20489f7",
   "metadata": {},
   "source": [
    "# Linked List"
   ]
  },
  {
   "cell_type": "markdown",
   "id": "cc2a0e44",
   "metadata": {},
   "source": [
    "## Singly Linked List"
   ]
  },
  {
   "cell_type": "code",
   "execution_count": 36,
   "id": "f9778f58",
   "metadata": {},
   "outputs": [],
   "source": [
    "class Node:\n",
    "    def __init__(self,data):\n",
    "        self.data = data\n",
    "        self.next = None\n",
    "class SinglyLinkedList:\n",
    "    def __init__(self):\n",
    "        self.head = None\n",
    "    def traversal(self):\n",
    "        if self.head ==None:\n",
    "            print(\"Singly Linked List is empty \\n\")\n",
    "        else:\n",
    "            temp = self.head\n",
    "            while temp is not None:\n",
    "                print(temp.data,end=\" \")\n",
    "                temp = temp.next\n",
    "    def insert_begin(self,data):\n",
    "        print()\n",
    "        node_begin = Node(data)\n",
    "        node_begin.next = self.head\n",
    "        self.head = node_begin\n",
    "    def insert_end(self,data):\n",
    "        print()\n",
    "        node_end = Node(data)\n",
    "        temp = self.head\n",
    "        while temp.next is not None:\n",
    "            temp = temp.next\n",
    "        temp.next = node_end\n",
    "    def insert_at_position(self,position,data):\n",
    "        print()\n",
    "        node_at_pos = Node(data)\n",
    "        temp = self.head\n",
    "        for i in range(1,position-1):\n",
    "            temp = temp.next\n",
    "        node_at_pos.next = temp.next\n",
    "        temp.next = node_at_pos\n",
    "    def deletion_begin(self):\n",
    "        print()\n",
    "        temp = self.head\n",
    "        self.head = temp.next\n",
    "        temp.head= None\n",
    "    def deletion_end(self):\n",
    "        print()\n",
    "        prev = self.head\n",
    "        temp = prev.next\n",
    "        while temp.next is not None:\n",
    "            temp= temp.next\n",
    "            prev = prev.next\n",
    "        prev.next = None\n",
    "    def deletion_at_position(self,position):\n",
    "        print()\n",
    "        prev = self.head\n",
    "        temp = prev.next\n",
    "        for i in range(1,position-1):\n",
    "            temp = temp.next\n",
    "            prev= prev.next\n",
    "        prev.next = temp.next\n",
    "        temp.next = None\n",
    "        \n",
    "        \n"
   ]
  },
  {
   "cell_type": "code",
   "execution_count": 41,
   "id": "591329b9",
   "metadata": {},
   "outputs": [
    {
     "name": "stdout",
     "output_type": "stream",
     "text": [
      "45 55 58 14 "
     ]
    }
   ],
   "source": [
    "sll = SinglyLinkedList()\n",
    "n1 = Node(45)\n",
    "sll.head = n1\n",
    "n2 = Node(55)\n",
    "n1.next = n2\n",
    "n3 = Node(58)\n",
    "n2.next = n3\n",
    "n4 = Node(14)\n",
    "n3.next = n4\n",
    "\n",
    "\n",
    "sll.traversal()\n",
    "\n"
   ]
  },
  {
   "cell_type": "code",
   "execution_count": 42,
   "id": "a5a77850",
   "metadata": {},
   "outputs": [
    {
     "name": "stdout",
     "output_type": "stream",
     "text": [
      "\n",
      "25 45 55 58 14 "
     ]
    }
   ],
   "source": [
    "# insertion at begining of linked list\n",
    "sll.insert_begin(25)\n",
    "sll.traversal()"
   ]
  },
  {
   "cell_type": "code",
   "execution_count": 43,
   "id": "bfd805b5",
   "metadata": {},
   "outputs": [
    {
     "name": "stdout",
     "output_type": "stream",
     "text": [
      "\n",
      "25 45 55 58 14 15 "
     ]
    }
   ],
   "source": [
    "# inserting at end of linked list\n",
    "sll.insert_end(15)\n",
    "sll.traversal()"
   ]
  },
  {
   "cell_type": "code",
   "execution_count": 44,
   "id": "6effe548",
   "metadata": {},
   "outputs": [
    {
     "name": "stdout",
     "output_type": "stream",
     "text": [
      "\n",
      "25 45 15 55 58 14 15 "
     ]
    }
   ],
   "source": [
    "# inserting at specified node\n",
    "sll.insert_at_position(3,15)\n",
    "sll.traversal()"
   ]
  },
  {
   "cell_type": "code",
   "execution_count": 45,
   "id": "85a91af5",
   "metadata": {},
   "outputs": [
    {
     "name": "stdout",
     "output_type": "stream",
     "text": [
      "\n",
      "45 15 55 58 14 15 "
     ]
    }
   ],
   "source": [
    "# deletion at beginning of linked list\n",
    "sll.deletion_begin()\n",
    "sll.traversal()"
   ]
  },
  {
   "cell_type": "code",
   "execution_count": 46,
   "id": "148d39fd",
   "metadata": {},
   "outputs": [
    {
     "name": "stdout",
     "output_type": "stream",
     "text": [
      "\n",
      "45 15 55 58 14 "
     ]
    }
   ],
   "source": [
    "# deletion at end of linked list\n",
    "sll.deletion_end()\n",
    "sll.traversal()"
   ]
  },
  {
   "cell_type": "code",
   "execution_count": 47,
   "id": "dd763f82",
   "metadata": {},
   "outputs": [
    {
     "name": "stdout",
     "output_type": "stream",
     "text": [
      "\n",
      "45 15 58 14 "
     ]
    }
   ],
   "source": [
    "# deletion at specified node\n",
    "sll.deletion_at_position(3)\n",
    "sll.traversal()"
   ]
  },
  {
   "cell_type": "markdown",
   "id": "af89a109",
   "metadata": {},
   "source": [
    "## Doubly Linked List"
   ]
  },
  {
   "cell_type": "code",
   "execution_count": 151,
   "id": "f5a85761",
   "metadata": {},
   "outputs": [],
   "source": [
    "class Node:\n",
    "    def __init__(self,data):\n",
    "        self.data = data\n",
    "        self.next = None\n",
    "        self.prev = None\n",
    "class DoublyLinkedList:\n",
    "    def __init__(self):\n",
    "        self.head = None\n",
    "    def forward_traversal(self):\n",
    "        if self.head ==None:\n",
    "            print(\"Doubly Linked List is empty \\n\")\n",
    "        else:\n",
    "            temp = self.head\n",
    "            while temp is not None:\n",
    "                print(temp.data,end=\" \")\n",
    "                temp = temp.next\n",
    "                \n",
    "    def backward_traversal(self):\n",
    "        print()\n",
    "        if self.head ==None:\n",
    "            print(\"Doubly Linked List is empty \\n\")\n",
    "        else:\n",
    "            temp = self.head\n",
    "            while temp.next is not None:\n",
    "                temp = temp.next\n",
    "            while temp is not None:\n",
    "                print(temp.data,end=\" \")\n",
    "                temp = temp.prev\n",
    "    def insertion_begin(self,data):\n",
    "        print()\n",
    "        node_begin = Node(data)\n",
    "        temp = self.head\n",
    "        temp.prev = node_begin\n",
    "        node_begin.next = temp\n",
    "        self.head = node_begin\n",
    "    def insertion_end(self,data):\n",
    "        print()\n",
    "        node_end = Node(data)\n",
    "        temp = self.head\n",
    "        while temp.next is not None:\n",
    "            temp = temp.next\n",
    "        temp.next = node_end\n",
    "        node_end.prev = temp\n",
    "    def insertion_at_pos(self,position,data):\n",
    "        print()\n",
    "        node_at_pos = Node(data)\n",
    "        temp = self.head\n",
    "        for i in range(1,position-1):\n",
    "            temp = temp.next\n",
    "        node_at_pos.prev = temp\n",
    "        node_at_pos.next = temp.next\n",
    "        temp.next.prev = node_at_pos\n",
    "        temp.next =node_at_pos\n",
    "    def deletion_begin(self):\n",
    "        print()\n",
    "        temp = self.head\n",
    "        self.head = temp.next\n",
    "        temp.next = None\n",
    "        self.head.prev =None\n",
    "    def deletion_end(self):\n",
    "        print()\n",
    "        prev = self.head\n",
    "        temp = self.head.next\n",
    "        while temp.next is not None:\n",
    "            temp = temp.next\n",
    "            prev = prev.next\n",
    "        prev.next =None\n",
    "        temp.prev = None\n",
    "    def deletion_at_pos(self,position):\n",
    "        print()\n",
    "        temp = self.head.next\n",
    "        before = self.head\n",
    "        for i in range(1,position-1):\n",
    "            temp = temp.next\n",
    "            before = before.next\n",
    "        before.next= temp.next\n",
    "        temp.next.prev = before\n",
    "        temp.next =None\n",
    "        temp.prev =None\n",
    "        \n",
    "            \n",
    "        \n",
    "        \n",
    "        \n",
    "    "
   ]
  },
  {
   "cell_type": "code",
   "execution_count": 152,
   "id": "e9ef256d",
   "metadata": {},
   "outputs": [
    {
     "name": "stdout",
     "output_type": "stream",
     "text": [
      "15 25 18 64 \n",
      "64 18 25 15 "
     ]
    }
   ],
   "source": [
    "dll = DoublyLinkedList()\n",
    "n1 = Node(15)\n",
    "dll.head = n1\n",
    "n2 = Node(25)\n",
    "n2.prev = n1\n",
    "n1.next = n2\n",
    "n3 = Node(18)\n",
    "n3.prev = n2\n",
    "n2.next = n3\n",
    "n4 = Node(64)\n",
    "n4.prev = n3\n",
    "n3.next = n4\n",
    "\n",
    "\n",
    "dll.forward_traversal()\n",
    "dll.backward_traversal()"
   ]
  },
  {
   "cell_type": "code",
   "execution_count": 153,
   "id": "df4d3cef",
   "metadata": {},
   "outputs": [
    {
     "name": "stdout",
     "output_type": "stream",
     "text": [
      "\n",
      "58 15 25 18 64 \n",
      "64 18 25 15 58 "
     ]
    }
   ],
   "source": [
    "#insertion in doubly linked list\n",
    "dll.insertion_begin(58)\n",
    "dll.forward_traversal()\n",
    "dll.backward_traversal()"
   ]
  },
  {
   "cell_type": "code",
   "execution_count": 154,
   "id": "8860122e",
   "metadata": {},
   "outputs": [
    {
     "name": "stdout",
     "output_type": "stream",
     "text": [
      "\n",
      "58 15 25 18 64 49 \n",
      "49 64 18 25 15 58 "
     ]
    }
   ],
   "source": [
    "# insertion at end\n",
    "dll.insertion_end(49)\n",
    "dll.forward_traversal()\n",
    "dll.backward_traversal()"
   ]
  },
  {
   "cell_type": "code",
   "execution_count": 155,
   "id": "6f7cbd58",
   "metadata": {},
   "outputs": [
    {
     "name": "stdout",
     "output_type": "stream",
     "text": [
      "\n",
      "58 15 71 25 18 64 49 \n",
      "49 64 18 25 71 15 58 "
     ]
    }
   ],
   "source": [
    "# insertion at specific position\n",
    "dll.insertion_at_pos(3,71)\n",
    "dll.forward_traversal()\n",
    "dll.backward_traversal()"
   ]
  },
  {
   "cell_type": "code",
   "execution_count": 156,
   "id": "0cbfa2bb",
   "metadata": {},
   "outputs": [
    {
     "name": "stdout",
     "output_type": "stream",
     "text": [
      "\n",
      "15 71 25 18 64 49 "
     ]
    }
   ],
   "source": [
    "# deletion in doubly linkedlist\n",
    "dll.deletion_begin()\n",
    "dll.forward_traversal()"
   ]
  },
  {
   "cell_type": "code",
   "execution_count": 157,
   "id": "2534ce76",
   "metadata": {},
   "outputs": [
    {
     "name": "stdout",
     "output_type": "stream",
     "text": [
      "\n",
      "15 71 25 18 64 "
     ]
    }
   ],
   "source": [
    "# deletion at end in doubly linkedlist\n",
    "dll.deletion_end()\n",
    "dll.forward_traversal()"
   ]
  },
  {
   "cell_type": "code",
   "execution_count": 158,
   "id": "1f34eb74",
   "metadata": {},
   "outputs": [
    {
     "name": "stdout",
     "output_type": "stream",
     "text": [
      "\n",
      "15 71 25 64 "
     ]
    }
   ],
   "source": [
    "dll.deletion_at_pos(4)\n",
    "dll.forward_traversal()"
   ]
  },
  {
   "cell_type": "markdown",
   "id": "a16818e0",
   "metadata": {},
   "source": [
    "# Tree"
   ]
  },
  {
   "cell_type": "markdown",
   "id": "18521387",
   "metadata": {},
   "source": [
    "## Binary Tree"
   ]
  },
  {
   "cell_type": "code",
   "execution_count": 2,
   "id": "dac6fd2c",
   "metadata": {},
   "outputs": [],
   "source": [
    "class Node:\n",
    "    def __init__(self,key):\n",
    "        self.val = key\n",
    "        self.left = None\n",
    "        self.right = None\n",
    "\n",
    "    def traPreOrder(self):\n",
    "        print(self.val,end = \" \")\n",
    "        if self.left:\n",
    "            self.left.traPreOrder()\n",
    "        if self.right:\n",
    "            self.right.traPreOrder()\n",
    "    def traInOrder(self):\n",
    "        if self.left:\n",
    "            self.left.traInOrder()\n",
    "        print(self.val, end=\" \")\n",
    "        if self.right:\n",
    "            self.right.traInOrder()\n",
    "    def traPostOrder(self):\n",
    "        if self.left:\n",
    "            self.left.traPostOrder()\n",
    "        if self.right:\n",
    "            self.right.traPostOrder()\n",
    "        print(self.val,end=' ')                                                                                "
   ]
  },
  {
   "cell_type": "code",
   "execution_count": 3,
   "id": "465cf9e2",
   "metadata": {},
   "outputs": [],
   "source": [
    "\n",
    "# root = Node(1)\n",
    "# root.left = Node(2)               \n",
    "# root.right = Node(3)\n",
    "# root.left.left = Node(4)\n",
    "\n",
    "        "
   ]
  },
  {
   "cell_type": "code",
   "execution_count": 4,
   "id": "6cf46a2c",
   "metadata": {},
   "outputs": [
    {
     "name": "stdout",
     "output_type": "stream",
     "text": [
      "1 2 4 3 "
     ]
    }
   ],
   "source": [
    "# per order traversal\n",
    "root.traPreOrder()"
   ]
  },
  {
   "cell_type": "code",
   "execution_count": 5,
   "id": "c6af7e43",
   "metadata": {},
   "outputs": [
    {
     "name": "stdout",
     "output_type": "stream",
     "text": [
      "4 2 1 3 "
     ]
    }
   ],
   "source": [
    "# InOrder traversal\n",
    "root.traInOrder()"
   ]
  },
  {
   "cell_type": "code",
   "execution_count": 6,
   "id": "7dfc76df",
   "metadata": {},
   "outputs": [
    {
     "name": "stdout",
     "output_type": "stream",
     "text": [
      "4 2 3 1 "
     ]
    }
   ],
   "source": [
    "# PostOrder Traversal\n",
    "root.traPostOrder()"
   ]
  },
  {
   "cell_type": "markdown",
   "id": "195454c8",
   "metadata": {},
   "source": [
    "## Binary Search Tree"
   ]
  },
  {
   "cell_type": "code",
   "execution_count": 1,
   "id": "b325ff8a",
   "metadata": {},
   "outputs": [],
   "source": [
    "class Node:\n",
    "    def __init__(self,key):\n",
    "        self.key = key\n",
    "        self.left = None\n",
    "        self.right = None\n",
    "        \n",
    "def inorder(root):\n",
    "    if root is not None:\n",
    "        inorder(root.left)\n",
    "        print(str(root.key) + \"->\",end=' ')\n",
    "        inorder(root.right)\n",
    "    \n",
    "def insert(node,key):\n",
    "    if node is None:\n",
    "        return Node(key)\n",
    "    if key < node.key:\n",
    "        node.left = insert(node.left, key)\n",
    "    else:\n",
    "        node.right = insert(node.right,key)\n",
    "    return node\n",
    "\n",
    "def minValueNode(node): # find the inorder successor defined\n",
    "    current = node\n",
    "    while current.left is not None:\n",
    "        current = current.left \n",
    "    return current\n",
    "\n",
    "def deleteNode(root,key):\n",
    "    # find the node to be deleted\n",
    "    if root is None: \n",
    "        return root\n",
    "    if key < root.key:\n",
    "        root.left = deleteNode(root.left,key)\n",
    "    elif key > root.key:\n",
    "        root.right = deleteNode(root.right,key)\n",
    "        # if the node is with only one child or no child\n",
    "        if root.left is None:\n",
    "            temp = root.right\n",
    "            root = None\n",
    "            return temp\n",
    "        elif root.right is None:\n",
    "            temp = root.left\n",
    "            root = None\n",
    "            return temp\n",
    "        \n",
    "        # if the node has two children.\n",
    "        # place the inorder successor in position of the node to be deleted\n",
    "        temp = minValueNode(root.right)\n",
    "        root.key = temp.key\n",
    "        \n",
    "        # delete the inorder successor \n",
    "        root.right = deleteNode(root.right,temp.key)\n",
    "    return root"
   ]
  },
  {
   "cell_type": "code",
   "execution_count": 2,
   "id": "503dce94",
   "metadata": {},
   "outputs": [],
   "source": [
    "root = None\n",
    "root = insert(root,9)\n",
    "root = insert(root,4)\n",
    "root = insert(root,2)\n",
    "root = insert(root,7)\n",
    "root = insert(root,8)\n",
    "root = insert(root,11)\n",
    "root = insert(root,15)\n",
    "root = insert(root,8)"
   ]
  },
  {
   "cell_type": "code",
   "execution_count": 3,
   "id": "cf2622f2",
   "metadata": {},
   "outputs": [
    {
     "name": "stdout",
     "output_type": "stream",
     "text": [
      "2-> 4-> 7-> 8-> 8-> 9-> 11-> 15-> "
     ]
    }
   ],
   "source": [
    "inorder(root)"
   ]
  },
  {
   "cell_type": "code",
   "execution_count": 4,
   "id": "62b4419a",
   "metadata": {},
   "outputs": [],
   "source": [
    "root = deleteNode(root,11)"
   ]
  },
  {
   "cell_type": "code",
   "execution_count": 47,
   "id": "67845a21",
   "metadata": {},
   "outputs": [
    {
     "name": "stdout",
     "output_type": "stream",
     "text": [
      "2-> 4-> 7-> 8-> 8-> 11-> 11-> 15-> "
     ]
    }
   ],
   "source": [
    "inorder(root)"
   ]
  },
  {
   "cell_type": "markdown",
   "id": "c03e6470",
   "metadata": {},
   "source": [
    "# Graphs"
   ]
  },
  {
   "cell_type": "code",
   "execution_count": 15,
   "id": "c522c0b0",
   "metadata": {},
   "outputs": [],
   "source": [
    "class Graph:\n",
    "    def __init__(self,edges):\n",
    "        self.edges = edges\n",
    "        self.graph_dict = {}\n",
    "        for start, end in self.edges:\n",
    "            if start in self.graph_dict:\n",
    "                self.graph_dict[start].append(end)\n",
    "            else:\n",
    "                self.graph_dict[start] = [end]\n",
    "        print(self.graph_dict)\n",
    "            \n",
    "    def get_paths(self,start,end, path = []):\n",
    "        path = path + [start]\n",
    "        \n",
    "        if start == end:\n",
    "            return [path]\n",
    "        if start not in self.graph_dict:\n",
    "            return []\n",
    "        paths = []\n",
    "        for node in self.graph_dict[start]:\n",
    "            if node not in path:\n",
    "                new_paths = self.get_paths(node,end,path)\n",
    "                for p in new_paths:\n",
    "                    paths.append(p)\n",
    "        return paths\n",
    "    \n",
    "    def get_shortest_path(self,start,end,path=[]):\n",
    "        path = path + [start]\n",
    "        \n",
    "        if start == end:\n",
    "            return path\n",
    "        if start not in self.graph_dict:\n",
    "            return None\n",
    "        shortest_path = None\n",
    "        for node in self.graph_dict[start]:\n",
    "            if node not in path:\n",
    "                sp = self.get_shortest_path(node,end,path)\n",
    "                if sp:\n",
    "                    if shortest_path is None or len(sp) < len(shortest_path):\n",
    "                        shortest_path = sp\n",
    "        \n",
    "        return shortest_path\n",
    "        "
   ]
  },
  {
   "cell_type": "code",
   "execution_count": 16,
   "id": "6bc316f2",
   "metadata": {},
   "outputs": [],
   "source": [
    "routes = [\n",
    "    ('mumbai','paris'),\n",
    "    ('mumbai','dubai'),\n",
    "    ('paris','dubai'),\n",
    "    ('paris','new york'),\n",
    "    ('dubai','new york'),\n",
    "    ('new york','toronto'),\n",
    "]"
   ]
  },
  {
   "cell_type": "code",
   "execution_count": 17,
   "id": "a316e226",
   "metadata": {},
   "outputs": [
    {
     "name": "stdout",
     "output_type": "stream",
     "text": [
      "{'mumbai': ['paris', 'dubai'], 'paris': ['dubai', 'new york'], 'dubai': ['new york'], 'new york': ['toronto']}\n"
     ]
    }
   ],
   "source": [
    "route_graph = Graph(routes)"
   ]
  },
  {
   "cell_type": "code",
   "execution_count": 18,
   "id": "3d428026",
   "metadata": {},
   "outputs": [
    {
     "data": {
      "text/plain": [
       "[['mumbai', 'paris', 'dubai', 'new york'],\n",
       " ['mumbai', 'paris', 'new york'],\n",
       " ['mumbai', 'dubai', 'new york']]"
      ]
     },
     "execution_count": 18,
     "metadata": {},
     "output_type": "execute_result"
    }
   ],
   "source": [
    "route_graph.get_paths('mumbai','new york')"
   ]
  },
  {
   "cell_type": "code",
   "execution_count": 19,
   "id": "e7a631ca",
   "metadata": {},
   "outputs": [
    {
     "data": {
      "text/plain": [
       "['mumbai', 'paris', 'new york']"
      ]
     },
     "execution_count": 19,
     "metadata": {},
     "output_type": "execute_result"
    }
   ],
   "source": [
    "route_graph.get_shortest_path('mumbai','new york')"
   ]
  },
  {
   "cell_type": "markdown",
   "id": "39201fe8",
   "metadata": {},
   "source": [
    "## BSF "
   ]
  },
  {
   "cell_type": "code",
   "execution_count": 20,
   "id": "f2d834ec",
   "metadata": {},
   "outputs": [],
   "source": [
    "import collections\n",
    "def bsf(graph,root):\n",
    "    visited, queue = set(), collections.deque([root])\n",
    "    visited.add(root)\n",
    "    \n",
    "    while queue:\n",
    "        #deque a vertex from queue\n",
    "        vertex = queue.popleft()\n",
    "        print(str(vertex)+ \" \", end=\"\")\n",
    "        # If not visited, mark it as visited, and enqueue it\n",
    "        for neighbour in graph[vertex]:\n",
    "            if neighbour not in visited:\n",
    "                visited.add(neighbour)\n",
    "                queue.append(neighbour)\n",
    "\n",
    "                \n",
    "        "
   ]
  },
  {
   "cell_type": "code",
   "execution_count": 21,
   "id": "10b97335",
   "metadata": {},
   "outputs": [
    {
     "name": "stdout",
     "output_type": "stream",
     "text": [
      "0 1 2 3 "
     ]
    }
   ],
   "source": [
    "graph = {0:[1,2],1:[2],2:[3],3:[1,2]}\n",
    "bsf(graph,0)"
   ]
  },
  {
   "cell_type": "markdown",
   "id": "207ce8d6",
   "metadata": {},
   "source": [
    "## DFS"
   ]
  },
  {
   "cell_type": "code",
   "execution_count": 4,
   "id": "52a8061b",
   "metadata": {},
   "outputs": [],
   "source": [
    "def dfs(graph,start,visited = None):\n",
    "    if visited is None:\n",
    "        visited = set()\n",
    "    visited.add(start)\n",
    "    print(start)\n",
    "    for next in graph[start] - visited:\n",
    "        dfs(graph,next,visited)\n",
    "    return visited"
   ]
  },
  {
   "cell_type": "code",
   "execution_count": 5,
   "id": "6d5a8283",
   "metadata": {},
   "outputs": [],
   "source": [
    "graph = {\n",
    "    '0': set(['1','2']),\n",
    "    '1': set(['0','3','4']),\n",
    "    '2': set(['0']),\n",
    "    '3': set(['1']),\n",
    "    '4': set(['2','3'])\n",
    "}"
   ]
  },
  {
   "cell_type": "code",
   "execution_count": 6,
   "id": "a6efaff5",
   "metadata": {},
   "outputs": [
    {
     "name": "stdout",
     "output_type": "stream",
     "text": [
      "0\n",
      "1\n",
      "4\n",
      "3\n",
      "2\n",
      "3\n",
      "2\n"
     ]
    },
    {
     "data": {
      "text/plain": [
       "{'0', '1', '2', '3', '4'}"
      ]
     },
     "execution_count": 6,
     "metadata": {},
     "output_type": "execute_result"
    }
   ],
   "source": [
    "dfs(graph,'0')"
   ]
  },
  {
   "cell_type": "markdown",
   "id": "448a0065",
   "metadata": {},
   "source": [
    "# Hash Tables"
   ]
  },
  {
   "cell_type": "code",
   "execution_count": 8,
   "id": "38fd175a",
   "metadata": {},
   "outputs": [
    {
     "name": "stdout",
     "output_type": "stream",
     "text": [
      "The hash value for 4 is 4\n",
      "The hash value for 4 is 3\n",
      "The hash value for 4 is 2\n",
      "The hash value for 4 is 4\n",
      "The hash value for 4 is 0\n"
     ]
    }
   ],
   "source": [
    "def hash_key(key,m):\n",
    "        return key % m\n",
    "m = 8\n",
    "print(f\"The hash value for 4 is {hash_key(4,m)}\")\n",
    "print(f\"The hash value for 4 is {hash_key(3,m)}\")\n",
    "print(f\"The hash value for 4 is {hash_key(10,m)}\")\n",
    "print(f\"The hash value for 4 is {hash_key(12,m)}\")\n",
    "print(f\"The hash value for 4 is {hash_key(8,m)}\")\n"
   ]
  },
  {
   "attachments": {
    "image.png": {
     "image/png": "[encoded data removed]"
    }
   },
   "cell_type": "markdown",
   "id": "83fcf235",
   "metadata": {},
   "source": [
    "# Algorithms\n",
    "\n",
    "![image.png](attachment:image.png)"
   ]
  },
  {
   "cell_type": "markdown",
   "id": "4024e08c",
   "metadata": {},
   "source": [
    "## Linear Search\n",
    "T.C = O(n)\n",
    "S.C = O(1)"
   ]
  },
  {
   "cell_type": "code",
   "execution_count": 14,
   "id": "1e9a93b7",
   "metadata": {},
   "outputs": [],
   "source": [
    "def linear_search(list,element):\n",
    "    for index,item in enumerate(list):\n",
    "        if item == element:\n",
    "            return index\n",
    "        \n",
    "    \n",
    "    return 'Element Not found'\n"
   ]
  },
  {
   "cell_type": "code",
   "execution_count": 15,
   "id": "28b90a46",
   "metadata": {},
   "outputs": [],
   "source": [
    "a = [2,4,46,7,343,2345,233,33,3,98,64,6,34]"
   ]
  },
  {
   "cell_type": "code",
   "execution_count": 17,
   "id": "c981f940",
   "metadata": {},
   "outputs": [
    {
     "data": {
      "text/plain": [
       "3"
      ]
     },
     "execution_count": 17,
     "metadata": {},
     "output_type": "execute_result"
    }
   ],
   "source": [
    "linear_search(a,7)"
   ]
  },
  {
   "cell_type": "markdown",
   "id": "83c28b9d",
   "metadata": {},
   "source": [
    "## Binary Search\n",
    "T.C = (logn) S.C = O(1)"
   ]
  },
  {
   "cell_type": "markdown",
   "id": "2719012b",
   "metadata": {},
   "source": [
    "### Interative Approach"
   ]
  },
  {
   "cell_type": "code",
   "execution_count": 45,
   "id": "7a3f0123",
   "metadata": {},
   "outputs": [],
   "source": [
    "def binary_search(array,element,low,high):\n",
    "    while low <=high:\n",
    "        mid = low + (high - low) //2\n",
    "        if array[mid] == element:\n",
    "            return mid\n",
    "        elif array[mid]< element:\n",
    "            low = mid + 1\n",
    "        else:\n",
    "            high = mid -1\n",
    "    return 'Element not Found'\n",
    "        "
   ]
  },
  {
   "cell_type": "code",
   "execution_count": 48,
   "id": "083af65f",
   "metadata": {},
   "outputs": [],
   "source": [
    "a = [1,2,3,45,48,56,59,64,68,71,78,79,89,99,104,189]\n",
    "elem = 481\n",
    "low = 0\n",
    "high = len(a)-1"
   ]
  },
  {
   "cell_type": "code",
   "execution_count": 49,
   "id": "52fa22e9",
   "metadata": {},
   "outputs": [
    {
     "data": {
      "text/plain": [
       "'Element not Found'"
      ]
     },
     "execution_count": 49,
     "metadata": {},
     "output_type": "execute_result"
    }
   ],
   "source": [
    "binary_search(a,elem,low,high)"
   ]
  },
  {
   "cell_type": "markdown",
   "id": "2380e443",
   "metadata": {},
   "source": [
    "## Insertion Sort\n",
    "T.C = O(n^2) S.C = O(1)"
   ]
  },
  {
   "cell_type": "code",
   "execution_count": 4,
   "id": "34f7cbdc",
   "metadata": {},
   "outputs": [],
   "source": [
    "def insertion_sort(array):\n",
    "    for step in range(1,len(array)):\n",
    "        key = array[step]\n",
    "        j = step -1\n",
    "        while j>=0 and key < array[j]:\n",
    "            array[j+1] = array[j]\n",
    "            j = j -1 \n",
    "        array[j+1] = key\n",
    "    return array\n",
    "\n",
    "        "
   ]
  },
  {
   "cell_type": "code",
   "execution_count": 5,
   "id": "09966d19",
   "metadata": {},
   "outputs": [],
   "source": [
    "ar = [5,2,1,7,8]\n"
   ]
  },
  {
   "cell_type": "code",
   "execution_count": 6,
   "id": "5806b1a0",
   "metadata": {},
   "outputs": [
    {
     "data": {
      "text/plain": [
       "[1, 2, 5, 7, 8]"
      ]
     },
     "execution_count": 6,
     "metadata": {},
     "output_type": "execute_result"
    }
   ],
   "source": [
    "insertion_sort(ar)"
   ]
  },
  {
   "cell_type": "markdown",
   "id": "5b2a62da",
   "metadata": {},
   "source": [
    "## Selection Sort\n",
    "T.C = O(n^2) S.C = O(1)"
   ]
  },
  {
   "cell_type": "code",
   "execution_count": 21,
   "id": "0e7c6893",
   "metadata": {},
   "outputs": [],
   "source": [
    "def selection_sort(array):\n",
    "    size = len(array)\n",
    "    for i in range(size-1):\n",
    "        min_index = i\n",
    "        for j in range(min_index+1,size):\n",
    "            if array[j] < array[min_index]:\n",
    "                min_index = j\n",
    "        if i != min_index:\n",
    "            array[i],array[min_index] = array[min_index] , array[i]\n",
    "    return array"
   ]
  },
  {
   "cell_type": "code",
   "execution_count": 22,
   "id": "f34f4452",
   "metadata": {},
   "outputs": [
    {
     "data": {
      "text/plain": [
       "[1, 2, 5, 7, 8]"
      ]
     },
     "execution_count": 22,
     "metadata": {},
     "output_type": "execute_result"
    }
   ],
   "source": [
    "selection_sort(ar)"
   ]
  },
  {
   "cell_type": "markdown",
   "id": "dc94e45e",
   "metadata": {},
   "source": [
    "## Quick Sort\n",
    "T.C= O(n^2) S.C = O(n)"
   ]
  },
  {
   "cell_type": "code",
   "execution_count": 7,
   "id": "e2c651a1",
   "metadata": {},
   "outputs": [],
   "source": [
    "def quicksort(array):\n",
    "    if len(array)<=1:\n",
    "        return array\n",
    "    else:\n",
    "        pivot = array.pop()\n",
    "    \n",
    "    greater = []\n",
    "    smaller = []\n",
    "    \n",
    "    for i in array:\n",
    "        if i > pivot:\n",
    "            greater.append(i)\n",
    "        else:\n",
    "            smaller.append(i)\n",
    "        print(smaller,\" \",pivot,\" \",greater)\n",
    "    return quicksort(smaller) + [pivot] + quicksort(greater)"
   ]
  },
  {
   "cell_type": "code",
   "execution_count": 8,
   "id": "d146e100",
   "metadata": {},
   "outputs": [
    {
     "name": "stdout",
     "output_type": "stream",
     "text": [
      "[]   67   [4984]\n",
      "[6]   67   [4984]\n",
      "[6, 1]   67   [4984]\n",
      "[6, 1]   67   [4984, 161]\n",
      "[6, 1]   67   [4984, 161, 84]\n",
      "[6, 1]   67   [4984, 161, 84, 94]\n",
      "[6, 1, 48]   67   [4984, 161, 84, 94]\n",
      "[6, 1, 48, 19]   67   [4984, 161, 84, 94]\n",
      "[6, 1, 48, 19, 4]   67   [4984, 161, 84, 94]\n",
      "[6, 1, 48, 19, 4]   67   [4984, 161, 84, 94, 485]\n",
      "[6, 1, 48, 19, 4, 2]   67   [4984, 161, 84, 94, 485]\n",
      "[6, 1, 48, 19, 4, 2, 4]   67   [4984, 161, 84, 94, 485]\n",
      "[6, 1, 48, 19, 4, 2, 4]   67   [4984, 161, 84, 94, 485, 966]\n",
      "[6, 1, 48, 19, 4, 2, 4, 0]   67   [4984, 161, 84, 94, 485, 966]\n",
      "[6, 1, 48, 19, 4, 2, 4, 0]   67   [4984, 161, 84, 94, 485, 966, 564]\n",
      "[6, 1, 48, 19, 4, 2, 4, 0, 54]   67   [4984, 161, 84, 94, 485, 966, 564]\n",
      "[6, 1, 48, 19, 4, 2, 4, 0, 54, 64]   67   [4984, 161, 84, 94, 485, 966, 564]\n",
      "[6]   64   []\n",
      "[6, 1]   64   []\n",
      "[6, 1, 48]   64   []\n",
      "[6, 1, 48, 19]   64   []\n",
      "[6, 1, 48, 19, 4]   64   []\n",
      "[6, 1, 48, 19, 4, 2]   64   []\n",
      "[6, 1, 48, 19, 4, 2, 4]   64   []\n",
      "[6, 1, 48, 19, 4, 2, 4, 0]   64   []\n",
      "[6, 1, 48, 19, 4, 2, 4, 0, 54]   64   []\n",
      "[6]   54   []\n",
      "[6, 1]   54   []\n",
      "[6, 1, 48]   54   []\n",
      "[6, 1, 48, 19]   54   []\n",
      "[6, 1, 48, 19, 4]   54   []\n",
      "[6, 1, 48, 19, 4, 2]   54   []\n",
      "[6, 1, 48, 19, 4, 2, 4]   54   []\n",
      "[6, 1, 48, 19, 4, 2, 4, 0]   54   []\n",
      "[]   0   [6]\n",
      "[]   0   [6, 1]\n",
      "[]   0   [6, 1, 48]\n",
      "[]   0   [6, 1, 48, 19]\n",
      "[]   0   [6, 1, 48, 19, 4]\n",
      "[]   0   [6, 1, 48, 19, 4, 2]\n",
      "[]   0   [6, 1, 48, 19, 4, 2, 4]\n",
      "[]   4   [6]\n",
      "[1]   4   [6]\n",
      "[1]   4   [6, 48]\n",
      "[1]   4   [6, 48, 19]\n",
      "[1, 4]   4   [6, 48, 19]\n",
      "[1, 4, 2]   4   [6, 48, 19]\n",
      "[1]   2   []\n",
      "[1]   2   [4]\n",
      "[6]   19   []\n",
      "[6]   19   [48]\n",
      "[]   564   [4984]\n",
      "[161]   564   [4984]\n",
      "[161, 84]   564   [4984]\n",
      "[161, 84, 94]   564   [4984]\n",
      "[161, 84, 94, 485]   564   [4984]\n",
      "[161, 84, 94, 485]   564   [4984, 966]\n",
      "[161]   485   []\n",
      "[161, 84]   485   []\n",
      "[161, 84, 94]   485   []\n",
      "[]   94   [161]\n",
      "[84]   94   [161]\n",
      "[]   966   [4984]\n"
     ]
    },
    {
     "data": {
      "text/plain": [
       "[0, 1, 2, 4, 4, 6, 19, 48, 54, 64, 67, 84, 94, 161, 485, 564, 966, 4984]"
      ]
     },
     "execution_count": 8,
     "metadata": {},
     "output_type": "execute_result"
    }
   ],
   "source": [
    "a = [4984,6,1,161,84,94,48,19,4,485,2,4,966,0,564,54,64,67]\n",
    "quicksort(a)"
   ]
  },
  {
   "cell_type": "markdown",
   "id": "d5e6bdca",
   "metadata": {},
   "source": [
    "## Merge Sort"
   ]
  },
  {
   "cell_type": "code",
   "execution_count": 32,
   "id": "e4449fba",
   "metadata": {},
   "outputs": [],
   "source": [
    "def merge_sort(array):\n",
    "    if len(array)<=1:\n",
    "        return\n",
    "    mid = len(array)//2\n",
    "    left = array[:mid]\n",
    "    right = array[mid:]\n",
    "    merge_sort(left)\n",
    "    merge_sort(right)\n",
    "    \n",
    "    merge_arrays(left,right,array)\n",
    "    \n",
    "    \n",
    "def merge_arrays(a,b,array):\n",
    "    sorted_list = []\n",
    "    len_a = len(a)\n",
    "    len_b = len(b)\n",
    "    i = j = k =0\n",
    "    while i < len_a and j < len_b:\n",
    "        if a[i] <= b[j]:\n",
    "            array[k] = a[i]\n",
    "            i+=1\n",
    "        else:\n",
    "            array[k] = b[j]\n",
    "            j+=1\n",
    "        k+=1\n",
    "    while i < len_a:\n",
    "        array[k] = a[i]\n",
    "        i+=1\n",
    "        k+=1\n",
    "    while j < len_b:\n",
    "        array[k] = b[j]\n",
    "        j+=1\n",
    "        k+=1\n",
    "   "
   ]
  },
  {
   "cell_type": "code",
   "execution_count": 33,
   "id": "37ec44b2",
   "metadata": {},
   "outputs": [],
   "source": [
    "a = [34,5,4,2,7,23,8,55]\n",
    "b = [48,99,151,45,62,48,47,34,5,4,2,7,23,8,55]"
   ]
  },
  {
   "cell_type": "code",
   "execution_count": 35,
   "id": "1d6467b4",
   "metadata": {},
   "outputs": [],
   "source": [
    "merge_sort(b)"
   ]
  },
  {
   "cell_type": "code",
   "execution_count": 36,
   "id": "824ee441",
   "metadata": {},
   "outputs": [
    {
     "data": {
      "text/plain": [
       "[2, 4, 5, 7, 8, 23, 34, 45, 47, 48, 48, 55, 62, 99, 151]"
      ]
     },
     "execution_count": 36,
     "metadata": {},
     "output_type": "execute_result"
    }
   ],
   "source": [
    "b"
   ]
  },
  {
   "cell_type": "code",
   "execution_count": null,
   "id": "66011a5d",
   "metadata": {},
   "outputs": [],
   "source": []
  },
  {
   "cell_type": "code",
   "execution_count": null,
   "id": "e283cf5c",
   "metadata": {},
   "outputs": [],
   "source": []
  }
 ],
 "metadata": {
  "kernelspec": {
   "display_name": "Python 3 (ipykernel)",
   "language": "python",
   "name": "python3"
  },
  "language_info": {
   "codemirror_mode": {
    "name": "ipython",
    "version": 3
   },
   "file_extension": ".py",
   "mimetype": "text/x-python",
   "name": "python",
   "nbconvert_exporter": "python",
   "pygments_lexer": "ipython3",
   "version": "3.7.0"
  }
 },
 "nbformat": 4,
 "nbformat_minor": 5
}
