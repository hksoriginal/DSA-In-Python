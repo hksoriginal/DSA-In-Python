{
 "cells": [
  {
   "cell_type": "markdown",
   "id": "5c258208",
   "metadata": {},
   "source": [
    "# Array"
   ]
  },
  {
   "cell_type": "markdown",
   "id": "88d34e63",
   "metadata": {},
   "source": [
    "## 1D Array"
   ]
  },
  {
   "cell_type": "code",
   "execution_count": 1,
   "id": "e6b577fa",
   "metadata": {},
   "outputs": [
    {
     "name": "stdout",
     "output_type": "stream",
     "text": [
      "Enter Array size: \n",
      "3\n",
      "Enter array elements: \n",
      "\n",
      "1\n",
      "2\n",
      "3\n",
      "Array elements are: \n",
      "\n",
      "123"
     ]
    }
   ],
   "source": [
    "print('Enter Array size: ')\n",
    "num = int(input())\n",
    "arr= []\n",
    "print('Enter array elements: \\n')\n",
    "for i in range(num):\n",
    "    inp = input()\n",
    "    arr.append(inp)\n",
    "print('Array elements are: \\n')\n",
    "for i in range(num):\n",
    "    print(arr[i],end=\"\")"
   ]
  },
  {
   "cell_type": "markdown",
   "id": "bbf48ce1",
   "metadata": {},
   "source": [
    "## 2D Array"
   ]
  },
  {
   "cell_type": "code",
   "execution_count": 2,
   "id": "aa974c47",
   "metadata": {},
   "outputs": [
    {
     "name": "stdout",
     "output_type": "stream",
     "text": [
      "Enter number of rows: \n",
      "2\n",
      "Enter number of columns: \n",
      "3\n",
      "[[0, 0, 0], [0, 1, 2]]\n"
     ]
    }
   ],
   "source": [
    "r_num = int(input('Enter number of rows: \\n'))\n",
    "c_num = int(input('Enter number of columns: \\n'))\n",
    "twod_arr = [[0 for  col in range(c_num)] for row in range(r_num)]\n",
    "\n",
    "for row in range(r_num):\n",
    "    for col in range(c_num):\n",
    "        twod_arr[row][col] = row*col\n",
    "print(twod_arr)"
   ]
  },
  {
   "cell_type": "markdown",
   "id": "7db68182",
   "metadata": {},
   "source": [
    "## Deletion in array"
   ]
  },
  {
   "cell_type": "code",
   "execution_count": 3,
   "id": "c932dc63",
   "metadata": {},
   "outputs": [
    {
     "name": "stdout",
     "output_type": "stream",
     "text": [
      "Enter Array size: 3\n",
      "Insert Values in arrat of size:  3\n",
      "1\n",
      "2\n",
      "3\n",
      "1 2 3 \n",
      "\n",
      "Enter elemnt need to be removed:\n",
      "\n",
      "1\n",
      "Element does not exist\n",
      "\n"
     ]
    }
   ],
   "source": [
    "size = int(input(\"Enter Array size: \"))\n",
    "arr= []\n",
    "print('Insert Values in arrat of size: ',size)\n",
    "for i in range(size):\n",
    "    element = input()\n",
    "    arr.append(element)\n",
    "for i in range(len(arr)):\n",
    "    print(end=str(arr[i])+\" \")\n",
    "print('\\n')\n",
    "\n",
    "print('Enter elemnt need to be removed:\\n')\n",
    "rem = int(input())\n",
    "if rem in arr:\n",
    "    arr.remove(rem)\n",
    "    print('Array after removing :',rem)\n",
    "    for i in range(len(arr)):\n",
    "        print(arr[i],end='')\n",
    "else:\n",
    "    print('Element does not exist\\n')"
   ]
  },
  {
   "cell_type": "markdown",
   "id": "7a3940a2",
   "metadata": {},
   "source": [
    "## Sorting in array"
   ]
  },
  {
   "cell_type": "code",
   "execution_count": 4,
   "id": "2b9fca4c",
   "metadata": {},
   "outputs": [
    {
     "name": "stdout",
     "output_type": "stream",
     "text": [
      "10 22 38 45 89 11 \n",
      "\n",
      "Array after sorting: \n",
      "\n",
      "10 11 22 38 45 89 "
     ]
    }
   ],
   "source": [
    "arr = [10,22,38,45,89,11]\n",
    "temp = 0\n",
    "\n",
    "for i in range(len(arr)):\n",
    "    print(end=str(arr[i])+\" \")\n",
    "\n",
    "for i in range(0,len(arr)):\n",
    "    for j in range(i+1,len(arr)):\n",
    "        if (arr[i]>arr[j]):\n",
    "            temp = arr[i]\n",
    "            arr[i]= arr[j]\n",
    "            arr[j] = temp\n",
    "            \n",
    "print('\\n')\n",
    "print('Array after sorting: \\n')\n",
    "\n",
    "for i in range(len(arr)):\n",
    "    print(end=str(arr[i])+\" \")"
   ]
  },
  {
   "cell_type": "markdown",
   "id": "fdbbd60a",
   "metadata": {},
   "source": [
    "## Searching in Array"
   ]
  },
  {
   "cell_type": "code",
   "execution_count": 5,
   "id": "4f56e888",
   "metadata": {},
   "outputs": [
    {
     "name": "stdout",
     "output_type": "stream",
     "text": [
      "10 22 38 45 89 11 \n",
      "Enter element to be searched:\n",
      "\n",
      "45\n",
      "Element 45 is present at position 3\n",
      "\n"
     ]
    }
   ],
   "source": [
    "arr1 = [10,22,38,45,89,11]\n",
    "for i in range(len(arr)):\n",
    "    print(end=str(arr1[i])+\" \")\n",
    "print('\\nEnter element to be searched:\\n')\n",
    "elm = int(input())\n",
    "if elm in arr1:\n",
    "    print(f'Element {elm} is present at position {arr1.index(elm)}\\n')\n",
    "else:\n",
    "    print('Element is not present in the given array!')"
   ]
  },
  {
   "cell_type": "markdown",
   "id": "d8b06958",
   "metadata": {},
   "source": [
    "# Stack"
   ]
  },
  {
   "cell_type": "markdown",
   "id": "ed136d08",
   "metadata": {},
   "source": [
    "## Using List"
   ]
  },
  {
   "cell_type": "code",
   "execution_count": 6,
   "id": "a32a5aeb",
   "metadata": {},
   "outputs": [
    {
     "name": "stdout",
     "output_type": "stream",
     "text": [
      "Enter element to be inserted in stack:\n",
      "\n",
      "15\n",
      "[15]\n",
      "[]\n"
     ]
    }
   ],
   "source": [
    "stack = []\n",
    "print(\"Enter element to be inserted in stack:\\n\")\n",
    "ele = int(input())\n",
    "stack.append(ele)\n",
    "print(stack)\n",
    "stack.pop()\n",
    "print(stack)\n"
   ]
  },
  {
   "cell_type": "markdown",
   "id": "673a00f5",
   "metadata": {},
   "source": [
    "## Using Deque"
   ]
  },
  {
   "cell_type": "code",
   "execution_count": 7,
   "id": "358680fa",
   "metadata": {},
   "outputs": [],
   "source": [
    "from collections import deque"
   ]
  },
  {
   "cell_type": "code",
   "execution_count": 8,
   "id": "92fee36a",
   "metadata": {},
   "outputs": [],
   "source": [
    "deq_stack = deque()"
   ]
  },
  {
   "cell_type": "code",
   "execution_count": 9,
   "id": "280e3588",
   "metadata": {},
   "outputs": [
    {
     "name": "stdout",
     "output_type": "stream",
     "text": [
      "deque(['Hello Kitty'])\n"
     ]
    }
   ],
   "source": [
    "deq_stack.append('Hello Kitty')\n",
    "print(deq_stack)"
   ]
  },
  {
   "cell_type": "code",
   "execution_count": 10,
   "id": "21414183",
   "metadata": {},
   "outputs": [
    {
     "name": "stdout",
     "output_type": "stream",
     "text": [
      "Hello Kitty\n"
     ]
    }
   ],
   "source": [
    "print(deq_stack.pop())\n"
   ]
  },
  {
   "cell_type": "markdown",
   "id": "54218707",
   "metadata": {},
   "source": [
    "## Using Queue"
   ]
  },
  {
   "cell_type": "code",
   "execution_count": 11,
   "id": "3cae7eb4",
   "metadata": {},
   "outputs": [],
   "source": [
    "from queue import LifoQueue"
   ]
  },
  {
   "cell_type": "code",
   "execution_count": 12,
   "id": "48c4f984",
   "metadata": {},
   "outputs": [],
   "source": [
    "lifo_que = LifoQueue(maxsize=3)"
   ]
  },
  {
   "cell_type": "code",
   "execution_count": 13,
   "id": "5c7fa507",
   "metadata": {},
   "outputs": [
    {
     "name": "stdout",
     "output_type": "stream",
     "text": [
      "3\n",
      "True\n",
      "False\n"
     ]
    }
   ],
   "source": [
    "lifo_que.put(56)\n",
    "lifo_que.put(15)\n",
    "lifo_que.put(45)\n",
    "print(lifo_que.qsize())\n",
    "print(lifo_que.full())\n",
    "lifo_que.get()\n",
    "print(lifo_que.full())\n"
   ]
  },
  {
   "cell_type": "markdown",
   "id": "0ec74af2",
   "metadata": {},
   "source": [
    "# Queue"
   ]
  },
  {
   "cell_type": "code",
   "execution_count": 14,
   "id": "a41951cf",
   "metadata": {},
   "outputs": [],
   "source": [
    " class Queue:\n",
    "        def __init__(self):\n",
    "            self.queue = []\n",
    "        def enqueue(self,item):\n",
    "            self.queue.append(item)\n",
    "        def dequeue(self):\n",
    "            if len(self.queue)<1:\n",
    "                return None\n",
    "            self.queue.pop(0)\n",
    "        def display(self):\n",
    "            print(self.queue)\n",
    "        def size(self):\n",
    "            return len(self.queue)"
   ]
  },
  {
   "cell_type": "code",
   "execution_count": 15,
   "id": "fd58fddf",
   "metadata": {},
   "outputs": [],
   "source": [
    "q = Queue()"
   ]
  },
  {
   "cell_type": "code",
   "execution_count": 16,
   "id": "78916e7f",
   "metadata": {},
   "outputs": [
    {
     "name": "stdout",
     "output_type": "stream",
     "text": [
      "[2, 5, 10, 65]\n"
     ]
    }
   ],
   "source": [
    "q.enqueue(2)\n",
    "q.enqueue(5)\n",
    "q.enqueue(10)\n",
    "q.enqueue(65)\n",
    "q.display()"
   ]
  },
  {
   "cell_type": "code",
   "execution_count": 17,
   "id": "7a4f71e9",
   "metadata": {},
   "outputs": [
    {
     "name": "stdout",
     "output_type": "stream",
     "text": [
      "[5, 10, 65]\n"
     ]
    }
   ],
   "source": [
    "q.dequeue()\n",
    "q.display()\n"
   ]
  },
  {
   "cell_type": "markdown",
   "id": "5c668ee3",
   "metadata": {},
   "source": [
    "## Circular Queue"
   ]
  },
  {
   "cell_type": "code",
   "execution_count": 18,
   "id": "1864be29",
   "metadata": {},
   "outputs": [],
   "source": [
    "class circular_queue():\n",
    "    def __init__(self,k):\n",
    "        self.k = k\n",
    "        self.queue = [None]*k\n",
    "        self.head = self.tail = -1\n",
    "    \n",
    "    def enqueue(self,data):\n",
    "#         print(self.head,self.tail)\n",
    "#         print()\n",
    "        if ((self.tail + 1)% self.k == self.head):\n",
    "            print('Circular queue is Full\\n')\n",
    "        elif (self.head== -1):\n",
    "            self.head = 0\n",
    "            self.tail = 0\n",
    "            self.queue[self.tail] = data\n",
    "        else:\n",
    "            self.tail = (self.tail +1)% self.k\n",
    "            self.queue[self.tail] = data\n",
    "    def dequeue(self):\n",
    "        if (self.head == self.tail):\n",
    "            temp = self.queue[self.head]\n",
    "            self.head = -1\n",
    "            self.tail = -1\n",
    "            return temp\n",
    "        else:\n",
    "            temp = self.queue[self.head]\n",
    "            self.head = (self.head + 1)% self.k\n",
    "            return temp\n",
    "    def printQueue(self):\n",
    "        if(self.head == -1):\n",
    "            print('No elements in the cirular Queue is found')\n",
    "        elif (self.tail>= self.head): \n",
    "            for i in range(self.head,self.tail + 1):\n",
    "                print(self.queue[i],end=\" \")\n",
    "            print()\n",
    "        else:\n",
    "            for i in range(self.head,self.k):\n",
    "                print(self.queue[i],end =\" \")\n",
    "            for i in range(0,self.tail + 1):\n",
    "                print(self.queue[i],end =\" \")\n",
    "            print()\n",
    "            \n",
    "            "
   ]
  },
  {
   "cell_type": "code",
   "execution_count": 19,
   "id": "381a7e43",
   "metadata": {},
   "outputs": [],
   "source": [
    "cq = circular_queue(5)"
   ]
  },
  {
   "cell_type": "code",
   "execution_count": 20,
   "id": "8a36b08f",
   "metadata": {},
   "outputs": [
    {
     "name": "stdout",
     "output_type": "stream",
     "text": [
      "Initial Queue values\n",
      "14 8 56 11 44 \n",
      "after deleting value\n",
      "8 56 11 44 \n"
     ]
    }
   ],
   "source": [
    "cq.enqueue(14)\n",
    "cq.enqueue(8)\n",
    "cq.enqueue(56)\n",
    "cq.enqueue(11)\n",
    "cq.enqueue(44)\n",
    "print(\"Initial Queue values\")\n",
    "cq.printQueue()\n",
    "cq.dequeue()\n",
    "print(\"after deleting value\")\n",
    "cq.printQueue()"
   ]
  },
  {
   "cell_type": "markdown",
   "id": "e20489f7",
   "metadata": {},
   "source": [
    "# Linked List"
   ]
  },
  {
   "cell_type": "markdown",
   "id": "cc2a0e44",
   "metadata": {},
   "source": [
    "## Singly Linked List"
   ]
  },
  {
   "cell_type": "code",
   "execution_count": 36,
   "id": "f9778f58",
   "metadata": {},
   "outputs": [],
   "source": [
    "class Node:\n",
    "    def __init__(self,data):\n",
    "        self.data = data\n",
    "        self.next = None\n",
    "class SinglyLinkedList:\n",
    "    def __init__(self):\n",
    "        self.head = None\n",
    "    def traversal(self):\n",
    "        if self.head ==None:\n",
    "            print(\"Singly Linked List is empty \\n\")\n",
    "        else:\n",
    "            temp = self.head\n",
    "            while temp is not None:\n",
    "                print(temp.data,end=\" \")\n",
    "                temp = temp.next\n",
    "    def insert_begin(self,data):\n",
    "        print()\n",
    "        node_begin = Node(data)\n",
    "        node_begin.next = self.head\n",
    "        self.head = node_begin\n",
    "    def insert_end(self,data):\n",
    "        print()\n",
    "        node_end = Node(data)\n",
    "        temp = self.head\n",
    "        while temp.next is not None:\n",
    "            temp = temp.next\n",
    "        temp.next = node_end\n",
    "    def insert_at_position(self,position,data):\n",
    "        print()\n",
    "        node_at_pos = Node(data)\n",
    "        temp = self.head\n",
    "        for i in range(1,position-1):\n",
    "            temp = temp.next\n",
    "        node_at_pos.next = temp.next\n",
    "        temp.next = node_at_pos\n",
    "    def deletion_begin(self):\n",
    "        print()\n",
    "        temp = self.head\n",
    "        self.head = temp.next\n",
    "        temp.head= None\n",
    "    def deletion_end(self):\n",
    "        print()\n",
    "        prev = self.head\n",
    "        temp = prev.next\n",
    "        while temp.next is not None:\n",
    "            temp= temp.next\n",
    "            prev = prev.next\n",
    "        prev.next = None\n",
    "    def deletion_at_position(self,position):\n",
    "        print()\n",
    "        prev = self.head\n",
    "        temp = prev.next\n",
    "        for i in range(1,position-1):\n",
    "            temp = temp.next\n",
    "            prev= prev.next\n",
    "        prev.next = temp.next\n",
    "        temp.next = None\n",
    "        \n",
    "        \n"
   ]
  },
  {
   "cell_type": "code",
   "execution_count": 41,
   "id": "591329b9",
   "metadata": {},
   "outputs": [
    {
     "name": "stdout",
     "output_type": "stream",
     "text": [
      "45 55 58 14 "
     ]
    }
   ],
   "source": [
    "sll = SinglyLinkedList()\n",
    "n1 = Node(45)\n",
    "sll.head = n1\n",
    "n2 = Node(55)\n",
    "n1.next = n2\n",
    "n3 = Node(58)\n",
    "n2.next = n3\n",
    "n4 = Node(14)\n",
    "n3.next = n4\n",
    "\n",
    "sll.traversal()\n",
    "\n"
   ]
  },
  {
   "cell_type": "code",
   "execution_count": 42,
   "id": "a5a77850",
   "metadata": {},
   "outputs": [
    {
     "name": "stdout",
     "output_type": "stream",
     "text": [
      "\n",
      "25 45 55 58 14 "
     ]
    }
   ],
   "source": [
    "# insertion at begining of linked list\n",
    "sll.insert_begin(25)\n",
    "sll.traversal()"
   ]
  },
  {
   "cell_type": "code",
   "execution_count": 43,
   "id": "bfd805b5",
   "metadata": {},
   "outputs": [
    {
     "name": "stdout",
     "output_type": "stream",
     "text": [
      "\n",
      "25 45 55 58 14 15 "
     ]
    }
   ],
   "source": [
    "# inserting at end of linked list\n",
    "sll.insert_end(15)\n",
    "sll.traversal()"
   ]
  },
  {
   "cell_type": "code",
   "execution_count": 44,
   "id": "6effe548",
   "metadata": {},
   "outputs": [
    {
     "name": "stdout",
     "output_type": "stream",
     "text": [
      "\n",
      "25 45 15 55 58 14 15 "
     ]
    }
   ],
   "source": [
    "# inserting at specified node\n",
    "sll.insert_at_position(3,15)\n",
    "sll.traversal()"
   ]
  },
  {
   "cell_type": "code",
   "execution_count": 45,
   "id": "85a91af5",
   "metadata": {},
   "outputs": [
    {
     "name": "stdout",
     "output_type": "stream",
     "text": [
      "\n",
      "45 15 55 58 14 15 "
     ]
    }
   ],
   "source": [
    "# deletion at beginning of linked list\n",
    "sll.deletion_begin()\n",
    "sll.traversal()"
   ]
  },
  {
   "cell_type": "code",
   "execution_count": 46,
   "id": "148d39fd",
   "metadata": {},
   "outputs": [
    {
     "name": "stdout",
     "output_type": "stream",
     "text": [
      "\n",
      "45 15 55 58 14 "
     ]
    }
   ],
   "source": [
    "# deletion at end of linked list\n",
    "sll.deletion_end()\n",
    "sll.traversal()"
   ]
  },
  {
   "cell_type": "code",
   "execution_count": 47,
   "id": "dd763f82",
   "metadata": {},
   "outputs": [
    {
     "name": "stdout",
     "output_type": "stream",
     "text": [
      "\n",
      "45 15 58 14 "
     ]
    }
   ],
   "source": [
    "# deletion at specified node\n",
    "sll.deletion_at_position(3)\n",
    "sll.traversal()"
   ]
  },
  {
   "cell_type": "markdown",
   "id": "af89a109",
   "metadata": {},
   "source": [
    "## Doubly Linked List"
   ]
  },
  {
   "cell_type": "code",
   "execution_count": 151,
   "id": "f5a85761",
   "metadata": {},
   "outputs": [],
   "source": [
    "class Node:\n",
    "    def __init__(self,data):\n",
    "        self.data = data\n",
    "        self.next = None\n",
    "        self.prev = None\n",
    "class DoublyLinkedList:\n",
    "    def __init__(self):\n",
    "        self.head = None\n",
    "    def forward_traversal(self):\n",
    "        if self.head ==None:\n",
    "            print(\"Doubly Linked List is empty \\n\")\n",
    "        else:\n",
    "            temp = self.head\n",
    "            while temp is not None:\n",
    "                print(temp.data,end=\" \")\n",
    "                temp = temp.next\n",
    "                \n",
    "    def backward_traversal(self):\n",
    "        print()\n",
    "        if self.head ==None:\n",
    "            print(\"Doubly Linked List is empty \\n\")\n",
    "        else:\n",
    "            temp = self.head\n",
    "            while temp.next is not None:\n",
    "                temp = temp.next\n",
    "            while temp is not None:\n",
    "                print(temp.data,end=\" \")\n",
    "                temp = temp.prev\n",
    "    def insertion_begin(self,data):\n",
    "        print()\n",
    "        node_begin = Node(data)\n",
    "        temp = self.head\n",
    "        temp.prev = node_begin\n",
    "        node_begin.next = temp\n",
    "        self.head = node_begin\n",
    "    def insertion_end(self,data):\n",
    "        print()\n",
    "        node_end = Node(data)\n",
    "        temp = self.head\n",
    "        while temp.next is not None:\n",
    "            temp = temp.next\n",
    "        temp.next = node_end\n",
    "        node_end.prev = temp\n",
    "    def insertion_at_pos(self,position,data):\n",
    "        print()\n",
    "        node_at_pos = Node(data)\n",
    "        temp = self.head\n",
    "        for i in range(1,position-1):\n",
    "            temp = temp.next\n",
    "        node_at_pos.prev = temp\n",
    "        node_at_pos.next = temp.next\n",
    "        temp.next.prev = node_at_pos\n",
    "        temp.next =node_at_pos\n",
    "    def deletion_begin(self):\n",
    "        print()\n",
    "        temp = self.head\n",
    "        self.head = temp.next\n",
    "        temp.next = None\n",
    "        self.head.prev =None\n",
    "    def deletion_end(self):\n",
    "        print()\n",
    "        prev = self.head\n",
    "        temp = self.head.next\n",
    "        while temp.next is not None:\n",
    "            temp = temp.next\n",
    "            prev = prev.next\n",
    "        prev.next =None\n",
    "        temp.prev = None\n",
    "    def deletion_at_pos(self,position):\n",
    "        print()\n",
    "        temp = self.head.next\n",
    "        before = self.head\n",
    "        for i in range(1,position-1):\n",
    "            temp = temp.next\n",
    "            before = before.next\n",
    "        before.next= temp.next\n",
    "        temp.next.prev = before\n",
    "        temp.next =None\n",
    "        temp.prev =None\n",
    "        \n",
    "            \n",
    "        \n",
    "        \n",
    "        \n",
    "    "
   ]
  },
  {
   "cell_type": "code",
   "execution_count": 152,
   "id": "e9ef256d",
   "metadata": {},
   "outputs": [
    {
     "name": "stdout",
     "output_type": "stream",
     "text": [
      "15 25 18 64 \n",
      "64 18 25 15 "
     ]
    }
   ],
   "source": [
    "dll = DoublyLinkedList()\n",
    "n1 = Node(15)\n",
    "dll.head = n1\n",
    "n2 = Node(25)\n",
    "n2.prev = n1\n",
    "n1.next = n2\n",
    "n3 = Node(18)\n",
    "n3.prev = n2\n",
    "n2.next = n3\n",
    "n4 = Node(64)\n",
    "n4.prev = n3\n",
    "n3.next = n4\n",
    "\n",
    "\n",
    "dll.forward_traversal()\n",
    "dll.backward_traversal()"
   ]
  },
  {
   "cell_type": "code",
   "execution_count": 153,
   "id": "df4d3cef",
   "metadata": {},
   "outputs": [
    {
     "name": "stdout",
     "output_type": "stream",
     "text": [
      "\n",
      "58 15 25 18 64 \n",
      "64 18 25 15 58 "
     ]
    }
   ],
   "source": [
    "#insertion in doubly linked list\n",
    "dll.insertion_begin(58)\n",
    "dll.forward_traversal()\n",
    "dll.backward_traversal()"
   ]
  },
  {
   "cell_type": "code",
   "execution_count": 154,
   "id": "8860122e",
   "metadata": {},
   "outputs": [
    {
     "name": "stdout",
     "output_type": "stream",
     "text": [
      "\n",
      "58 15 25 18 64 49 \n",
      "49 64 18 25 15 58 "
     ]
    }
   ],
   "source": [
    "# insertion at end\n",
    "dll.insertion_end(49)\n",
    "dll.forward_traversal()\n",
    "dll.backward_traversal()"
   ]
  },
  {
   "cell_type": "code",
   "execution_count": 155,
   "id": "6f7cbd58",
   "metadata": {},
   "outputs": [
    {
     "name": "stdout",
     "output_type": "stream",
     "text": [
      "\n",
      "58 15 71 25 18 64 49 \n",
      "49 64 18 25 71 15 58 "
     ]
    }
   ],
   "source": [
    "# insertion at specific position\n",
    "dll.insertion_at_pos(3,71)\n",
    "dll.forward_traversal()\n",
    "dll.backward_traversal()"
   ]
  },
  {
   "cell_type": "code",
   "execution_count": 156,
   "id": "0cbfa2bb",
   "metadata": {},
   "outputs": [
    {
     "name": "stdout",
     "output_type": "stream",
     "text": [
      "\n",
      "15 71 25 18 64 49 "
     ]
    }
   ],
   "source": [
    "# deletion in doubly linkedlist\n",
    "dll.deletion_begin()\n",
    "dll.forward_traversal()"
   ]
  },
  {
   "cell_type": "code",
   "execution_count": 157,
   "id": "2534ce76",
   "metadata": {},
   "outputs": [
    {
     "name": "stdout",
     "output_type": "stream",
     "text": [
      "\n",
      "15 71 25 18 64 "
     ]
    }
   ],
   "source": [
    "# deletion at end in doubly linkedlist\n",
    "dll.deletion_end()\n",
    "dll.forward_traversal()"
   ]
  },
  {
   "cell_type": "code",
   "execution_count": 158,
   "id": "1f34eb74",
   "metadata": {},
   "outputs": [
    {
     "name": "stdout",
     "output_type": "stream",
     "text": [
      "\n",
      "15 71 25 64 "
     ]
    }
   ],
   "source": [
    "dll.deletion_at_pos(4)\n",
    "dll.forward_traversal()"
   ]
  },
  {
   "cell_type": "markdown",
   "id": "a16818e0",
   "metadata": {},
   "source": [
    "# Tree"
   ]
  },
  {
   "cell_type": "markdown",
   "id": "18521387",
   "metadata": {},
   "source": [
    "## Binary Tree"
   ]
  },
  {
   "cell_type": "code",
   "execution_count": 2,
   "id": "dac6fd2c",
   "metadata": {},
   "outputs": [],
   "source": [
    "class Node:\n",
    "    def __init__(self,key):\n",
    "        self.val = key\n",
    "        self.left = None\n",
    "        self.right = None\n",
    "\n",
    "    def traPreOrder(self):\n",
    "        print(self.val,end = \" \")\n",
    "        if self.left:\n",
    "            self.left.traPreOrder()\n",
    "        if self.right:\n",
    "            self.right.traPreOrder()\n",
    "    def traInOrder(self):\n",
    "        if self.left:\n",
    "            self.left.traInOrder()\n",
    "        print(self.val, end=\" \")\n",
    "        if self.right:\n",
    "            self.right.traInOrder()\n",
    "    def traPostOrder(self):\n",
    "        if self.left:\n",
    "            self.left.traPostOrder()\n",
    "        if self.right:\n",
    "            self.right.traPostOrder()\n",
    "        print(self.val,end=' ')\n",
    "\n",
    "\n",
    "        \n",
    "\n",
    "        \n",
    "        "
   ]
  },
  {
   "cell_type": "code",
   "execution_count": 3,
   "id": "6adea688",
   "metadata": {},
   "outputs": [],
   "source": [
    "\n",
    "root = Node(1)\n",
    "root.left = Node(2)               \n",
    "root.right = Node(3)\n",
    "root.left.left = Node(4)\n",
    "\n",
    "        "
   ]
  },
  {
   "cell_type": "code",
   "execution_count": 4,
   "id": "54660b58",
   "metadata": {},
   "outputs": [
    {
     "name": "stdout",
     "output_type": "stream",
     "text": [
      "1 2 4 3 "
     ]
    }
   ],
   "source": [
    "# per order traversal\n",
    "root.traPreOrder()"
   ]
  },
  {
   "cell_type": "code",
   "execution_count": 5,
   "id": "cfe1ec2d",
   "metadata": {},
   "outputs": [
    {
     "name": "stdout",
     "output_type": "stream",
     "text": [
      "4 2 1 3 "
     ]
    }
   ],
   "source": [
    "# InOrder traversal\n",
    "root.traInOrder()"
   ]
  },
  {
   "cell_type": "code",
   "execution_count": 6,
   "id": "27e1b2d4",
   "metadata": {},
   "outputs": [
    {
     "name": "stdout",
     "output_type": "stream",
     "text": [
      "4 2 3 1 "
     ]
    }
   ],
   "source": [
    "# PostOrder Traversal\n",
    "root.traPostOrder()"
   ]
  },
  {
   "cell_type": "markdown",
   "id": "c550d55a",
   "metadata": {},
   "source": [
    "## Binary Search Tree"
   ]
  },
  {
   "cell_type": "code",
   "execution_count": null,
   "id": "5b6aac06",
   "metadata": {},
   "outputs": [],
   "source": [
    "class Node:\n",
    "    def __init__(self,key):\n",
    "        self.val = key\n",
    "        self.left = None\n",
    "        self.right = None\n",
    "        \n",
    "    def traInOrder(self):\n",
    "        if self.left:\n",
    "            self.left.traInOrder()\n",
    "        print(self.val, end=\" \")\n",
    "        if self.right:\n",
    "            self.right.traInOrder("
   ]
  }
 ],
 "metadata": {
  "kernelspec": {
   "display_name": "Python 3 (ipykernel)",
   "language": "python",
   "name": "python3"
  },
  "language_info": {
   "codemirror_mode": {
    "name": "ipython",
    "version": 3
   },
   "file_extension": ".py",
   "mimetype": "text/x-python",
   "name": "python",
   "nbconvert_exporter": "python",
   "pygments_lexer": "ipython3",
   "version": "3.10.1"
  }
 },
 "nbformat": 4,
 "nbformat_minor": 5
}
