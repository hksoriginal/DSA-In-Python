{
 "cells": [
  {
   "cell_type": "code",
   "execution_count": 1,
   "id": "fd8de4e7",
   "metadata": {},
   "outputs": [],
   "source": [
    "# # Efficient Recursion\n",
    "# def fib(n):\n",
    "#     if n <=2:\n",
    "#         return 1\n",
    "#     else:\n",
    "#         return fib(n-1) + fib(n-2)"
   ]
  },
  {
   "cell_type": "code",
   "execution_count": 2,
   "id": "b270a8cb",
   "metadata": {},
   "outputs": [],
   "source": [
    "import time"
   ]
  },
  {
   "cell_type": "code",
   "execution_count": 3,
   "id": "b759a93c",
   "metadata": {},
   "outputs": [],
   "source": [
    "# fib(12)"
   ]
  },
  {
   "cell_type": "code",
   "execution_count": 4,
   "id": "0a2a562c",
   "metadata": {},
   "outputs": [],
   "source": [
    "nums = {} #Memoization\n",
    "def fib(n):\n",
    "    if n <=2:\n",
    "        return 1\n",
    "    if n in nums:\n",
    "        return nums[n]\n",
    "    else:\n",
    "        num = fib(n-1) + fib(n-2)\n",
    "        nums[n] = num\n",
    "        return num\n",
    "    "
   ]
  },
  {
   "cell_type": "code",
   "execution_count": 5,
   "id": "8bfc1ea7",
   "metadata": {},
   "outputs": [
    {
     "data": {
      "text/plain": [
       "222232244629420445529739893461909967206666939096499764990979600"
      ]
     },
     "execution_count": 5,
     "metadata": {},
     "output_type": "execute_result"
    }
   ],
   "source": [
    "fib(300)"
   ]
  },
  {
   "cell_type": "markdown",
   "id": "6d9c12ff",
   "metadata": {},
   "source": [
    "# Recursion"
   ]
  },
  {
   "cell_type": "code",
   "execution_count": 6,
   "id": "e7bfb55a",
   "metadata": {},
   "outputs": [],
   "source": [
    "# longest sequence\n",
    "## Recursive approach\n",
    "def lcs_rec(seq1,seq2,idx1=0,idx2=0):\n",
    "    if idx1 == len(seq1) or idx2 ==len(seq2):\n",
    "        return 0\n",
    "    elif seq1[idx1] == seq2[idx2]:\n",
    "        return 1 + lcs_rec(seq1,seq2,idx1+1,idx2+1)\n",
    "    else:\n",
    "        op1 = lcs_rec(seq1,seq2,idx1+1,idx2)\n",
    "        op2 = lcs_rec(seq1,seq2,idx1,idx2+1)\n",
    "        return max(op1,op2)\n",
    "    "
   ]
  },
  {
   "cell_type": "code",
   "execution_count": 7,
   "id": "25f0bb45",
   "metadata": {},
   "outputs": [
    {
     "name": "stdout",
     "output_type": "stream",
     "text": [
      "Wall time: 385 ms\n"
     ]
    },
    {
     "data": {
      "text/plain": [
       "7"
      ]
     },
     "execution_count": 7,
     "metadata": {},
     "output_type": "execute_result"
    }
   ],
   "source": [
    "%%time\n",
    "s1 = 'serendipitous'\n",
    "s2 = 'precipitaion'\n",
    "lcs_rec(s1,s2)"
   ]
  },
  {
   "cell_type": "markdown",
   "id": "4070251d",
   "metadata": {},
   "source": [
    "# Memoization"
   ]
  },
  {
   "cell_type": "code",
   "execution_count": 8,
   "id": "491a2943",
   "metadata": {},
   "outputs": [],
   "source": [
    "def lcs_memo(seq1,seq2):\n",
    "    memo = {}\n",
    "    def recurse(idx1=0,idx2=0):\n",
    "        key = (idx1,idx2)\n",
    "        if key in memo:\n",
    "            return memo[key]\n",
    "        elif idx1 == len(seq1) or idx2 == len(seq2):\n",
    "            memo[key] = 0\n",
    "        elif seq1[idx1] == seq2[idx2]:\n",
    "            memo[key] = 1 + recurse(idx1+1,idx2+1) \n",
    "        else:\n",
    "            memo[key]=max(recurse(idx1+1,idx2),recurse(idx1,idx2+1))\n",
    "        return memo[key]\n",
    "    return recurse(0,0)"
   ]
  },
  {
   "cell_type": "code",
   "execution_count": 9,
   "id": "3bcb44b2",
   "metadata": {},
   "outputs": [
    {
     "name": "stdout",
     "output_type": "stream",
     "text": [
      "Wall time: 0 ns\n"
     ]
    },
    {
     "data": {
      "text/plain": [
       "7"
      ]
     },
     "execution_count": 9,
     "metadata": {},
     "output_type": "execute_result"
    }
   ],
   "source": [
    "%%time\n",
    "lcs_memo(s1,s2)"
   ]
  },
  {
   "cell_type": "markdown",
   "id": "3907789f",
   "metadata": {},
   "source": [
    "# Dynamic Programming"
   ]
  },
  {
   "cell_type": "code",
   "execution_count": 10,
   "id": "629abad3",
   "metadata": {},
   "outputs": [
    {
     "data": {
      "text/plain": [
       "[[0, 0, 0, 0, 0, 0, 0, 0],\n",
       " [0, 0, 0, 0, 0, 0, 0, 0],\n",
       " [0, 0, 0, 0, 0, 0, 0, 0],\n",
       " [0, 0, 0, 0, 0, 0, 0, 0],\n",
       " [0, 0, 0, 0, 0, 0, 0, 0],\n",
       " [0, 0, 0, 0, 0, 0, 0, 0]]"
      ]
     },
     "execution_count": 10,
     "metadata": {},
     "output_type": "execute_result"
    }
   ],
   "source": [
    "n1,n2 = 6,8\n",
    "[[0 for x in range(n2)] for x in range(n1)]"
   ]
  },
  {
   "cell_type": "code",
   "execution_count": 11,
   "id": "9d030251",
   "metadata": {},
   "outputs": [],
   "source": [
    "\n",
    "def lcs_dp(seq1,seq2):\n",
    "    n1,n2 = len(seq1),len(seq2)\n",
    "    table = [[0 for x in range(n2+1)] for x in range(n1+1)]\n",
    "    for i in range(n1):\n",
    "        for j in range(n2):\n",
    "            if seq1[i] == seq2[j]:\n",
    "                table[i+1][j+1] = 1 + table[i][j]\n",
    "            else:\n",
    "                table[i+1][j+1] = max(table[i][j+1],table[i+1][j])\n",
    "    return table[-1][-1]\n"
   ]
  },
  {
   "cell_type": "code",
   "execution_count": 12,
   "id": "8fca1798",
   "metadata": {},
   "outputs": [
    {
     "data": {
      "text/plain": [
       "7"
      ]
     },
     "execution_count": 12,
     "metadata": {},
     "output_type": "execute_result"
    }
   ],
   "source": [
    "lcs_dp(s1,s2)"
   ]
  },
  {
   "cell_type": "markdown",
   "id": "9957cfec",
   "metadata": {},
   "source": [
    "## Knapsack Problem"
   ]
  },
  {
   "cell_type": "code",
   "execution_count": 13,
   "id": "ab8038ba",
   "metadata": {},
   "outputs": [],
   "source": [
    "def max_profit_recur(weights,profits,capacity,idx=0):\n",
    "    if idx == len(weights):\n",
    "        return 0\n",
    "    elif weights[idx] > capacity:\n",
    "        return max_profit_recur(weights,profits,capacity,idx+1)\n",
    "    else:\n",
    "        op1 = max_profit_recur(weights,profits,capacity,idx+1)\n",
    "        op2 = profits[idx] + max_profit_recur(weights,profits,capacity-weights[idx],idx+1)\n",
    "        return max(op1,op2)\n",
    "    \n",
    "    "
   ]
  },
  {
   "cell_type": "code",
   "execution_count": 14,
   "id": "a990d2a5",
   "metadata": {},
   "outputs": [],
   "source": [
    "capacity = 165\n",
    "weights = [23,31,29,44,53,38,63,85,89,82]\n",
    "profits = [92,57,49,68,60,43,67,84,87,72]"
   ]
  },
  {
   "cell_type": "code",
   "execution_count": 15,
   "id": "1b6923c3",
   "metadata": {},
   "outputs": [
    {
     "name": "stdout",
     "output_type": "stream",
     "text": [
      "Wall time: 0 ns\n"
     ]
    },
    {
     "data": {
      "text/plain": [
       "309"
      ]
     },
     "execution_count": 15,
     "metadata": {},
     "output_type": "execute_result"
    }
   ],
   "source": [
    "%%time\n",
    "max_profit_recur(weights,profits,capacity)"
   ]
  },
  {
   "cell_type": "code",
   "execution_count": 16,
   "id": "1e8a41c7",
   "metadata": {},
   "outputs": [],
   "source": [
    "# Memoization\n",
    "def max_profit_recur(weights,profits,capacity,idx=0):\n",
    "    memo = {}\n",
    "    def rec(capacity,idx=0):\n",
    "        key = (capacity,idx)\n",
    "        if key in memo:\n",
    "            return memo[key]\n",
    "        elif idx == len(weights):\n",
    "            memo[key] = 0\n",
    "        elif weights[idx] > capacity:\n",
    "            memo[key] =  rec(capacity,idx+1)\n",
    "        else:\n",
    "            op1 = rec(capacity,idx+1)\n",
    "            op2 = profits[idx] + rec(capacity-weights[idx],idx+1)\n",
    "            memo[key]= max(op1,op2)\n",
    "        return memo[key]\n",
    "    return rec(capacity,0)"
   ]
  },
  {
   "cell_type": "code",
   "execution_count": 17,
   "id": "44fd18b1",
   "metadata": {},
   "outputs": [
    {
     "name": "stdout",
     "output_type": "stream",
     "text": [
      "Wall time: 1 ms\n"
     ]
    },
    {
     "data": {
      "text/plain": [
       "309"
      ]
     },
     "execution_count": 17,
     "metadata": {},
     "output_type": "execute_result"
    }
   ],
   "source": [
    "%%time\n",
    "max_profit_recur(weights,profits,capacity)"
   ]
  },
  {
   "cell_type": "code",
   "execution_count": 18,
   "id": "9fe7b0af",
   "metadata": {},
   "outputs": [],
   "source": [
    "#Dynamic Programming Solution\n",
    "def max_profit_dp(weights,profits,capacity):\n",
    "    w = len(weights)\n",
    "    table = [[0 for _ in range(capacity+1)] for _ in range(w+1) ]\n",
    "    for i in range(w):\n",
    "        for c in range(1,capacity+1):\n",
    "            if weights[i] > c:\n",
    "                table[i+1][c] = table[i][c]\n",
    "            else:\n",
    "                table[i+1][c] = max(table[i][c],profits[i]+table[i][c-weights[i]])\n",
    "#     print(table)\n",
    "    return table[-1][-1]  "
   ]
  },
  {
   "cell_type": "code",
   "execution_count": 19,
   "id": "32777b75",
   "metadata": {},
   "outputs": [
    {
     "name": "stdout",
     "output_type": "stream",
     "text": [
      "Wall time: 0 ns\n"
     ]
    },
    {
     "data": {
      "text/plain": [
       "309"
      ]
     },
     "execution_count": 19,
     "metadata": {},
     "output_type": "execute_result"
    }
   ],
   "source": [
    "%%time\n",
    "max_profit_dp(weights,profits,capacity)"
   ]
  },
  {
   "cell_type": "markdown",
   "id": "52b3ea8f",
   "metadata": {},
   "source": [
    "# NeetCode Problems"
   ]
  },
  {
   "cell_type": "code",
   "execution_count": 20,
   "id": "0bf590a5",
   "metadata": {},
   "outputs": [],
   "source": [
    " # find targetsum\n",
    "# https://leetcode.com/problems/target-sum/\n",
    "def findTargetSumWays(nums):\n",
    "    dp = {}  #(index,total)\n",
    "    \n",
    "    def backtrack(i,total):\n",
    "        if i == len(nums):\n",
    "            return 1 if total == target else 0\n",
    "        if (i,total) in dp: \n",
    "            return dp[(i,total)]\n",
    "        \n",
    "        dp[(i,total)] = (backtrack(i+1,total+ nums[i]) + backtrack(i+1,total- nums[i]))\n",
    "        return dp[(i,total)]\n",
    "    return backtrack(0,0)"
   ]
  },
  {
   "cell_type": "code",
   "execution_count": 21,
   "id": "c045d24a",
   "metadata": {},
   "outputs": [],
   "source": [
    "# climbing stairs\n",
    "# https://leetcode.com/problems/climbing-stairs/\n",
    "# bottom Up Approach\n",
    "def climbStairs(n):\n",
    "    one, two = 1,1\n",
    "    for i in range(n-1):\n",
    "        temp = one\n",
    "        one = one +  two\n",
    "        two = temp\n",
    "    return one"
   ]
  },
  {
   "cell_type": "code",
   "execution_count": 22,
   "id": "a377d0cc",
   "metadata": {},
   "outputs": [
    {
     "data": {
      "text/plain": [
       "3"
      ]
     },
     "execution_count": 22,
     "metadata": {},
     "output_type": "execute_result"
    }
   ],
   "source": [
    "climbStairs(3)"
   ]
  },
  {
   "cell_type": "code",
   "execution_count": 23,
   "id": "8ff0b8ed",
   "metadata": {},
   "outputs": [],
   "source": [
    "#minimum Cost of tickets\n",
    "# https://leetcode.com/problems/minimum-cost-for-tickets/\n",
    "def mincostTickets(days,costs):\n",
    "    dp ={}\n",
    "    def dfs(i):\n",
    "        if i == len(days):\n",
    "            return 0\n",
    "        if i in dp:\n",
    "            return dp[i]\n",
    "        dp[i] = float('inf')\n",
    "        for d,c in zip([1,7,30],costs):\n",
    "            j = i\n",
    "            while j < len(days) and days[j] < days[i] + d:\n",
    "                j+=1\n",
    "            dp[i]=min(dp[i],c+dfs(j))\n",
    "        return dp[i]\n",
    "    return dfs(0)\n"
   ]
  },
  {
   "cell_type": "code",
   "execution_count": 24,
   "id": "4288c252",
   "metadata": {},
   "outputs": [],
   "source": [
    "# coin change 2\n",
    "# https://leetcode.com/problems/coin-change-ii/\n",
    "def  change(amount,coins):\n",
    "    dp = [[0 for _ in range(len(coins)+1)] for _ in range(amount+1)]\n",
    "    dp[0] = [1]*(len(coins)+1)\n",
    "    \n",
    "    for a in range(1,amount+1):\n",
    "        for i in range(len(coins)-1,-1,-1):\n",
    "            dp[a][i] = dp[a][i+1]\n",
    "            if a - coins[i] >= 0:\n",
    "                dp[a][i] += dp[a-coins[i]][i]\n",
    "    return dp[amount][0]\n"
   ]
  },
  {
   "cell_type": "code",
   "execution_count": 25,
   "id": "0d07a8a3",
   "metadata": {},
   "outputs": [],
   "source": [
    "# word break\n",
    "# https://leetcode.com/problems/word-break/\n",
    "def wordBreak(s,wordDict):\n",
    "    dp = [False]*(len(s)+1)\n",
    "    dp[len(s)] = True\n",
    "    \n",
    "    for i in range(len(s)-1,-1,-1):\n",
    "        for w in wordDict:\n",
    "            if (i + len(w)) <= len(s) and s[i:i+len(w)]==w:\n",
    "                dp[i] = dp[i+len(w)]\n",
    "            if dp[i]:\n",
    "                break\n",
    "    return dp[0]\n",
    "    "
   ]
  },
  {
   "cell_type": "code",
   "execution_count": 26,
   "id": "ccaecab4",
   "metadata": {},
   "outputs": [],
   "source": [
    "s = 'leetcode'\n",
    "dic = ['leet','code']"
   ]
  },
  {
   "cell_type": "code",
   "execution_count": 27,
   "id": "9ddfff75",
   "metadata": {},
   "outputs": [
    {
     "data": {
      "text/plain": [
       "True"
      ]
     },
     "execution_count": 27,
     "metadata": {},
     "output_type": "execute_result"
    }
   ],
   "source": [
    "wordBreak(s,dic)"
   ]
  },
  {
   "cell_type": "code",
   "execution_count": 28,
   "id": "da35e596",
   "metadata": {},
   "outputs": [],
   "source": [
    "# longest palindrome substring\n",
    "# https://leetcode.com/problems/longest-palindromic-substring/\n",
    "def longestPalindrome(s):\n",
    "    res = ''\n",
    "    resLen = 0\n",
    "    \n",
    "    for i in range(len(s)):\n",
    "    #odd lenght\n",
    "        l,r = i,i\n",
    "        while l >=0 and r < len(s) and s[l] == s[r]:\n",
    "            if ( r-l+1) > resLen:\n",
    "                res = s[l:r+1]\n",
    "                resLen = r - l + 1\n",
    "            l-=1 \n",
    "            r+=1\n",
    "        #even lenght\n",
    "        l,r = i,i+1\n",
    "        while l >=0 and r < len(s) and s[l] == s[r]:\n",
    "            if (r - l +1) > resLen:\n",
    "                res = s[l:r+1]\n",
    "                resLen = r - l + 1\n",
    "                l -=1\n",
    "                r+=1\n",
    "    return res"
   ]
  },
  {
   "cell_type": "code",
   "execution_count": 29,
   "id": "a090b2d5",
   "metadata": {},
   "outputs": [],
   "source": [
    "# decode ways\n",
    "## Recursive approach\n",
    "# https://leetcode.com/problems/decode-ways/\n",
    "def numDecodings(s):\n",
    "    dp = {len(s):1}\n",
    "    def dfs(i):\n",
    "        if i in dp:\n",
    "            return dp[i]\n",
    "        if s[i] == '0':\n",
    "            return 0\n",
    "        res = dfs(i+1)\n",
    "        if (i+1 < len(s) and (s[i] == '1' or s[i] == '2' and s[i+1] in \"0123456\")):\n",
    "            res+=dfs(i+2)\n",
    "        dp[i] = res\n",
    "        return res\n",
    "    return dfs(0)\n",
    "            \n",
    "    "
   ]
  },
  {
   "cell_type": "code",
   "execution_count": 30,
   "id": "67f5dc67",
   "metadata": {},
   "outputs": [],
   "source": [
    "# dp approach\n",
    "def numDecodings(s):\n",
    "    dp = {len(s):1}\n",
    "    for i in range(len(s)-1,-1,-1):\n",
    "        if s[i] =='0':\n",
    "            dp[i] = 0\n",
    "        else:\n",
    "            dp[i] = dp[i+1]\n",
    "        if (i+1 < len(s) and (s[i] == '1' or s[i] == '2' and s[i+1] in \"0123456\")):\n",
    "            dp[i]+=dp[i+2]\n",
    "    return dp[0]\n",
    "            "
   ]
  },
  {
   "cell_type": "code",
   "execution_count": 31,
   "id": "0330a0c0",
   "metadata": {},
   "outputs": [],
   "source": [
    "#house robber\n",
    "# https://leetcode.com/problems/house-robber/\n",
    "def rob(nums):\n",
    "    rob1,rob2 = 0,0\n",
    "    \n",
    "    for n in nums:\n",
    "        temp = max(n+rob1,rob2)\n",
    "        rob1=rob2\n",
    "        rob2 = temp\n",
    "    return rob2"
   ]
  },
  {
   "cell_type": "code",
   "execution_count": 32,
   "id": "36974f12",
   "metadata": {},
   "outputs": [],
   "source": [
    "# interleaving string\n",
    "# https://leetcode.com/problems/interleaving-string/\n",
    "def isInterleave(s1,s2,s3):\n",
    "    if len(s1) + len(s2) != len(s3):\n",
    "        return False\n",
    "    \n",
    "    \n",
    "    dp = [[False]*(len(s2)+1) for _ in range(len(s1)+1)]\n",
    "    dp[len(s1)][len(s2)] = True\n",
    "    \n",
    "    for i in range(len(s1),-1,-1):\n",
    "        for j in range(len(s2),-1,-1):\n",
    "            if i < len(s1) and s1[i] == s3[i + j] and dp[i+1][j]:\n",
    "                dp[i][j] =True\n",
    "            if j < len(s2) and s2[j] == s3[i + j] and dp[i][j+1]:\n",
    "                dp[i][j] =True\n",
    "                \n",
    "    return dp[0][0]\n",
    "        \n",
    "        "
   ]
  },
  {
   "cell_type": "code",
   "execution_count": 33,
   "id": "fa12e87a",
   "metadata": {},
   "outputs": [],
   "source": [
    "#housr robber 2\n",
    "# https://leetcode.com/problems/house-robber-ii/\n",
    "def rob(nums):\n",
    "    return max(nums[0],helper(nums[1:]), helper(nums[:-1]))\n",
    "    \n",
    "    \n",
    "def helper(nums):\n",
    "    rob1 , rob2 = 0,0\n",
    "    for n in nums:\n",
    "        newRob = max(rob1 + n,rob2)\n",
    "        rob1 = rob2\n",
    "        rob2 = newRob\n",
    "    return rob2"
   ]
  },
  {
   "cell_type": "code",
   "execution_count": 34,
   "id": "cd9100d8",
   "metadata": {},
   "outputs": [],
   "source": [
    "#paint house\n",
    "# https://www.lintcode.com/problem/515/\n",
    "def minCost(costs):\n",
    "    dp = [0,0,0]\n",
    "    for i in range(len(costs)):\n",
    "        dp0 = costs[i][0] + min(dp[1],dp[2])\n",
    "        dp1 = costs[i][1] + min(dp[0],dp[2])\n",
    "        dp2 = costs[i][2] + min(dp[0],dp[1])\n",
    "        dp = [dp0,dp1,dp2]\n",
    "    return min(dp)\n",
    "        \n",
    "        "
   ]
  },
  {
   "cell_type": "code",
   "execution_count": 35,
   "id": "b806abc0",
   "metadata": {},
   "outputs": [],
   "source": [
    "# longest increasing Subsequence\n",
    "# https://leetcode.com/problems/longest-increasing-subsequence/\n",
    "def lengthOfLIS(nums):\n",
    "    LIS = [1]*len(nums)\n",
    "    for i  in range(len(nums)-1,-1,-1):\n",
    "        for j in range(i+1,len(nums)):\n",
    "            if nums[i] < nums[j]:\n",
    "                LIS[i] = max(LIS[i],1 + LIS[j])\n",
    "    return max(LIS)"
   ]
  },
  {
   "cell_type": "code",
   "execution_count": 36,
   "id": "d4a34a71",
   "metadata": {},
   "outputs": [],
   "source": [
    "sub =  [10,9,2,5,3,7,101,18]"
   ]
  },
  {
   "cell_type": "code",
   "execution_count": 37,
   "id": "7399ff91",
   "metadata": {},
   "outputs": [
    {
     "data": {
      "text/plain": [
       "4"
      ]
     },
     "execution_count": 37,
     "metadata": {},
     "output_type": "execute_result"
    }
   ],
   "source": [
    "lengthOfLIS(sub)"
   ]
  },
  {
   "cell_type": "code",
   "execution_count": 38,
   "id": "bc13a7db",
   "metadata": {},
   "outputs": [],
   "source": [
    "# maximum product Subarray\n",
    "# https://leetcode.com/problems/maximum-product-subarray/\n",
    "def maxProduct(nums):\n",
    "    res = max(nums)\n",
    "    curMin,curMax = 1,1\n",
    "    \n",
    "    for n in nums:\n",
    "        if n == 0:\n",
    "            curMin,curMax = 1,1\n",
    "            continue\n",
    "        tmp = curMax*n\n",
    "        curMax = max(n*curMax,n*curMin,n)\n",
    "        curMin = min(tmp,n*curMin,n)\n",
    "        res = max(res,curMax)\n",
    "    return res\n",
    "        \n",
    "    "
   ]
  },
  {
   "cell_type": "code",
   "execution_count": 39,
   "id": "55bf7033",
   "metadata": {},
   "outputs": [],
   "source": [
    "# Coin Change\n",
    "# https://leetcode.com/problems/coin-change/\n",
    "def coinChange(coins,amount):\n",
    "    dp = [amount + 1]*len((amount)+1)\n",
    "    print(dp)\n",
    "    dp[0] = 0\n",
    "    \n",
    "    for a in range(1,amount+1):\n",
    "        for c in coins:\n",
    "            if a - c >= 0:\n",
    "                dp[a] = min(dp[a], 1 + dp[a-c])\n",
    "                \n",
    "            \n",
    "    return dp[amount] if dp[amount] != amount + 1 else -1\n",
    "    "
   ]
  },
  {
   "cell_type": "code",
   "execution_count": 40,
   "id": "90fd6814",
   "metadata": {},
   "outputs": [],
   "source": [
    "# Maximum Square\n",
    "# https://leetcode.com/problems/maximal-square/\n",
    "\n",
    "#recursive approach (memoization)\n",
    "def maximalSqaure(matrix):\n",
    "    ROWS,COLS = len(matrix),len(matrix[0])\n",
    "    cache = {} \n",
    "    def helper(r,c):\n",
    "        if r>=ROWS or c >= COLS:\n",
    "            return 0\n",
    "        if (r,c)  not in cache:\n",
    "            down = helper(r+1,c)\n",
    "            right = helper(r,c+1)\n",
    "            diag = helper(r+1,c+1)\n",
    "            \n",
    "            cache[(r,c)] = 0\n",
    "            if matrix[r][c] =='1':\n",
    "                cache[(r,c)] = 1 + min(down,right,diag)\n",
    "            \n",
    "        \n",
    "        return cache[(r,c)] \n",
    "    \n",
    "    helper(0,0)\n",
    "    return max(cache.values()) ** 2"
   ]
  },
  {
   "cell_type": "code",
   "execution_count": 41,
   "id": "bbc1c0be",
   "metadata": {},
   "outputs": [],
   "source": [
    "# dynamic approach\n",
    "def maximalSquare(matrix):\n",
    "    ROWS,COLS = len(matrix),len(matrix[0])\n",
    "    dp = [[0 for _ in range(ROWS+1)] for _ in range(COLS+1)]\n",
    "    res = 0\n",
    "    for i in range(1,ROWS):\n",
    "        for j in range(1,COLS):\n",
    "            if matrix[i-1][j-1] =='1':\n",
    "                dp[i][j] = 1 + min(dp[i-1][j],dp[i][j-1],dp[i-1][j-1])\n",
    "                if res < dp[i][j]:\n",
    "                    res = dp[i][j]\n",
    "            \n",
    "    return res**2\n",
    "            "
   ]
  },
  {
   "cell_type": "code",
   "execution_count": 44,
   "id": "2bdfc115",
   "metadata": {},
   "outputs": [],
   "source": [
    "#triangle\n",
    "# https://leetcode.com/problems/triangle/\n",
    "def minimumTotal(triangle):\n",
    "    dp = [0]*(len(triangle)+1)\n",
    "    for row in triangle[::-1]:\n",
    "        for i,n in enumerate(row):\n",
    "            dp[i] = n + min(dp[i],dp[i+1])\n",
    "            print(dp)\n",
    "            \n",
    "    return dp[0]\n",
    "    "
   ]
  },
  {
   "cell_type": "code",
   "execution_count": 48,
   "id": "e8bd008b",
   "metadata": {},
   "outputs": [
    {
     "data": {
      "text/plain": [
       "[[4, 1, 8, 3], [6, 5, 7], [3, 4], [2]]"
      ]
     },
     "execution_count": 48,
     "metadata": {},
     "output_type": "execute_result"
    }
   ],
   "source": [
    "tri = [[2],[3,4],[6,5,7],[4,1,8,3]]\n",
    "tri[::-1]"
   ]
  },
  {
   "cell_type": "code",
   "execution_count": 46,
   "id": "478a547d",
   "metadata": {},
   "outputs": [
    {
     "name": "stdout",
     "output_type": "stream",
     "text": [
      "[4, 0, 0, 0, 0]\n",
      "[4, 1, 0, 0, 0]\n",
      "[4, 1, 8, 0, 0]\n",
      "[4, 1, 8, 3, 0]\n",
      "[7, 1, 8, 3, 0]\n",
      "[7, 6, 8, 3, 0]\n",
      "[7, 6, 10, 3, 0]\n",
      "[9, 6, 10, 3, 0]\n",
      "[9, 10, 10, 3, 0]\n",
      "[11, 10, 10, 3, 0]\n"
     ]
    },
    {
     "data": {
      "text/plain": [
       "11"
      ]
     },
     "execution_count": 46,
     "metadata": {},
     "output_type": "execute_result"
    }
   ],
   "source": [
    "minimumTotal(tri)"
   ]
  },
  {
   "cell_type": "code",
   "execution_count": 55,
   "id": "8d394938",
   "metadata": {},
   "outputs": [],
   "source": [
    "# unique binary search trees\n",
    "# https://leetcode.com/problems/unique-binary-search-trees/\n",
    "def numTrees(n):\n",
    "    numTree = [1] * (n+1)\n",
    "    # 0 nodes = 1 tree\n",
    "    # 1 nodes = 1 tree\n",
    "    for nodes in range(2,n + 1):\n",
    "        total = 0\n",
    "        for root in range(1,nodes + 1):\n",
    "            left = root - 1\n",
    "            right = nodes - root\n",
    "            total+=numTree[left]* numTree[right]\n",
    "        numTree[nodes] = total\n",
    "    return numTree[n]\n",
    "            \n",
    "        "
   ]
  },
  {
   "cell_type": "code",
   "execution_count": 56,
   "id": "4a50797e",
   "metadata": {},
   "outputs": [
    {
     "data": {
      "text/plain": [
       "5"
      ]
     },
     "execution_count": 56,
     "metadata": {},
     "output_type": "execute_result"
    }
   ],
   "source": [
    "numTrees(3)"
   ]
  },
  {
   "cell_type": "code",
   "execution_count": 57,
   "id": "d72dce06",
   "metadata": {},
   "outputs": [],
   "source": [
    "# jump game\n",
    "# https://leetcode.com/problems/jump-game/\n",
    "## Breedy solution\n",
    "def canJump(nums):\n",
    "    goal = len(nums)-1\n",
    "    for i in range(len(nums)-1,-1,-1):\n",
    "        if i + nums[i] >= goal:\n",
    "            goal = i\n",
    "    return True if goal == 0 else False"
   ]
  },
  {
   "cell_type": "code",
   "execution_count": 89,
   "id": "68f85be4",
   "metadata": {},
   "outputs": [],
   "source": [
    "# jump game 2\n",
    "# https://leetcode.com/problems/jump-game-ii/\n",
    "def jump(nums):\n",
    "    res = 0\n",
    "    l = r = 0\n",
    "    while r < len(nums)-1:\n",
    "        farthest = 0\n",
    "        for i in range(l,r+1):\n",
    "            farthest = max(farthest,i + nums[i])\n",
    "        l=r+1\n",
    "        r = farthest\n",
    "        res+=1\n",
    "    return res\n",
    "    \n",
    "    "
   ]
  },
  {
   "cell_type": "code",
   "execution_count": 90,
   "id": "ee50179e",
   "metadata": {},
   "outputs": [],
   "source": [
    "jum = [2,3,1,1,4]"
   ]
  },
  {
   "cell_type": "code",
   "execution_count": 91,
   "id": "a065ac36",
   "metadata": {},
   "outputs": [
    {
     "data": {
      "text/plain": [
       "2"
      ]
     },
     "execution_count": 91,
     "metadata": {},
     "output_type": "execute_result"
    }
   ],
   "source": [
    "jump(jum)"
   ]
  },
  {
   "cell_type": "code",
   "execution_count": 100,
   "id": "9a19ce43",
   "metadata": {},
   "outputs": [],
   "source": [
    "# unique path\n",
    "# https://leetcode.com/problems/unique-paths/\n",
    "def uniquePaths(m,n):\n",
    "    row = [1] *  n\n",
    "    \n",
    "    for i in range(m-1):\n",
    "        newRow = [1] * n\n",
    "        for j in range(n-2,-1,-1):\n",
    "            newRow[j] = newRow[j+1] + row[j]\n",
    "#             print()\n",
    "#             print(newRow)\n",
    "#             print(row)\n",
    "          \n",
    "        row = newRow\n",
    "    return row[0]\n",
    "            \n",
    "    "
   ]
  },
  {
   "cell_type": "code",
   "execution_count": 101,
   "id": "fb2888bd",
   "metadata": {},
   "outputs": [
    {
     "data": {
      "text/plain": [
       "28"
      ]
     },
     "execution_count": 101,
     "metadata": {},
     "output_type": "execute_result"
    }
   ],
   "source": [
    "uniquePaths(3,7)"
   ]
  },
  {
   "cell_type": "code",
   "execution_count": 114,
   "id": "8b7dc0fc",
   "metadata": {},
   "outputs": [],
   "source": [
    "# Perfect Square\n",
    "# https://leetcode.com/problems/perfect-squares/\n",
    "def numSquares(n):\n",
    "    dp=[n]*(n+1)\n",
    "    dp[0] = 0\n",
    "    for target in range(1,n+1):\n",
    "        for sq in range(1,target+1):\n",
    "            square = sq * sq\n",
    "            if target - square < 0:\n",
    "                break\n",
    "            dp[target] = min(dp[target],1 + dp[target - square])\n",
    "    return dp[n]\n",
    "        \n",
    "                "
   ]
  },
  {
   "cell_type": "code",
   "execution_count": 115,
   "id": "16f2f819",
   "metadata": {},
   "outputs": [
    {
     "data": {
      "text/plain": [
       "3"
      ]
     },
     "execution_count": 115,
     "metadata": {},
     "output_type": "execute_result"
    }
   ],
   "source": [
    "numSquares(12)"
   ]
  },
  {
   "cell_type": "code",
   "execution_count": null,
   "id": "cdb87b58",
   "metadata": {},
   "outputs": [],
   "source": []
  },
  {
   "cell_type": "code",
   "execution_count": null,
   "id": "c036573d",
   "metadata": {},
   "outputs": [],
   "source": []
  }
 ],
 "metadata": {
  "kernelspec": {
   "display_name": "Python 3 (ipykernel)",
   "language": "python",
   "name": "python3"
  },
  "language_info": {
   "codemirror_mode": {
    "name": "ipython",
    "version": 3
   },
   "file_extension": ".py",
   "mimetype": "text/x-python",
   "name": "python",
   "nbconvert_exporter": "python",
   "pygments_lexer": "ipython3",
   "version": "3.7.0"
  }
 },
 "nbformat": 4,
 "nbformat_minor": 5
}
