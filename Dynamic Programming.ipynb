{
 "cells": [
  {
   "cell_type": "code",
   "execution_count": 3,
   "id": "fd8de4e7",
   "metadata": {},
   "outputs": [],
   "source": [
    "# # Efficient Recursion\n",
    "# def fib(n):\n",
    "#     if n <=2:\n",
    "#         return 1\n",
    "#     else:\n",
    "#         return fib(n-1) + fib(n-2)"
   ]
  },
  {
   "cell_type": "code",
   "execution_count": 4,
   "id": "b759a93c",
   "metadata": {},
   "outputs": [
    {
     "data": {
      "text/plain": [
       "144"
      ]
     },
     "execution_count": 4,
     "metadata": {},
     "output_type": "execute_result"
    }
   ],
   "source": [
    "# fib(12)"
   ]
  },
  {
   "cell_type": "code",
   "execution_count": 22,
   "id": "0a2a562c",
   "metadata": {},
   "outputs": [],
   "source": [
    "nums = {} #Memoization\n",
    "def fib(n):\n",
    "    if n <=2:\n",
    "        return 1\n",
    "    if n in nums:\n",
    "        return nums[n]\n",
    "    else:\n",
    "        num = fib(n-1) + fib(n-2)\n",
    "        nums[n] = num\n",
    "        return num\n",
    "    "
   ]
  },
  {
   "cell_type": "code",
   "execution_count": 21,
   "id": "8bfc1ea7",
   "metadata": {},
   "outputs": [
    {
     "data": {
      "text/plain": [
       "222232244629420445529739893461909967206666939096499764990979600"
      ]
     },
     "execution_count": 21,
     "metadata": {},
     "output_type": "execute_result"
    }
   ],
   "source": [
    "fib(300)"
   ]
  },
  {
   "cell_type": "code",
   "execution_count": null,
   "id": "e7bfb55a",
   "metadata": {},
   "outputs": [],
   "source": []
  }
 ],
 "metadata": {
  "kernelspec": {
   "display_name": "Python 3 (ipykernel)",
   "language": "python",
   "name": "python3"
  },
  "language_info": {
   "codemirror_mode": {
    "name": "ipython",
    "version": 3
   },
   "file_extension": ".py",
   "mimetype": "text/x-python",
   "name": "python",
   "nbconvert_exporter": "python",
   "pygments_lexer": "ipython3",
   "version": "3.7.0"
  }
 },
 "nbformat": 4,
 "nbformat_minor": 5
}
